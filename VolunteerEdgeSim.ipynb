{
  "cells": [
    {
      "cell_type": "markdown",
      "metadata": {
        "id": "g6eFu-rFyg18"
      },
      "source": [
        "# Distributed system optimization\n",
        "\n",
        "Tho objective of this code is to develope an environment for the simulation of different distributed networks.\n",
        "These networks are composed of clouds, edges, volunteers and a local device.\n",
        "The simulation environment generates a set of tasks that must be divided between the devices for the computation according to some rule (e.g. minimize the execution time, minimize the energy consumption, etc.).\n",
        "\n"
      ]
    },
    {
      "cell_type": "markdown",
      "metadata": {
        "id": "K2Enl_HwWW_r"
      },
      "source": [
        "**Units system**\n",
        "\n",
        "Throughout this code, we will always use the following units:\n",
        "\n",
        "* [CPUspeed] = MHz\n",
        "\n",
        "* [Distances] = m\n",
        "\n",
        "* [Time] = s\n",
        "\n",
        "* [CPUcycles] = million CPU cycles\n",
        "\n",
        "* [Memory] = Mb\n",
        "\n",
        "* [bandwidth] = Mbit / s\n",
        "\n",
        "\n"
      ]
    },
    {
      "cell_type": "markdown",
      "source": [
        "## Libraries import and global variables"
      ],
      "metadata": {
        "id": "IZ0_K4MO0ddj"
      }
    },
    {
      "cell_type": "code",
      "execution_count": 1,
      "metadata": {
        "id": "zGoyuZKBzY24"
      },
      "outputs": [],
      "source": [
        "import numpy as np\n",
        "import datetime\n",
        "import copy\n",
        "import plotly.express as px\n",
        "import pandas as pd\n",
        "from matplotlib import pyplot as plt\n",
        "import datetime\n",
        "import random"
      ]
    },
    {
      "cell_type": "code",
      "source": [
        "# Global variables\n",
        "volunteerTrustTreshold = 0.3\n",
        "simulationLength = 3600 * 6 #[seconds]\n",
        "volunteerTimeoutTreshold = datetime.timedelta(seconds=simulationLength * .1)\n",
        "transitionCoefficient = 1 # Coefficient for transforming energy cost into time cost"
      ],
      "metadata": {
        "id": "kmodAirTRI6Z"
      },
      "execution_count": 2,
      "outputs": []
    },
    {
      "cell_type": "markdown",
      "metadata": {
        "id": "18P_UlQtyuuG"
      },
      "source": [
        "## General unit\n",
        "This class is the parent class for all the devices (cloud, edge, vlounteer and localDevice)."
      ]
    },
    {
      "cell_type": "code",
      "execution_count": 3,
      "metadata": {
        "id": "Tg8VxaF2yH4a"
      },
      "outputs": [],
      "source": [
        "class GeneralUnit:\n",
        "  __slots__ = ['name', 'location', 'capacity', 'costRate', 'connection', 'energy']\n",
        "\n",
        "  def __init__(self, **kwargs):\n",
        "    for key, value in kwargs.items():\n",
        "      setattr(self, key, value)\n",
        "    self.transmissionPower = 10 #[dBm]\n",
        "    self.transmissionPower = 10**(self.transmissionPower/10) # [mW]\n",
        "    self.fadingCoeff = 0.7\n",
        "    self.noisePower  = 0.008 * self.transmissionPower * \\\n",
        "      self.fadingCoeff * self.fadingCoeff # [mW]\n",
        "    self.pathLossExponent = 2.5\n",
        "\n",
        "    # The endTime of a unit is the time at which it finished its last job\n",
        "    self.endTime = datetime.datetime.now()\n",
        "    self.log = {'taskIDs':[], 'taskExecutionTime':[], 'taskArrivalTime':[],\n",
        "                'taskEndTime':[]}\n",
        "\n",
        "\n",
        "\n",
        "  def computeExecutionTime(self, _task, considerEnergy = True):\n",
        "    computationTime = _task.CPUcycles / self.capacity['CPUspeed']\n",
        "    dataTransferTime = 0\n",
        "    if self.getType() != \"myDevice\":\n",
        "      dataTransferTime = _task.memorySize / self.connection['bandwidth'] \\\n",
        "        + self.connection['latency']\n",
        "\n",
        "\n",
        "    totalEnergy = 0\n",
        "\n",
        "\n",
        "    if considerEnergy:\n",
        "\n",
        "      computationEnergy = computationTime * self.energy['CPUEnergy'] / 3600\n",
        "\n",
        "      dataTransferEnergy = 0\n",
        "      if self.getType() != \"myDevice\":\n",
        "        dataTransferEnergy = _task.memorySize * self.energy['bandwidthEnergy'] \\\n",
        "                              * dataTransferTime / 3600\n",
        "\n",
        "      totalEnergy  = dataTransferEnergy + computationEnergy\n",
        "\n",
        "      #print(\"\\n dataTransferEnergy: \", dataTransferEnergy , \"    computationEnergy\",  computationEnergy)\n",
        "\n",
        "    totalEnergy = transitionCoefficient * totalEnergy\n",
        "\n",
        "    #print(\"\\n totalEnergy: \", totalEnergy, \"    computationTime\", computationTime)\n",
        "\n",
        "    return datetime.timedelta(seconds=computationTime + dataTransferTime + \\\n",
        "                              self.getWirelessTransferTime(_task.memorySize) +\\\n",
        "                              totalEnergy)\n",
        "\n",
        "\n",
        "  def getWirelessTransferTime(self, _taskMemorySize):\n",
        "      wirelessTransferTime = 0 #[s]\n",
        "      if self.location > 0.0:\n",
        "        wirelessTransferTime = self.connection['bandwidth'] * \\\n",
        "          np.log2(1 + (self.transmissionPower * self.fadingCoeff * \\\n",
        "                      self.fadingCoeff) / (self.noisePower * \\\n",
        "                                          self.location**self.pathLossExponent))\n",
        "      return wirelessTransferTime\n",
        "\n",
        "\n",
        "\n",
        "  def assignTask(self, _task):\n",
        "    execTime = self.computeExecutionTime(_task)\n",
        "\n",
        "    if self.endTime < _task.arrivalTime: # unit queue is empty\n",
        "       self.endTime = _task.arrivalTime + execTime\n",
        "    else: # the tasks goes in the queue\n",
        "      self.endTime = self.endTime + execTime\n",
        "\n",
        "    taskStartTime = self.endTime - execTime\n",
        "    _task.assign(taskStartTime, self.endTime, self.name)\n",
        "    if _task.endTime <= _task.startTime:\n",
        "      raise TypeError(\"The task computation of exeTime went wrong\")\n",
        "\n",
        "    self.append2log(_task.id, _task.getExecutionTime(), _task.arrivalTime,\n",
        "                    _task.endTime)\n",
        "\n",
        "  def append2log(self, _taskID, _taskExecutionTime, _taskArrivalTime,\n",
        "                _taskEndTime):\n",
        "    self.log['taskIDs'].append(_taskID)\n",
        "    self.log['taskExecutionTime'].append(_taskExecutionTime)\n",
        "    self.log['taskArrivalTime'].append(_taskArrivalTime)\n",
        "    self.log['taskEndTime'].append(_taskEndTime)\n",
        "\n",
        "  def printLog(self):\n",
        "    print(\"Log of unit: \", self.name)\n",
        "    print(\"Unit type: \", self.getType())\n",
        "    print(\"Assigned tasks: \",  self.log['taskIDs'])\n",
        "\n",
        "  def getType(self):\n",
        "    return 'General unit'\n"
      ]
    },
    {
      "cell_type": "markdown",
      "metadata": {
        "id": "09_DOeWey1nU"
      },
      "source": [
        "### Could"
      ]
    },
    {
      "cell_type": "code",
      "execution_count": 4,
      "metadata": {
        "id": "_IvQh9FN4Ap5"
      },
      "outputs": [],
      "source": [
        "class Cloud(GeneralUnit):\n",
        "  def __init__(self, **kwargs):\n",
        "    super().__init__(**kwargs)\n",
        "\n",
        "  def getType(self):\n",
        "    return 'cloud'\n"
      ]
    },
    {
      "cell_type": "markdown",
      "metadata": {
        "id": "ejaFAsnq4JPC"
      },
      "source": [
        "### Edge"
      ]
    },
    {
      "cell_type": "code",
      "execution_count": 5,
      "metadata": {
        "id": "ooiJrCJl4MiY"
      },
      "outputs": [],
      "source": [
        "class Edge(GeneralUnit):\n",
        "  def __init__(self, **kwargs):\n",
        "    super().__init__(**kwargs)\n",
        "\n",
        "  def getType(self):\n",
        "    return 'edge'"
      ]
    },
    {
      "cell_type": "markdown",
      "metadata": {
        "id": "XDEUqmcX4ToH"
      },
      "source": [
        "### Volunteer"
      ]
    },
    {
      "cell_type": "code",
      "execution_count": 6,
      "metadata": {
        "id": "BlSe6rUv4XeI"
      },
      "outputs": [],
      "source": [
        "class Volunteer(GeneralUnit):\n",
        "  def __init__(self, _trust, _availability, **kwargs):\n",
        "    super().__init__(**kwargs)\n",
        "    self.trust = _trust\n",
        "    self.availability = _availability\n",
        "    self.NexecutedTasks = 0\n",
        "    self.lastShutdownTime = datetime.datetime.now()\n",
        "\n",
        "  def getType(self):\n",
        "    return 'volunteer'\n",
        "\n",
        "  def shutDown(self, _shutDownTime = datetime.datetime.now()):\n",
        "    self.availability = 0\n",
        "    self.lastShutdownTime = _shutDownTime\n",
        "    notExecutedTasksID = []\n",
        "    for taskI in range(len(self.log['taskIDs'])):\n",
        "      if(self.log['taskEndTime'][taskI] >= _shutDownTime):\n",
        "        notExecutedTasksID = self.log['taskIDs'][taskI:]\n",
        "        del self.log['taskIDs'][taskI:]\n",
        "        del self.log['taskExecutionTime'][taskI:]\n",
        "        del self.log['taskArrivalTime'][taskI:]\n",
        "        del self.log['taskEndTime'][taskI:]\n",
        "        break\n",
        "    NcurrentExecutedTasks = len(self.log['taskIDs']) - self.NexecutedTasks\n",
        "    NnotExecutedTasks = len(notExecutedTasksID)\n",
        "    self.NexecutedTasks = len(self.log['taskIDs'])\n",
        "\n",
        "    self.trust = self.trust * (NcurrentExecutedTasks + 2) / \\\n",
        "      (NnotExecutedTasks + NcurrentExecutedTasks + 2)\n",
        "    return notExecutedTasksID\n",
        "\n",
        "  def turnOn(self):\n",
        "    self.availability = 1\n",
        "\n",
        "  def restoreTrust(self):\n",
        "    self.trust = 0.5\n",
        "\n",
        "  # The untrusted time is the time passed between the last shutdown and the\n",
        "  # current time\n",
        "  def getUntrustedTime(self, _time):\n",
        "    return _time - self.lastShutdownTime\n"
      ]
    },
    {
      "cell_type": "markdown",
      "metadata": {
        "id": "3nOGes934bho"
      },
      "source": [
        "### Local device"
      ]
    },
    {
      "cell_type": "code",
      "execution_count": 7,
      "metadata": {
        "id": "Q_c0gZ3k4hPH"
      },
      "outputs": [],
      "source": [
        "class LocalDevice(GeneralUnit):\n",
        "  def __init__(self, **kwargs):\n",
        "    kwargs['name'] = \"myDevice\"\n",
        "    kwargs['location'] = 0\n",
        "    kwargs['costRate'] = 0\n",
        "    super().__init__(**kwargs)\n",
        "\n",
        "  def getType(self):\n",
        "    return 'localDevice'"
      ]
    },
    {
      "cell_type": "markdown",
      "metadata": {
        "id": "LEEV_Z6EyxuT"
      },
      "source": [
        "## Tasks class"
      ]
    },
    {
      "cell_type": "code",
      "execution_count": 8,
      "metadata": {
        "id": "hlz6YL-u9KQW"
      },
      "outputs": [],
      "source": [
        "class Task:\n",
        "  __slots__ = ['id', 'type', 'priority', 'arrivalTime', 'deadlineTime',\n",
        "               'delayTolerance', 'CPUcycles', 'memorySize', 'incentive',\n",
        "               'startTime', 'endTime', 'wastedTime',\n",
        "               'assignedUnit', 'successFlag', 'assignmentCounter']\n",
        "\n",
        "  def __init__(self, **kwargs):\n",
        "    for key, value in kwargs.items():\n",
        "      setattr(self, key, value)\n",
        "    self.wastedTime = datetime.timedelta(seconds=0.0)\n",
        "    self.successFlag = True\n",
        "    self.assignmentCounter = 0\n",
        "\n",
        "  def setArrivalTime(self, _arrival):\n",
        "    self.arrivalTime = _arrival\n",
        "\n",
        "  def setStartTime(self, _start):\n",
        "    self.startTime = _start\n",
        "\n",
        "  def setEndTime(self, _end):\n",
        "    self.endTime = _end\n",
        "\n",
        "  def setUnitName(self, _name):\n",
        "    self.assignedUnit = _name\n",
        "\n",
        "  def assign(self, _startTime, _endTime, _unitName):\n",
        "    self.assignmentCounter = self.assignmentCounter + 1\n",
        "    self.setStartTime(_startTime)\n",
        "    self.setEndTime(_endTime)\n",
        "    self.setUnitName(_unitName)\n",
        "\n",
        "  def notAssigned(self):\n",
        "    self.successFlag = False\n",
        "    self.endTime = datetime.datetime(1, 1, 1, 0, 0)\n",
        "    self.assignedUnit = \"None\"\n",
        "\n",
        "  def prepareForReassignment(self, _reassignmentTime):\n",
        "    self.wastedTime = self.wastedTime + _reassignmentTime - self.arrivalTime\n",
        "    self.arrivalTime = _reassignmentTime\n",
        "    self.assignedUnit = \"None\"\n",
        "    self.startTime = None\n",
        "    self.endTime = None\n",
        "\n",
        "  def getExecutionTime(self):\n",
        "    if self.assignedUnit == \"None\":\n",
        "      raise TypeError(\"Cannot call this funcion because this task was not assigned\")\n",
        "    return self.endTime - self.startTime\n",
        "\n",
        "  def getQueingTime(self):\n",
        "    if self.assignedUnit == \"None\":\n",
        "      raise TypeError(\"Cannot call this funcion because this task was not assigned\")\n",
        "    return self.startTime - self.arrivalTime + self.wastedTime\n",
        "\n",
        "  def print(self):\n",
        "    print('\\nTask ID = ', self.id)\n",
        "    print('Arrival time = ', self.arrivalTime - self.wastedTime )\n",
        "    print('Start time = ', self.startTime)\n",
        "    print('Queing time = ', self.getQueingTime(), 's')\n",
        "    print('Execution time = ', self.getExecutionTime(), 's')\n",
        "    print('End time = ', self.endTime)\n",
        "    print('Assigned unit = ', self.assignedUnit)\n",
        "    print('Success = ', self.successFlag)"
      ]
    },
    {
      "cell_type": "code",
      "execution_count": 9,
      "metadata": {
        "id": "PM24EVMJeA-c"
      },
      "outputs": [],
      "source": [
        "def randomTaskGenerator(_Ntasks):\n",
        "  tasks = []\n",
        "  for taskI in  range(_Ntasks):\n",
        "    priority = np.random.uniform(0, 20)\n",
        "    delayTolerance = np.random.uniform(0, 1)\n",
        "    incentive = np.random.uniform(0.1, 1)\n",
        "    minDeadline = 60 * 5 #[s]\n",
        "    maxDeadline = 60 * 40 #[s]\n",
        "    deadlineTime = np.random.uniform(minDeadline, maxDeadline)\n",
        "    CPUcycles = np.random.uniform(deadlineTime / 10 * 1000,\n",
        "                                  deadlineTime / 2 * 1000)\n",
        "    memorySize = np.random.uniform(1, 10)\n",
        "    arrivalTime = datetime.datetime.now() + \\\n",
        "      datetime.timedelta(seconds=np.random.uniform(0, simulationLength))\n",
        "    deadlineTime = arrivalTime + \\\n",
        "      datetime.timedelta(seconds=deadlineTime)\n",
        "\n",
        "    task_dict = {'id':taskI, 'type':'imageProcessing', 'priority':priority,\n",
        "                  'arrivalTime':arrivalTime,\n",
        "                  'deadlineTime':deadlineTime,\n",
        "                  'delayTolerance':delayTolerance,\n",
        "                  'CPUcycles':CPUcycles, 'memorySize':memorySize,\n",
        "                  'incentive':incentive}\n",
        "\n",
        "    task = Task(**task_dict)\n",
        "    tasks.append(task)\n",
        "  return tasks"
      ]
    },
    {
      "cell_type": "markdown",
      "metadata": {
        "id": "AdExu0tpkcYp"
      },
      "source": [
        "## Network class\n",
        "To contruct a network we need a list of colouds, one of edges, one of volunteers and a local device. The units are then collected alltogether into the `units` dictionary.\n",
        "It is also possible to add units to the network after the construction by using `addUnit`.\n",
        "\n",
        "\n"
      ]
    },
    {
      "cell_type": "code",
      "execution_count": 10,
      "metadata": {
        "id": "PpxzVO9Vd7cS"
      },
      "outputs": [],
      "source": [
        "class Network:\n",
        "  def __init__(self, _clouds, _edges, _volunteers, _localDevice):\n",
        "    self.units = {}\n",
        "    for unitTypeI in [_clouds, _edges, _volunteers, [_localDevice]]:\n",
        "      for unitI in unitTypeI:\n",
        "        self.units[unitI.name] = unitI\n",
        "\n",
        "  def addUnit(self, _unit):\n",
        "    self.units[_unit.name] = _unit\n",
        "\n",
        "  def generateRandomVolunteers(self, _Nvolunteers):\n",
        "    for volunteerI in range(_Nvolunteers):\n",
        "      name = 'volunteer_'+str(volunteerI)\n",
        "      self.generateRandomVolunteer(name)\n",
        "\n",
        "  def generateRandomVolunteer(self, _name):\n",
        "    location = np.random.uniform(10, 50)\n",
        "    CPUspeed = np.random.uniform(1000, 2500)\n",
        "    bandwidth = np.random.uniform(50, 100)\n",
        "    latency = np.random.uniform(.001, .01)\n",
        "    costRate = 'dummyCostRate'\n",
        "    trust = 1\n",
        "    availability = 1\n",
        "    CPUEnergy = np.random.uniform(75, 125) #Wh\n",
        "    bandwidthEnergy = np.random.uniform(100, 150) #Wh per Mbyte\n",
        "\n",
        "\n",
        "\n",
        "    volunteer_dict = {'name':_name, 'location':location,\n",
        "                  'capacity':{'CPUspeed':CPUspeed},\n",
        "                  'costRate':costRate,\n",
        "                  'connection':{'bandwidth':bandwidth,'latency':latency},\n",
        "                  'energy':{'CPUEnergy':CPUEnergy,\n",
        "                            'bandwidthEnergy':bandwidthEnergy}\n",
        "                    }\n",
        "    volunteer = Volunteer(trust, availability, **volunteer_dict)\n",
        "    self.addUnit(volunteer)\n",
        "\n",
        "  def print(self):\n",
        "    print(\"\\nNetwork structure:\")\n",
        "    for unitNameI in self.units:\n",
        "      print(unitNameI)\n",
        "      if self.units[unitNameI].getType() == \"volunteer\":\n",
        "        print(\"\\tAvailability = \", self.units[unitNameI].availability)\n",
        "        print(\"\\tTrust = \", self.units[unitNameI].trust)"
      ]
    },
    {
      "cell_type": "code",
      "execution_count": 11,
      "metadata": {
        "id": "lJ97Tx5wknLi"
      },
      "outputs": [],
      "source": [
        "# This function randomly generates a network given the number of clouds and edges\n",
        "# The resulting network will not have volunteers.\n",
        "# To randomly generate volunteers, call the\n",
        "# generateRandomVolunteers(Nvolunteers) member of the network class\n",
        "def randomNetworkGenerator(_Nclouds, _Nedges):\n",
        "    clouds = []\n",
        "    edges = []\n",
        "\n",
        "    for cloudI in range(_Nclouds):\n",
        "      name = 'cloud_'+str(cloudI)\n",
        "      location = np.random.uniform(50, 100)\n",
        "      CPUspeed = np.random.uniform(3600, 3900)\n",
        "      bandwidth = np.random.uniform(50, 100)\n",
        "      latency = np.random.uniform(.01, .08)\n",
        "      costRate = 'dummyCostRate'\n",
        "\n",
        "      CPUEnergy = np.random.uniform(100, 150) #Wh\n",
        "      bandwidthEnergy = np.random.uniform(175, 225) #Wh per Mbyte\n",
        "\n",
        "\n",
        "      cloud_dict = {'name':name, 'location':location,\n",
        "                    'capacity':{'CPUspeed':CPUspeed},\n",
        "                    'costRate':costRate,\n",
        "                    'connection':{'bandwidth':bandwidth,'latency':latency},\n",
        "                    'energy':{'CPUEnergy':CPUEnergy,\n",
        "                              'bandwidthEnergy':bandwidthEnergy}\n",
        "                    }\n",
        "      cloud = Cloud(**cloud_dict)\n",
        "      clouds.append(cloud)\n",
        "\n",
        "    for edgeI in range(_Nedges):\n",
        "      name = 'edge_'+str(edgeI)\n",
        "      location = np.random.uniform(10, 50)\n",
        "      CPUspeed = np.random.uniform(2200, 3500)\n",
        "      bandwidth = np.random.uniform(50, 100)\n",
        "      latency = np.random.uniform(.001, .01)\n",
        "      costRate = 'dummyCostRate'\n",
        "      CPUEnergy = np.random.uniform(75, 150) #Wh\n",
        "      bandwidthEnergy = np.random.uniform(150, 200) #Wh per Mbyte\n",
        "\n",
        "\n",
        "\n",
        "      edge_dict = {'name':name, 'location':location,\n",
        "                    'capacity':{'CPUspeed':CPUspeed},\n",
        "                    'costRate':costRate,\n",
        "                    'connection':{'bandwidth':bandwidth,'latency':latency},\n",
        "                    'energy':{'CPUEnergy':CPUEnergy,\n",
        "                              'bandwidthEnergy':bandwidthEnergy}\n",
        "                    }\n",
        "      edge = Edge(**edge_dict)\n",
        "      edges.append(edge)\n",
        "\n",
        "    CPUspeed = np.random.uniform(1000, 2000)\n",
        "    bandwidth = np.random.uniform(10, 50)\n",
        "    latency = 0\n",
        "    CPUEnergy = np.random.uniform(75, 125) #Wh\n",
        "    bandwidthEnergy = np.random.uniform(75, 125) #Wh per Mbyte\n",
        "    local_dict = {'capacity':{'CPUspeed':CPUspeed},\n",
        "                  'connection':{'bandwidth':bandwidth, 'latency':latency},\n",
        "                  'energy':{'CPUEnergy':CPUEnergy,\n",
        "                              'bandwidthEnergy':bandwidthEnergy}\n",
        "                  }\n",
        "    local = LocalDevice(**local_dict)\n",
        "\n",
        "    return Network(clouds, edges, [], local)"
      ]
    },
    {
      "cell_type": "markdown",
      "source": [
        "## Simulation environment\n",
        "We now set up the simulation environment."
      ],
      "metadata": {
        "id": "uXvQzw1KA5rF"
      }
    },
    {
      "cell_type": "markdown",
      "source": [
        "### Runtime control class\n",
        "The runtime control is a smart log that we developed to keep track of the assigned tasks and the related units"
      ],
      "metadata": {
        "id": "bwE3HEI53-mS"
      }
    },
    {
      "cell_type": "code",
      "source": [
        "class RuntimeControl:\n",
        "  def __init__(self):\n",
        "    self.assignedTasks = []\n",
        "    self.units = []\n",
        "    self.taskIndex = []\n",
        "    self.notAssignedTasks = []\n",
        "\n",
        "  def appendAssignedTask(self, _task, _device):\n",
        "    self.assignedTasks.append(_task)\n",
        "    self.units.append(_device)\n",
        "    self.taskIndex.append(tuple([_task.id, len(self.assignedTasks)]))\n",
        "\n",
        "  def appendNotAssignedTask(self, _task):\n",
        "    self.notAssignedTasks.append(_task)\n",
        "\n",
        "  def restart(self):\n",
        "    self.assignedTasks = []\n",
        "    self.units = []\n",
        "    self.taskIndex = []\n",
        "    self.notAssignedTasks = []\n",
        "\n",
        "  def print(self):\n",
        "    print(\"Runtime control:\")\n",
        "    print(\"\\n**************************\")\n",
        "    print(\"Assigned tasks:\\n\")\n",
        "    unitI = 0\n",
        "    for taskI in self.assignedTasks:\n",
        "      print(\"Task ID = \", taskI.id)\n",
        "      print(\"Assigned to unit: \", self.units[unitI])\n",
        "      print(\"Arrival time = \", taskI.arrivalTime)\n",
        "      print(\"StartTime = \", taskI.startTime)\n",
        "      print(\"EndTime = \", taskI.endTime)\n",
        "      print(\"Assigned %d times\" % taskI.assignmentCounter)\n",
        "      print(\"\\n\")\n",
        "      unitI = unitI + 1\n",
        "\n",
        "    print(\"\\n**************************\")\n",
        "    print(\"Not assigned tasks:\\n\")\n",
        "    for taskI in self.notAssignedTasks:\n",
        "      print(\"Task ID = \", taskI.id)\n",
        "      print(\"Assigned %d times\" % taskI.assignmentCounter)\n",
        "      print(\"\\n\")\n",
        "\n",
        "  def getNotAssignedTasks(self):\n",
        "    return len(self.notAssignedTasks)\n",
        "\n"
      ],
      "metadata": {
        "id": "Cu-f_yAe3-mX"
      },
      "execution_count": 12,
      "outputs": []
    },
    {
      "cell_type": "markdown",
      "source": [
        "### Simulation class\n",
        "\n",
        "The simulation if composed of a network, a  set of tasks and a rule for assigning the tasks to the different units of the network."
      ],
      "metadata": {
        "id": "cBAcyOtd4HQm"
      }
    },
    {
      "cell_type": "code",
      "execution_count": 13,
      "metadata": {
        "id": "lJBFLpqPA8WU"
      },
      "outputs": [],
      "source": [
        "def taskSorting(_task):\n",
        "  return _task.arrivalTime.timestamp()\n",
        "\n",
        "class Simulation:\n",
        "  def __init__(self, _network, _tasks, _optimizationGoal):\n",
        "    self.network = _network\n",
        "    self.tasks = _tasks\n",
        "    self.tasks.sort(key=taskSorting)\n",
        "    self.optimizationGoal = _optimizationGoal\n",
        "    self.runtimeControl = RuntimeControl()\n",
        "    self.notAssignedTasks = []\n",
        "\n",
        "  def getBestDevice(self, _task):\n",
        "    executionTimeMin = _task.arrivalTime + \\\n",
        "      datetime.timedelta(days=10000) # Just a big number\n",
        "    bestDevice = 'None'\n",
        "    success = False\n",
        "    startTime = None\n",
        "    for unitI in self.network.units:\n",
        "      if self.network.units[unitI].getType() == \"volunteer\":\n",
        "        if self.network.units[unitI].availability == 0:\n",
        "          continue\n",
        "        else:\n",
        "          if self.volunteerTrustCheck(unitI, _task.arrivalTime) == 0:\n",
        "            continue\n",
        "      exeT = self.network.units[unitI].computeExecutionTime(_task)\n",
        "      startTime = max(self.network.units[unitI].endTime, _task.arrivalTime)\n",
        "      endTime = startTime + exeT\n",
        "      if _task.deadlineTime > endTime:\n",
        "        if endTime < executionTimeMin:\n",
        "          executionTimeMin = endTime\n",
        "          bestDevice = unitI\n",
        "          success = True\n",
        "    return bestDevice, success\n",
        "\n",
        "  def volunteerTrustCheck(self, _unitName, _currentTime):\n",
        "    # Check if the volunteer trust is below volunteerTrustTreshold and then if\n",
        "    # it has been shut down for a time longer than volunteerTimeoutTreshold\n",
        "    flag = 1\n",
        "    if self.network.units[_unitName].trust < volunteerTrustTreshold:\n",
        "      if self.network.units[_unitName].getUntrustedTime(_currentTime) > volunteerTimeoutTreshold:\n",
        "        self.network.units[_unitName].restoreTrust()\n",
        "      flag = 0\n",
        "    return flag\n",
        "\n",
        "  def shutDownVolunteer(self, _volunteerName, _shutDownTime):\n",
        "    toReassignTasksIDs = self.network.units[_volunteerName].shutDown(_shutDownTime)\n",
        "    for taskID in toReassignTasksIDs:\n",
        "      task = [x for x in self.tasks if x.id == taskID][0]\n",
        "      task.prepareForReassignment(_shutDownTime)\n",
        "      bestDevice, success = self.getBestDevice(task)\n",
        "      if success:\n",
        "        self.network.units[bestDevice].assignTask(task)\n",
        "        self.runtimeControl.appendAssignedTask(task, bestDevice)\n",
        "      else:\n",
        "        self.runtimeControl.appendNotAssignedTask(task)\n",
        "        task.notAssigned()\n",
        "\n",
        "  def run(self):\n",
        "    self.runtimeControl.restart()\n",
        "\n",
        "    for taskI in self.tasks:\n",
        "      bestDevice, success = self.getBestDevice(taskI)\n",
        "\n",
        "      if success:\n",
        "        self.network.units[bestDevice].assignTask(taskI)\n",
        "        self.runtimeControl.appendAssignedTask(taskI, bestDevice)\n",
        "      else:\n",
        "        self.runtimeControl.appendNotAssignedTask(taskI)\n",
        "        taskI.notAssigned()\n",
        "    return self.runtimeControl\n",
        "\n",
        "  def runWithShutdown(self):\n",
        "    self.runtimeControl.restart()\n",
        "\n",
        "    for taskI in self.tasks:\n",
        "      if taskI.id == 2:\n",
        "        self.network.units[\"volunteer_1\"].turnOn()\n",
        "\n",
        "      bestDevice, success = self.getBestDevice(taskI)\n",
        "\n",
        "      if success:\n",
        "        self.network.units[bestDevice].assignTask(taskI)\n",
        "        self.runtimeControl.appendAssignedTask(taskI, bestDevice)\n",
        "      else:\n",
        "        self.runtimeControl.appendNotAssignedTask(taskI)\n",
        "        taskI.notAssigned()\n",
        "\n",
        "      if taskI.id == 1:\n",
        "        shutDownTime = taskI.arrivalTime\n",
        "        print(\"\\nVolunteer log\")\n",
        "        print(self.network.units[\"volunteer_1\"].printLog())\n",
        "\n",
        "        print(\"\\nShutDown time = \", shutDownTime)\n",
        "        self.shutDownVolunteer(\"volunteer_1\", shutDownTime)\n",
        "\n",
        "        print(\"\\nVolunteer log after shutDown\")\n",
        "        print(self.network.units[\"volunteer_1\"].printLog())\n",
        "    return self.runtimeControl\n",
        "\n",
        "\n",
        "  def runWithRandomShutdowns(self, _shutDownFreq, _turnOnFreq):\n",
        "    self.runtimeControl.restart()\n",
        "\n",
        "    for taskI in self.tasks:\n",
        "      if taskI.id % _shutDownFreq == 1:\n",
        "        shutDownTime = taskI.arrivalTime\n",
        "        activeVolunteers = self.getActiveVolunteers()\n",
        "        if len(activeVolunteers) != 0:\n",
        "          self.shutDownVolunteer(random.choice(activeVolunteers), shutDownTime)\n",
        "\n",
        "      bestDevice, success = self.getBestDevice(taskI)\n",
        "      if success:\n",
        "        self.network.units[bestDevice].assignTask(taskI)\n",
        "        self.runtimeControl.appendAssignedTask(taskI, bestDevice)\n",
        "      else:\n",
        "        self.runtimeControl.appendNotAssignedTask(taskI)\n",
        "        taskI.notAssigned()\n",
        "\n",
        "      if (taskI.id + 3) % _turnOnFreq == 1:\n",
        "        notActiveVolunteers = self.getNotActiveVolunteers()\n",
        "        if len(notActiveVolunteers) != 0:\n",
        "          self.network.units[random.choice(notActiveVolunteers)].turnOn()\n",
        "    return self.runtimeControl\n",
        "\n",
        "  def getActiveVolunteers(self):\n",
        "    activeVolunteers = []\n",
        "    for unitI in self.network.units:\n",
        "      if self.network.units[unitI].getType() == \"volunteer\":\n",
        "        if self.network.units[unitI].availability == 1:\n",
        "          activeVolunteers.append(self.network.units[unitI].name)\n",
        "    return activeVolunteers\n",
        "\n",
        "  def getNotActiveVolunteers(self):\n",
        "    notActiveVolunteers = []\n",
        "    for unitI in self.network.units:\n",
        "      if self.network.units[unitI].getType() == \"volunteer\":\n",
        "        if self.network.units[unitI].availability == 0:\n",
        "          notActiveVolunteers.append(self.network.units[unitI].name)\n",
        "    return notActiveVolunteers\n",
        "\n",
        "  def plotGanttChart(self):\n",
        "    tasks_list = []\n",
        "    for taskI in self.tasks:\n",
        "      if taskI.assignedUnit != \"None\":\n",
        "        tasks_list.append(\n",
        "            dict(Unit=taskI.assignedUnit, TaskID=taskI.id, Start=taskI.startTime,\n",
        "                Finish=taskI.endTime))\n",
        "    df = pd.DataFrame(tasks_list)\n",
        "    fig = px.timeline(df, x_start=\"Start\", x_end=\"Finish\", y=\"Unit\",\n",
        "                      color=\"TaskID\")\n",
        "    fig.update_yaxes(autorange=\"reversed\")\n",
        "    fig.show()\n",
        "\n",
        "  def totalTasksDelay(self):\n",
        "    tasksDelay = 0;\n",
        "    for taskI in self.tasks:\n",
        "      if taskI.assignedUnit != \"None\":\n",
        "        tasksDelay = tasksDelay + (taskI.endTime - taskI.arrivalTime + \\\n",
        "                                   taskI.wastedTime).total_seconds()\n",
        "    return tasksDelay"
      ]
    },
    {
      "cell_type": "markdown",
      "source": [
        "## Tests"
      ],
      "metadata": {
        "id": "MdI-ZU1QPNpL"
      }
    },
    {
      "cell_type": "markdown",
      "metadata": {
        "id": "21Sh_cPfegpZ"
      },
      "source": [
        "### Test of a randomly generated network with a set of randomly generated tasks"
      ]
    },
    {
      "cell_type": "code",
      "execution_count": 14,
      "metadata": {
        "colab": {
          "base_uri": "https://localhost:8080/",
          "height": 579
        },
        "id": "qhosHSq-qeDB",
        "outputId": "38924e31-d459-4b71-c424-dc0ee5180649"
      },
      "outputs": [
        {
          "output_type": "display_data",
          "data": {
            "text/html": [
              "<html>\n",
              "<head><meta charset=\"utf-8\" /></head>\n",
              "<body>\n",
              "    <div>            <script src=\"https://cdnjs.cloudflare.com/ajax/libs/mathjax/2.7.5/MathJax.js?config=TeX-AMS-MML_SVG\"></script><script type=\"text/javascript\">if (window.MathJax && window.MathJax.Hub && window.MathJax.Hub.Config) {window.MathJax.Hub.Config({SVG: {font: \"STIX-Web\"}});}</script>                <script type=\"text/javascript\">window.PlotlyConfig = {MathJaxConfig: 'local'};</script>\n",
              "        <script charset=\"utf-8\" src=\"https://cdn.plot.ly/plotly-2.24.1.min.js\"></script>                <div id=\"d5728a43-242b-47d4-bf58-e135d78bcad2\" class=\"plotly-graph-div\" style=\"height:525px; width:100%;\"></div>            <script type=\"text/javascript\">                                    window.PLOTLYENV=window.PLOTLYENV || {};                                    if (document.getElementById(\"d5728a43-242b-47d4-bf58-e135d78bcad2\")) {                    Plotly.newPlot(                        \"d5728a43-242b-47d4-bf58-e135d78bcad2\",                        [{\"alignmentgroup\":\"True\",\"base\":[\"2024-02-24T09:25:40.073205\",\"2024-02-24T09:26:06.826952\",\"2024-02-24T09:26:10.148871\",\"2024-02-24T09:27:14.042843\",\"2024-02-24T09:28:16.680474\",\"2024-02-24T09:27:16.471809\",\"2024-02-24T09:30:05.415928\",\"2024-02-24T09:27:32.186135\",\"2024-02-24T09:30:21.236709\",\"2024-02-24T09:29:07.096992\",\"2024-02-24T09:29:51.554005\",\"2024-02-24T09:33:44.414443\",\"2024-02-24T09:33:19.164489\",\"2024-02-24T09:35:14.788315\",\"2024-02-24T09:36:53.277559\",\"2024-02-24T09:35:52.426008\",\"2024-02-24T09:33:44.488262\",\"2024-02-24T09:34:51.323811\",\"2024-02-24T09:36:56.775751\",\"2024-02-24T09:38:31.449949\",\"2024-02-24T09:40:28.511385\",\"2024-02-24T09:40:08.145681\",\"2024-02-24T09:42:22.855371\",\"2024-02-24T09:43:33.578225\",\"2024-02-24T09:44:03.762438\",\"2024-02-24T09:41:29.021733\",\"2024-02-24T09:45:38.660042\",\"2024-02-24T09:46:55.902399\",\"2024-02-24T09:45:58.404535\",\"2024-02-24T09:47:22.023403\",\"2024-02-24T09:49:05.098018\",\"2024-02-24T09:47:41.937306\",\"2024-02-24T09:50:11.830782\",\"2024-02-24T09:51:12.527087\",\"2024-02-24T09:51:01.643101\",\"2024-02-24T09:52:08.262370\",\"2024-02-24T09:51:13.903905\",\"2024-02-24T09:54:37.566782\",\"2024-02-24T09:53:46.833526\",\"2024-02-24T09:56:54.095488\",\"2024-02-24T09:56:15.181414\",\"2024-02-24T09:54:47.701614\",\"2024-02-24T09:57:48.229682\",\"2024-02-24T09:58:48.378944\",\"2024-02-24T10:00:06.397109\",\"2024-02-24T09:59:39.812939\",\"2024-02-24T10:00:46.191242\",\"2024-02-24T10:02:52.297818\",\"2024-02-24T09:59:15.440260\",\"2024-02-24T10:02:34.153897\",\"2024-02-24T10:05:54.022466\",\"2024-02-24T10:05:17.187427\",\"2024-02-24T10:04:11.657801\",\"2024-02-24T10:03:56.743131\",\"2024-02-24T10:07:18.412648\",\"2024-02-24T10:09:48.377169\",\"2024-02-24T10:09:14.286295\",\"2024-02-24T10:12:57.022245\",\"2024-02-24T10:11:01.684687\",\"2024-02-24T10:13:09.849118\",\"2024-02-24T10:08:33.537228\",\"2024-02-24T10:16:56.008361\",\"2024-02-24T10:15:32.663483\",\"2024-02-24T10:13:33.574281\",\"2024-02-24T10:17:25.153929\",\"2024-02-24T10:19:00.487642\",\"2024-02-24T10:20:06.134348\",\"2024-02-24T10:19:41.566239\",\"2024-02-24T10:21:28.268633\",\"2024-02-24T10:21:51.550489\",\"2024-02-24T10:19:40.585441\",\"2024-02-24T10:22:19.885465\",\"2024-02-24T10:24:33.971712\",\"2024-02-24T10:24:39.652507\",\"2024-02-24T10:26:14.297411\",\"2024-02-24T10:26:20.544865\",\"2024-02-24T10:27:41.501004\",\"2024-02-24T10:24:37.103977\",\"2024-02-24T10:27:14.199760\",\"2024-02-24T10:31:08.379642\",\"2024-02-24T10:32:28.369990\",\"2024-02-24T10:31:59.999903\",\"2024-02-24T10:33:45.675127\",\"2024-02-24T10:34:28.030727\",\"2024-02-24T10:31:09.036869\",\"2024-02-24T10:34:21.700056\",\"2024-02-24T10:38:53.765533\",\"2024-02-24T10:38:30.597988\",\"2024-02-24T10:39:08.303403\",\"2024-02-24T10:37:32.902390\",\"2024-02-24T10:41:52.686521\",\"2024-02-24T10:41:46.161117\",\"2024-02-24T10:43:42.744715\",\"2024-02-24T10:42:26.905792\",\"2024-02-24T10:44:47.049253\",\"2024-02-24T10:43:55.058479\",\"2024-02-24T10:45:51.418334\",\"2024-02-24T10:45:51.020647\",\"2024-02-24T10:45:39.593036\",\"2024-02-24T10:49:16.187593\",\"2024-02-24T10:48:47.617914\",\"2024-02-24T10:47:57.138045\",\"2024-02-24T10:50:08.066533\",\"2024-02-24T10:52:19.194803\",\"2024-02-24T10:52:45.753959\",\"2024-02-24T10:55:01.841720\",\"2024-02-24T10:54:47.593477\",\"2024-02-24T10:53:23.866903\",\"2024-02-24T10:56:47.538136\",\"2024-02-24T10:57:01.532887\",\"2024-02-24T10:59:08.663831\",\"2024-02-24T10:58:03.286461\",\"2024-02-24T10:56:14.768169\",\"2024-02-24T11:02:48.368827\",\"2024-02-24T11:02:15.294839\",\"2024-02-24T11:03:20.199818\",\"2024-02-24T11:05:35.647039\",\"2024-02-24T11:04:53.810469\",\"2024-02-24T11:06:01.927304\",\"2024-02-24T11:09:09.113881\",\"2024-02-24T11:04:07.126231\",\"2024-02-24T11:08:46.603028\",\"2024-02-24T11:09:25.290353\",\"2024-02-24T11:08:53.205879\",\"2024-02-24T11:12:18.119913\",\"2024-02-24T11:13:11.507542\",\"2024-02-24T11:14:31.528929\",\"2024-02-24T11:13:09.643465\",\"2024-02-24T11:15:12.962419\",\"2024-02-24T11:19:06.564843\",\"2024-02-24T11:13:56.090337\",\"2024-02-24T11:19:29.203652\",\"2024-02-24T11:20:25.718140\",\"2024-02-24T11:18:41.460849\",\"2024-02-24T11:22:27.417031\",\"2024-02-24T11:23:59.389242\",\"2024-02-24T11:23:07.221064\",\"2024-02-24T11:28:13.999855\",\"2024-02-24T11:27:27.220492\",\"2024-02-24T11:27:35.119296\",\"2024-02-24T11:30:45.902389\",\"2024-02-24T11:31:49.556594\",\"2024-02-24T11:34:43.323963\",\"2024-02-24T11:34:04.195056\",\"2024-02-24T11:32:48.284745\",\"2024-02-24T11:30:13.203649\",\"2024-02-24T11:34:57.835420\",\"2024-02-24T11:38:37.923816\",\"2024-02-24T11:37:47.296861\",\"2024-02-24T11:37:45.798592\",\"2024-02-24T11:40:45.377302\",\"2024-02-24T11:40:01.003850\",\"2024-02-24T11:40:07.813589\",\"2024-02-24T11:43:32.429334\",\"2024-02-24T11:40:21.562155\",\"2024-02-24T11:43:41.172697\",\"2024-02-24T11:43:42.998407\",\"2024-02-24T11:45:25.763203\",\"2024-02-24T11:44:16.616827\",\"2024-02-24T11:47:33.534181\",\"2024-02-24T11:46:54.916157\",\"2024-02-24T11:50:59.531185\",\"2024-02-24T11:49:06.188159\",\"2024-02-24T11:47:21.101892\",\"2024-02-24T11:51:00.973891\",\"2024-02-24T11:55:13.958339\",\"2024-02-24T11:53:18.551636\",\"2024-02-24T11:55:00.515713\",\"2024-02-24T11:57:22.103038\",\"2024-02-24T11:55:45.147004\",\"2024-02-24T12:00:04.949157\",\"2024-02-24T11:56:24.269806\",\"2024-02-24T11:58:22.440120\",\"2024-02-24T12:00:46.009425\",\"2024-02-24T12:02:42.865055\",\"2024-02-24T12:02:41.087114\",\"2024-02-24T12:02:36.576101\",\"2024-02-24T12:01:26.012906\",\"2024-02-24T12:04:47.893902\",\"2024-02-24T12:05:53.136879\",\"2024-02-24T12:07:53.965517\",\"2024-02-24T12:07:53.958092\",\"2024-02-24T12:06:29.523913\",\"2024-02-24T12:07:47.707556\",\"2024-02-24T12:11:46.414425\",\"2024-02-24T12:10:43.842899\",\"2024-02-24T12:12:49.101199\",\"2024-02-24T12:08:57.864553\",\"2024-02-24T12:14:29.565397\",\"2024-02-24T12:16:39.047621\",\"2024-02-24T12:16:38.578475\",\"2024-02-24T12:19:19.850486\",\"2024-02-24T12:18:53.224470\",\"2024-02-24T12:18:56.633751\",\"2024-02-24T12:18:14.772560\",\"2024-02-24T12:21:17.856635\",\"2024-02-24T12:22:05.793792\",\"2024-02-24T12:20:55.462253\",\"2024-02-24T12:22:55.555614\",\"2024-02-24T12:24:51.345256\",\"2024-02-24T12:24:32.673351\",\"2024-02-24T12:26:36.998040\",\"2024-02-24T12:24:59.495842\",\"2024-02-24T12:23:32.759885\",\"2024-02-24T12:27:11.438145\",\"2024-02-24T12:30:21.240276\",\"2024-02-24T12:27:22.157751\",\"2024-02-24T12:32:17.606898\",\"2024-02-24T12:33:50.803081\",\"2024-02-24T12:35:12.970110\",\"2024-02-24T12:32:57.731505\",\"2024-02-24T12:35:35.169288\",\"2024-02-24T12:32:39.648399\",\"2024-02-24T12:34:57.474689\",\"2024-02-24T12:36:20.955691\",\"2024-02-24T12:39:22.645118\",\"2024-02-24T12:38:48.364773\",\"2024-02-24T12:41:43.490714\",\"2024-02-24T12:42:32.305384\",\"2024-02-24T12:39:09.015892\",\"2024-02-24T12:42:15.201832\",\"2024-02-24T12:44:18.921983\",\"2024-02-24T12:42:27.050786\",\"2024-02-24T12:44:05.097110\",\"2024-02-24T12:46:13.181349\",\"2024-02-24T12:46:26.923810\",\"2024-02-24T12:48:02.599958\",\"2024-02-24T12:47:25.311215\",\"2024-02-24T12:50:21.019469\",\"2024-02-24T12:45:21.499857\",\"2024-02-24T12:52:04.511526\",\"2024-02-24T12:53:54.883477\",\"2024-02-24T12:51:12.587915\",\"2024-02-24T12:55:27.267962\",\"2024-02-24T12:52:13.374373\",\"2024-02-24T12:58:15.173077\",\"2024-02-24T12:56:18.943279\",\"2024-02-24T12:56:47.542927\",\"2024-02-24T12:59:31.044558\",\"2024-02-24T13:01:34.723092\",\"2024-02-24T13:01:39.904782\",\"2024-02-24T13:04:11.050170\",\"2024-02-24T13:00:57.614831\",\"2024-02-24T13:05:38.422396\",\"2024-02-24T13:05:44.348752\",\"2024-02-24T13:07:20.117378\",\"2024-02-24T13:05:41.241475\",\"2024-02-24T13:07:42.689558\",\"2024-02-24T13:07:12.026138\",\"2024-02-24T13:09:54.396585\",\"2024-02-24T13:11:32.185850\",\"2024-02-24T13:09:59.815175\",\"2024-02-24T13:09:05.992530\",\"2024-02-24T13:12:21.575677\",\"2024-02-24T13:12:53.445777\",\"2024-02-24T13:14:35.307596\",\"2024-02-24T13:15:24.205239\",\"2024-02-24T13:16:31.768764\",\"2024-02-24T13:14:42.925918\",\"2024-02-24T13:18:27.385102\",\"2024-02-24T13:18:08.640695\",\"2024-02-24T13:20:26.108089\",\"2024-02-24T13:20:56.961466\",\"2024-02-24T13:23:02.335998\",\"2024-02-24T13:22:14.652219\",\"2024-02-24T13:19:33.081211\",\"2024-02-24T13:26:35.936743\",\"2024-02-24T13:27:46.351015\",\"2024-02-24T13:27:12.801964\",\"2024-02-24T13:25:07.629937\",\"2024-02-24T13:27:59.634774\",\"2024-02-24T13:30:26.057104\",\"2024-02-24T13:32:15.694508\",\"2024-02-24T13:29:06.389731\",\"2024-02-24T13:31:37.052607\",\"2024-02-24T13:34:02.967766\",\"2024-02-24T13:35:23.680833\",\"2024-02-24T13:34:03.977088\",\"2024-02-24T13:36:44.138217\",\"2024-02-24T13:38:11.269007\",\"2024-02-24T13:33:40.416419\",\"2024-02-24T13:38:20.172389\",\"2024-02-24T13:41:35.077366\",\"2024-02-24T13:41:43.741224\",\"2024-02-24T13:43:35.262686\",\"2024-02-24T13:43:27.131351\",\"2024-02-24T13:45:05.574186\",\"2024-02-24T13:46:52.043620\",\"2024-02-24T13:42:41.774352\",\"2024-02-24T13:48:18.331418\",\"2024-02-24T13:47:16.117957\",\"2024-02-24T13:49:43.395550\",\"2024-02-24T13:48:56.020982\",\"2024-02-24T13:52:08.456888\",\"2024-02-24T13:51:51.349371\",\"2024-02-24T13:51:51.176899\",\"2024-02-24T13:54:42.875909\",\"2024-02-24T13:54:32.760187\",\"2024-02-24T13:55:57.811945\",\"2024-02-24T14:00:25.404790\",\"2024-02-24T13:53:34.773949\",\"2024-02-24T13:57:27.898689\",\"2024-02-24T13:59:48.397678\",\"2024-02-24T13:58:51.087156\",\"2024-02-24T14:01:22.158906\",\"2024-02-24T14:00:26.868572\",\"2024-02-24T14:04:33.379824\",\"2024-02-24T14:05:27.270828\",\"2024-02-24T14:02:57.959331\",\"2024-02-24T14:04:18.121911\",\"2024-02-24T14:07:11.742704\",\"2024-02-24T14:06:31.792745\",\"2024-02-24T14:08:45.447904\",\"2024-02-24T14:06:09.771465\",\"2024-02-24T14:08:57.023927\",\"2024-02-24T14:11:46.680091\",\"2024-02-24T14:12:50.072363\",\"2024-02-24T14:10:11.068354\",\"2024-02-24T14:14:17.472369\",\"2024-02-24T14:15:48.338536\",\"2024-02-24T14:16:29.851955\",\"2024-02-24T14:15:22.510201\",\"2024-02-24T14:18:42.503984\",\"2024-02-24T14:20:19.673351\",\"2024-02-24T14:21:37.378175\",\"2024-02-24T14:22:44.125196\",\"2024-02-24T14:24:17.522214\",\"2024-02-24T14:19:19.210667\",\"2024-02-24T14:23:33.077832\",\"2024-02-24T14:27:50.642128\",\"2024-02-24T14:25:41.782614\",\"2024-02-24T14:27:42.195123\",\"2024-02-24T14:29:34.572612\",\"2024-02-24T14:30:38.383259\",\"2024-02-24T14:29:41.866792\",\"2024-02-24T14:31:55.540196\",\"2024-02-24T14:31:38.116599\",\"2024-02-24T14:32:24.344684\",\"2024-02-24T14:34:58.296936\",\"2024-02-24T14:35:59.281857\",\"2024-02-24T14:35:47.912279\",\"2024-02-24T14:35:34.237983\",\"2024-02-24T14:37:45.358900\",\"2024-02-24T14:39:38.000706\",\"2024-02-24T14:38:44.759321\",\"2024-02-24T14:36:22.081997\",\"2024-02-24T14:41:02.094806\",\"2024-02-24T14:40:27.261248\",\"2024-02-24T14:42:58.250554\",\"2024-02-24T14:43:47.820722\",\"2024-02-24T14:45:13.445081\",\"2024-02-24T14:44:03.889746\",\"2024-02-24T14:46:09.973068\",\"2024-02-24T14:46:51.676325\",\"2024-02-24T14:48:09.562387\",\"2024-02-24T14:47:13.412165\",\"2024-02-24T14:50:17.355720\",\"2024-02-24T14:49:41.526729\",\"2024-02-24T14:48:32.110898\",\"2024-02-24T14:51:07.516275\",\"2024-02-24T14:49:45.788813\",\"2024-02-24T14:53:44.569052\",\"2024-02-24T14:54:20.039066\",\"2024-02-24T14:55:30.644769\",\"2024-02-24T14:55:06.888684\",\"2024-02-24T14:57:39.088943\",\"2024-02-24T14:57:07.085600\",\"2024-02-24T14:55:31.970629\",\"2024-02-24T14:58:54.532263\",\"2024-02-24T15:00:40.193564\",\"2024-02-24T14:59:05.096065\",\"2024-02-24T15:02:13.838410\",\"2024-02-24T15:00:58.507643\",\"2024-02-24T15:05:01.560634\",\"2024-02-24T15:06:43.254073\",\"2024-02-24T15:09:24.085585\",\"2024-02-24T15:03:53.073552\",\"2024-02-24T15:07:20.008114\",\"2024-02-24T15:10:21.776532\",\"2024-02-24T15:07:46.123041\",\"2024-02-24T15:14:12.247225\",\"2024-02-24T15:14:44.561262\",\"2024-02-24T15:14:40.260139\",\"2024-02-24T15:13:51.568164\",\"2024-02-24T15:18:00.344067\",\"2024-02-24T15:19:12.639074\",\"2024-02-24T15:18:10.888768\",\"2024-02-24T15:21:00.185511\",\"2024-02-24T15:22:33.836037\",\"2024-02-24T15:25:47.267952\",\"2024-02-24T15:21:34.750366\",\"2024-02-24T15:25:43.160229\",\"2024-02-24T15:24:51.858636\",\"2024-02-24T15:29:57.966050\",\"2024-02-24T15:24:42.941429\",\"2024-02-24T15:29:57.233570\",\"2024-02-24T15:31:38.387183\",\"2024-02-24T15:29:12.596384\",\"2024-02-24T15:34:36.650579\",\"2024-02-24T15:34:51.476378\",\"2024-02-24T15:37:00.715429\",\"2024-02-24T15:38:06.515191\",\"2024-02-24T15:36:33.284745\",\"2024-02-24T15:40:29.526619\",\"2024-02-24T15:37:41.983702\",\"2024-02-24T15:40:07.126477\",\"2024-02-24T15:40:37.450494\",\"2024-02-24T15:45:03.964589\",\"2024-02-24T15:39:42.279148\",\"2024-02-24T15:44:55.487982\",\"2024-02-24T15:47:48.142518\",\"2024-02-24T15:46:57.599261\",\"2024-02-24T15:49:00.971692\",\"2024-02-24T15:46:26.918202\",\"2024-02-24T15:49:24.491337\",\"2024-02-24T15:51:01.461390\"],\"hovertemplate\":\"Start=%{base}\\u003cbr\\u003eFinish=%{x}\\u003cbr\\u003eUnit=%{y}\\u003cbr\\u003eTaskID=%{marker.color}\\u003cextra\\u003e\\u003c\\u002fextra\\u003e\",\"legendgroup\":\"\",\"marker\":{\"color\":[578,736,452,685,121,650,207,224,178,338,289,350,855,858,807,865,852,386,98,201,0,429,158,304,837,713,636,783,314,25,110,607,372,859,726,303,461,8,867,798,763,836,513,237,89,979,343,112,391,241,217,883,997,559,61,489,337,113,333,321,989,210,344,749,926,966,824,389,13,378,15,125,901,154,268,59,561,998,661,272,612,907,139,664,183,455,108,795,747,919,950,240,94,327,111,130,14,170,512,771,703,187,316,576,769,520,75,556,751,319,778,199,756,619,205,11,699,325,330,315,912,450,663,894,312,910,834,641,757,951,136,570,679,946,68,135,572,487,657,308,290,155,962,874,132,138,362,398,937,234,755,352,349,574,529,440,307,264,473,579,454,382,622,893,714,549,517,434,872,38,436,469,897,734,881,182,404,738,502,873,848,583,58,812,972,192,353,935,354,351,22,554,180,285,426,671,465,597,433,421,853,148,860,613,238,800,116,606,511,169,80,229,941,620,93,976,403,221,788,773,522,296,439,497,516,467,509,955,63,895,39,633,84,388,900,481,818,709,765,407,993,987,287,799,364,611,374,906,118,146,539,542,409,929,295,294,152,683,720,495,802,846,789,595,414,701,254,523,877,163,262,311,832,21,588,702,275,508,540,551,418,143,211,166,984,466,253,739,602,17,347,47,256,708,575,228,1,70,95,247,519,239,628,568,405,167,57,609,202,310,428,365,503,582,691,102,133,306,815,629,545,637,206,838,100,957,885,243,7,396,510,864,899,764,340,486,649,446,697,164,939,952,890,485,336,356,174,317,817,869,827,423,943,878,279,886,672,475,215,596,149,856,244,165,547,342,131,472,361,471,6,759,695,857,921,792,996,710,534,35,880,34,659,586,507,309,963,328,961,36,653,144,548,934,376,980,687,654,712,704,357,474,12,562,194,605,662,120,74,884,753,401,31,819,381,660],\"coloraxis\":\"coloraxis\",\"pattern\":{\"shape\":\"\"}},\"name\":\"\",\"offsetgroup\":\"\",\"orientation\":\"h\",\"showlegend\":false,\"textposition\":\"auto\",\"x\":[93969.638,254409.757,31824.981,62637.631,108735.454,110625.183,218998.515,139367.87,293551.606,252067.497,232934.257,188863.116,153261.519,101987.436,215233.826,255719.673,66835.549,220126.138,326079.62,177571.784,185066.84,350258.854,100907.067,125081.817,198260.965,372915.573,77242.357,129195.619,303238.566,286238.967,66732.764,211966.599,60696.305,205039.695,165190.425,246919.044,213797.709,136528.706,241396.156,192301.621,153197.53,267738.646,111583.257,117812.298,165900.709,271844.862,107962.655,181724.648,281302.871,163033.53,234354.703,237098.868,186754.847,276794.097,223272.039,188645.076,235562.823,238986.116,270978.796,391717.121,300037.053,124479.281,407221.982,231579.648,135431.512,65646.706,82134.285,129984.25,185703.079,268994.376,296518.536,139767.042,100325.699,154547.253,87203.593,367825.125,206878.638,391932.892,285800.143,157295.485,119660.737,141700.153,308090.406,242567.261,383865.521,286603.347,178920.988,195563.129,198602.389,382156.089,174362.732,116583.598,304873.199,204114.855,64369.081,104534.557,204769.259,257045.886,137545.009,183007.21,238136.045,326728.858,279526.944,268343.333,136087.761,119691.167,195692.984,170901.266,141125.695,378666.931,219704.996,252008.378,472358.062,167278.212,226632.465,93610.651,213466.842,232792.559,203363.049,189006.032,286079.648,264904.514,224353.112,302884.458,133409.016,377696.11,275035.914,123318.954,312755.721,292824.399,285370.512,178213.379,429401.156,265760.215,299803.461,254610.613,425982.585,215556.739,198681.897,313165.449,198292.667,173767.369,234599.853,356808.794,299012.116,284631.771,167963.172,127453.486,140516.728,155763.563,167052.032,220168.847,215184.818,241104.847,235054.672,193743.46,102764.796,220424.956,184485.065,205997.004,246057.734,254427.154,398958.845,357449.744,239541.822,128144.699,185718.17,345493.712,162846.119,157293.116,157915.898,301743.1,254135.981,115077.689,190271.824,126806.788,311131.455,303511.007,186064.19,120828.638,295135.682,232456.333,148340.64,176135.343,292164.05,225722.498,229946.422,556908.007,267068.354,160802.865,134645.995,165943.306,144632.165,118828.502,317987.325,194816.716,165551.464,120093.361,123940.228,105652.784,158764.794,224242.236,478235.663,229397.866,306168.753,209562.805,317490.648,197562.39,82167.029,249675.008,119743.184,193195.485,221307.292,437727.143,168060.201,140845.596,223940.611,155431.269,234618.426,198034.894,109895.278,114259.366,174449.071,200214.105,247838.12,95676.148,241911.568,227276.7,213864.008,411874.516,202756.436,260289.6,306355.364,243776.596,274168.554,199550.015,320961.503,250071.904,280005.612,243699.304,244443.97,211639.388,283626.644,101694.982,87677.386,154279.207,204751.055,278886.119,167789.037,97789.265,183121.746,173630.602,336933.388,250193.087,150759.462,232077.506,164435.456,265192.702,290155.293,274950.896,137467.394,108544.13,375840.498,213600.745,344982.555,334548.726,70414.272,159706.089,264250.643,238759.794,364342.314,109637.404,187986.325,274026.688,145915.159,161170.451,167588.174,256195.301,299603.007,203808.359,541357.933,306958.962,210496.82,111521.462,283068.732,228986.606,106469.434,171351.93,374246.63,213017.953,275058.942,145061.338,278752.967,229355.057,171526.538,161583.288,305521.769,175138.502,267592.845,301866.038,316313.207,178969.883,93761.228,246872.175,191220.918,231253.339,158362.88,198177.076,191812.134,133670.834,338329.659,145231.182,181232.187,241296.889,320448.442,241658.445,352431.621,311441.847,132379.586,271334.815,423225.877,236700.466,241621.212,77704.824,160144.039,298069.927,213119.914,622656.125,128704.782,244898.068,232789.998,176188.136,123543.987,309529.02,162477.892,182756.74,236121.384,237737.313,60984.921,302812.949,117446.621,190521.338,112641.806,335444.375,303061.401,245179.251,116155.748,216628.498,191722.514,183855.603,268081.648,189522.419,119589.319,100434.573,127793.333,152376.648,242683.346,243042.323,155405.377,239372.409,346181.816,106075.717,199049.877,309548.795,120196.916,75443.32,231422.043,213125.436,199306.147,363060.509,287977.487,167722.224,381500.471,262524.951,218522.459,288161.64,233049.489,440252.025,262784.73,365445.123,300391.849,195782.805,210628.629,463182.202,179841.444,201196.963,400969.868,282974.718,193431.915,250698.098,188191.063,254073.341,406528.547,278684.529,269654.955,294242.808,363596.519,440688.361,209864.612,129239.051,186411.048,143011.428,188994.403,274437.97,175466.792,288361.505,380148.767,237007.103,404639.054,172654.536,282063.624,146892.076,120489.698,238819.944,186958.178,106840.348],\"xaxis\":\"x\",\"y\":[\"cloud_0\",\"edge_0\",\"edge_1\",\"cloud_0\",\"cloud_0\",\"edge_1\",\"cloud_0\",\"myDevice\",\"edge_0\",\"edge_1\",\"myDevice\",\"cloud_0\",\"edge_1\",\"edge_0\",\"cloud_0\",\"edge_1\",\"myDevice\",\"myDevice\",\"edge_0\",\"myDevice\",\"cloud_0\",\"edge_1\",\"edge_0\",\"cloud_0\",\"edge_0\",\"myDevice\",\"cloud_0\",\"cloud_0\",\"edge_1\",\"edge_0\",\"cloud_0\",\"myDevice\",\"cloud_0\",\"cloud_0\",\"edge_1\",\"edge_0\",\"myDevice\",\"cloud_0\",\"edge_1\",\"cloud_0\",\"edge_0\",\"myDevice\",\"edge_1\",\"edge_0\",\"cloud_0\",\"edge_1\",\"edge_0\",\"cloud_0\",\"myDevice\",\"edge_0\",\"cloud_0\",\"edge_0\",\"edge_1\",\"myDevice\",\"edge_1\",\"cloud_0\",\"edge_0\",\"cloud_0\",\"edge_1\",\"edge_0\",\"myDevice\",\"cloud_0\",\"edge_1\",\"myDevice\",\"myDevice\",\"cloud_0\",\"cloud_0\",\"edge_0\",\"cloud_0\",\"edge_0\",\"myDevice\",\"edge_1\",\"cloud_0\",\"edge_1\",\"cloud_0\",\"edge_0\",\"cloud_0\",\"myDevice\",\"edge_1\",\"cloud_0\",\"edge_0\",\"edge_1\",\"cloud_0\",\"edge_0\",\"myDevice\",\"edge_1\",\"cloud_0\",\"edge_0\",\"edge_1\",\"myDevice\",\"cloud_0\",\"edge_0\",\"edge_0\",\"edge_1\",\"cloud_0\",\"myDevice\",\"cloud_0\",\"edge_1\",\"myDevice\",\"cloud_0\",\"edge_0\",\"myDevice\",\"edge_1\",\"cloud_0\",\"edge_0\",\"edge_0\",\"edge_1\",\"myDevice\",\"cloud_0\",\"edge_0\",\"cloud_0\",\"edge_1\",\"myDevice\",\"cloud_0\",\"edge_1\",\"edge_0\",\"cloud_0\",\"edge_0\",\"edge_1\",\"cloud_0\",\"myDevice\",\"edge_0\",\"edge_1\",\"myDevice\",\"cloud_0\",\"edge_0\",\"cloud_0\",\"edge_1\",\"edge_1\",\"cloud_0\",\"myDevice\",\"edge_0\",\"edge_1\",\"myDevice\",\"edge_0\",\"cloud_0\",\"myDevice\",\"cloud_0\",\"edge_0\",\"edge_1\",\"edge_0\",\"cloud_0\",\"cloud_0\",\"edge_0\",\"edge_1\",\"myDevice\",\"myDevice\",\"cloud_0\",\"edge_1\",\"myDevice\",\"cloud_0\",\"edge_0\",\"edge_1\",\"cloud_0\",\"myDevice\",\"edge_0\",\"edge_1\",\"edge_1\",\"myDevice\",\"cloud_0\",\"edge_0\",\"cloud_0\",\"edge_1\",\"myDevice\",\"edge_0\",\"cloud_0\",\"myDevice\",\"edge_0\",\"cloud_0\",\"edge_1\",\"cloud_0\",\"myDevice\",\"edge_1\",\"edge_0\",\"cloud_0\",\"edge_0\",\"edge_1\",\"myDevice\",\"edge_0\",\"cloud_0\",\"cloud_0\",\"edge_0\",\"myDevice\",\"edge_1\",\"edge_0\",\"edge_1\",\"cloud_0\",\"myDevice\",\"edge_1\",\"cloud_0\",\"edge_0\",\"cloud_0\",\"edge_0\",\"edge_1\",\"myDevice\",\"edge_0\",\"cloud_0\",\"edge_1\",\"edge_1\",\"cloud_0\",\"edge_0\",\"cloud_0\",\"edge_1\",\"myDevice\",\"edge_0\",\"cloud_0\",\"myDevice\",\"edge_0\",\"cloud_0\",\"cloud_0\",\"edge_1\",\"edge_0\",\"myDevice\",\"edge_1\",\"myDevice\",\"cloud_0\",\"edge_0\",\"cloud_0\",\"edge_0\",\"myDevice\",\"edge_1\",\"cloud_0\",\"myDevice\",\"edge_1\",\"cloud_0\",\"edge_0\",\"edge_0\",\"edge_1\",\"cloud_0\",\"myDevice\",\"edge_0\",\"cloud_0\",\"edge_1\",\"edge_0\",\"myDevice\",\"cloud_0\",\"edge_1\",\"myDevice\",\"edge_0\",\"cloud_0\",\"edge_1\",\"edge_0\",\"myDevice\",\"cloud_0\",\"edge_1\",\"cloud_0\",\"myDevice\",\"edge_0\",\"edge_1\",\"cloud_0\",\"cloud_0\",\"edge_1\",\"myDevice\",\"edge_0\",\"edge_1\",\"cloud_0\",\"edge_1\",\"edge_0\",\"myDevice\",\"cloud_0\",\"edge_1\",\"edge_1\",\"edge_0\",\"cloud_0\",\"edge_1\",\"myDevice\",\"cloud_0\",\"cloud_0\",\"edge_0\",\"myDevice\",\"edge_1\",\"cloud_0\",\"cloud_0\",\"myDevice\",\"edge_0\",\"edge_0\",\"cloud_0\",\"edge_1\",\"edge_0\",\"cloud_0\",\"myDevice\",\"edge_1\",\"cloud_0\",\"edge_0\",\"edge_0\",\"edge_1\",\"cloud_0\",\"cloud_0\",\"myDevice\",\"edge_0\",\"edge_1\",\"cloud_0\",\"myDevice\",\"cloud_0\",\"edge_0\",\"edge_1\",\"edge_0\",\"edge_1\",\"cloud_0\",\"cloud_0\",\"myDevice\",\"edge_1\",\"edge_0\",\"myDevice\",\"edge_0\",\"edge_1\",\"edge_0\",\"cloud_0\",\"myDevice\",\"edge_1\",\"edge_0\",\"edge_1\",\"cloud_0\",\"myDevice\",\"edge_1\",\"cloud_0\",\"edge_0\",\"myDevice\",\"edge_1\",\"cloud_0\",\"edge_1\",\"myDevice\",\"edge_0\",\"cloud_0\",\"cloud_0\",\"edge_0\",\"cloud_0\",\"myDevice\",\"edge_1\",\"cloud_0\",\"edge_1\",\"edge_0\",\"edge_1\",\"edge_0\",\"myDevice\",\"cloud_0\",\"edge_1\",\"myDevice\",\"cloud_0\",\"cloud_0\",\"edge_0\",\"edge_1\",\"edge_0\",\"edge_0\",\"edge_1\",\"myDevice\",\"cloud_0\",\"myDevice\",\"cloud_0\",\"edge_1\",\"edge_0\",\"myDevice\",\"cloud_0\",\"edge_1\",\"cloud_0\",\"myDevice\",\"cloud_0\",\"edge_0\",\"edge_1\",\"edge_1\",\"myDevice\",\"edge_0\",\"cloud_0\",\"edge_0\",\"edge_1\",\"cloud_0\",\"edge_1\",\"myDevice\",\"cloud_0\",\"edge_0\",\"myDevice\",\"cloud_0\",\"edge_1\",\"cloud_0\",\"edge_0\",\"cloud_0\",\"myDevice\",\"edge_1\",\"edge_0\",\"myDevice\",\"cloud_0\",\"edge_0\",\"edge_1\",\"myDevice\",\"edge_0\",\"cloud_0\",\"edge_1\",\"edge_0\",\"cloud_0\",\"cloud_0\",\"myDevice\",\"edge_0\",\"edge_1\",\"cloud_0\",\"myDevice\",\"edge_0\",\"edge_1\",\"myDevice\",\"cloud_0\",\"edge_0\",\"edge_0\",\"cloud_0\",\"myDevice\",\"cloud_0\",\"edge_1\",\"edge_0\",\"edge_1\",\"cloud_0\",\"myDevice\",\"edge_0\",\"edge_0\",\"edge_1\",\"cloud_0\",\"myDevice\",\"edge_1\",\"cloud_0\"],\"yaxis\":\"y\",\"type\":\"bar\"}],                        {\"template\":{\"data\":{\"histogram2dcontour\":[{\"type\":\"histogram2dcontour\",\"colorbar\":{\"outlinewidth\":0,\"ticks\":\"\"},\"colorscale\":[[0.0,\"#0d0887\"],[0.1111111111111111,\"#46039f\"],[0.2222222222222222,\"#7201a8\"],[0.3333333333333333,\"#9c179e\"],[0.4444444444444444,\"#bd3786\"],[0.5555555555555556,\"#d8576b\"],[0.6666666666666666,\"#ed7953\"],[0.7777777777777778,\"#fb9f3a\"],[0.8888888888888888,\"#fdca26\"],[1.0,\"#f0f921\"]]}],\"choropleth\":[{\"type\":\"choropleth\",\"colorbar\":{\"outlinewidth\":0,\"ticks\":\"\"}}],\"histogram2d\":[{\"type\":\"histogram2d\",\"colorbar\":{\"outlinewidth\":0,\"ticks\":\"\"},\"colorscale\":[[0.0,\"#0d0887\"],[0.1111111111111111,\"#46039f\"],[0.2222222222222222,\"#7201a8\"],[0.3333333333333333,\"#9c179e\"],[0.4444444444444444,\"#bd3786\"],[0.5555555555555556,\"#d8576b\"],[0.6666666666666666,\"#ed7953\"],[0.7777777777777778,\"#fb9f3a\"],[0.8888888888888888,\"#fdca26\"],[1.0,\"#f0f921\"]]}],\"heatmap\":[{\"type\":\"heatmap\",\"colorbar\":{\"outlinewidth\":0,\"ticks\":\"\"},\"colorscale\":[[0.0,\"#0d0887\"],[0.1111111111111111,\"#46039f\"],[0.2222222222222222,\"#7201a8\"],[0.3333333333333333,\"#9c179e\"],[0.4444444444444444,\"#bd3786\"],[0.5555555555555556,\"#d8576b\"],[0.6666666666666666,\"#ed7953\"],[0.7777777777777778,\"#fb9f3a\"],[0.8888888888888888,\"#fdca26\"],[1.0,\"#f0f921\"]]}],\"heatmapgl\":[{\"type\":\"heatmapgl\",\"colorbar\":{\"outlinewidth\":0,\"ticks\":\"\"},\"colorscale\":[[0.0,\"#0d0887\"],[0.1111111111111111,\"#46039f\"],[0.2222222222222222,\"#7201a8\"],[0.3333333333333333,\"#9c179e\"],[0.4444444444444444,\"#bd3786\"],[0.5555555555555556,\"#d8576b\"],[0.6666666666666666,\"#ed7953\"],[0.7777777777777778,\"#fb9f3a\"],[0.8888888888888888,\"#fdca26\"],[1.0,\"#f0f921\"]]}],\"contourcarpet\":[{\"type\":\"contourcarpet\",\"colorbar\":{\"outlinewidth\":0,\"ticks\":\"\"}}],\"contour\":[{\"type\":\"contour\",\"colorbar\":{\"outlinewidth\":0,\"ticks\":\"\"},\"colorscale\":[[0.0,\"#0d0887\"],[0.1111111111111111,\"#46039f\"],[0.2222222222222222,\"#7201a8\"],[0.3333333333333333,\"#9c179e\"],[0.4444444444444444,\"#bd3786\"],[0.5555555555555556,\"#d8576b\"],[0.6666666666666666,\"#ed7953\"],[0.7777777777777778,\"#fb9f3a\"],[0.8888888888888888,\"#fdca26\"],[1.0,\"#f0f921\"]]}],\"surface\":[{\"type\":\"surface\",\"colorbar\":{\"outlinewidth\":0,\"ticks\":\"\"},\"colorscale\":[[0.0,\"#0d0887\"],[0.1111111111111111,\"#46039f\"],[0.2222222222222222,\"#7201a8\"],[0.3333333333333333,\"#9c179e\"],[0.4444444444444444,\"#bd3786\"],[0.5555555555555556,\"#d8576b\"],[0.6666666666666666,\"#ed7953\"],[0.7777777777777778,\"#fb9f3a\"],[0.8888888888888888,\"#fdca26\"],[1.0,\"#f0f921\"]]}],\"mesh3d\":[{\"type\":\"mesh3d\",\"colorbar\":{\"outlinewidth\":0,\"ticks\":\"\"}}],\"scatter\":[{\"fillpattern\":{\"fillmode\":\"overlay\",\"size\":10,\"solidity\":0.2},\"type\":\"scatter\"}],\"parcoords\":[{\"type\":\"parcoords\",\"line\":{\"colorbar\":{\"outlinewidth\":0,\"ticks\":\"\"}}}],\"scatterpolargl\":[{\"type\":\"scatterpolargl\",\"marker\":{\"colorbar\":{\"outlinewidth\":0,\"ticks\":\"\"}}}],\"bar\":[{\"error_x\":{\"color\":\"#2a3f5f\"},\"error_y\":{\"color\":\"#2a3f5f\"},\"marker\":{\"line\":{\"color\":\"#E5ECF6\",\"width\":0.5},\"pattern\":{\"fillmode\":\"overlay\",\"size\":10,\"solidity\":0.2}},\"type\":\"bar\"}],\"scattergeo\":[{\"type\":\"scattergeo\",\"marker\":{\"colorbar\":{\"outlinewidth\":0,\"ticks\":\"\"}}}],\"scatterpolar\":[{\"type\":\"scatterpolar\",\"marker\":{\"colorbar\":{\"outlinewidth\":0,\"ticks\":\"\"}}}],\"histogram\":[{\"marker\":{\"pattern\":{\"fillmode\":\"overlay\",\"size\":10,\"solidity\":0.2}},\"type\":\"histogram\"}],\"scattergl\":[{\"type\":\"scattergl\",\"marker\":{\"colorbar\":{\"outlinewidth\":0,\"ticks\":\"\"}}}],\"scatter3d\":[{\"type\":\"scatter3d\",\"line\":{\"colorbar\":{\"outlinewidth\":0,\"ticks\":\"\"}},\"marker\":{\"colorbar\":{\"outlinewidth\":0,\"ticks\":\"\"}}}],\"scattermapbox\":[{\"type\":\"scattermapbox\",\"marker\":{\"colorbar\":{\"outlinewidth\":0,\"ticks\":\"\"}}}],\"scatterternary\":[{\"type\":\"scatterternary\",\"marker\":{\"colorbar\":{\"outlinewidth\":0,\"ticks\":\"\"}}}],\"scattercarpet\":[{\"type\":\"scattercarpet\",\"marker\":{\"colorbar\":{\"outlinewidth\":0,\"ticks\":\"\"}}}],\"carpet\":[{\"aaxis\":{\"endlinecolor\":\"#2a3f5f\",\"gridcolor\":\"white\",\"linecolor\":\"white\",\"minorgridcolor\":\"white\",\"startlinecolor\":\"#2a3f5f\"},\"baxis\":{\"endlinecolor\":\"#2a3f5f\",\"gridcolor\":\"white\",\"linecolor\":\"white\",\"minorgridcolor\":\"white\",\"startlinecolor\":\"#2a3f5f\"},\"type\":\"carpet\"}],\"table\":[{\"cells\":{\"fill\":{\"color\":\"#EBF0F8\"},\"line\":{\"color\":\"white\"}},\"header\":{\"fill\":{\"color\":\"#C8D4E3\"},\"line\":{\"color\":\"white\"}},\"type\":\"table\"}],\"barpolar\":[{\"marker\":{\"line\":{\"color\":\"#E5ECF6\",\"width\":0.5},\"pattern\":{\"fillmode\":\"overlay\",\"size\":10,\"solidity\":0.2}},\"type\":\"barpolar\"}],\"pie\":[{\"automargin\":true,\"type\":\"pie\"}]},\"layout\":{\"autotypenumbers\":\"strict\",\"colorway\":[\"#636efa\",\"#EF553B\",\"#00cc96\",\"#ab63fa\",\"#FFA15A\",\"#19d3f3\",\"#FF6692\",\"#B6E880\",\"#FF97FF\",\"#FECB52\"],\"font\":{\"color\":\"#2a3f5f\"},\"hovermode\":\"closest\",\"hoverlabel\":{\"align\":\"left\"},\"paper_bgcolor\":\"white\",\"plot_bgcolor\":\"#E5ECF6\",\"polar\":{\"bgcolor\":\"#E5ECF6\",\"angularaxis\":{\"gridcolor\":\"white\",\"linecolor\":\"white\",\"ticks\":\"\"},\"radialaxis\":{\"gridcolor\":\"white\",\"linecolor\":\"white\",\"ticks\":\"\"}},\"ternary\":{\"bgcolor\":\"#E5ECF6\",\"aaxis\":{\"gridcolor\":\"white\",\"linecolor\":\"white\",\"ticks\":\"\"},\"baxis\":{\"gridcolor\":\"white\",\"linecolor\":\"white\",\"ticks\":\"\"},\"caxis\":{\"gridcolor\":\"white\",\"linecolor\":\"white\",\"ticks\":\"\"}},\"coloraxis\":{\"colorbar\":{\"outlinewidth\":0,\"ticks\":\"\"}},\"colorscale\":{\"sequential\":[[0.0,\"#0d0887\"],[0.1111111111111111,\"#46039f\"],[0.2222222222222222,\"#7201a8\"],[0.3333333333333333,\"#9c179e\"],[0.4444444444444444,\"#bd3786\"],[0.5555555555555556,\"#d8576b\"],[0.6666666666666666,\"#ed7953\"],[0.7777777777777778,\"#fb9f3a\"],[0.8888888888888888,\"#fdca26\"],[1.0,\"#f0f921\"]],\"sequentialminus\":[[0.0,\"#0d0887\"],[0.1111111111111111,\"#46039f\"],[0.2222222222222222,\"#7201a8\"],[0.3333333333333333,\"#9c179e\"],[0.4444444444444444,\"#bd3786\"],[0.5555555555555556,\"#d8576b\"],[0.6666666666666666,\"#ed7953\"],[0.7777777777777778,\"#fb9f3a\"],[0.8888888888888888,\"#fdca26\"],[1.0,\"#f0f921\"]],\"diverging\":[[0,\"#8e0152\"],[0.1,\"#c51b7d\"],[0.2,\"#de77ae\"],[0.3,\"#f1b6da\"],[0.4,\"#fde0ef\"],[0.5,\"#f7f7f7\"],[0.6,\"#e6f5d0\"],[0.7,\"#b8e186\"],[0.8,\"#7fbc41\"],[0.9,\"#4d9221\"],[1,\"#276419\"]]},\"xaxis\":{\"gridcolor\":\"white\",\"linecolor\":\"white\",\"ticks\":\"\",\"title\":{\"standoff\":15},\"zerolinecolor\":\"white\",\"automargin\":true,\"zerolinewidth\":2},\"yaxis\":{\"gridcolor\":\"white\",\"linecolor\":\"white\",\"ticks\":\"\",\"title\":{\"standoff\":15},\"zerolinecolor\":\"white\",\"automargin\":true,\"zerolinewidth\":2},\"scene\":{\"xaxis\":{\"backgroundcolor\":\"#E5ECF6\",\"gridcolor\":\"white\",\"linecolor\":\"white\",\"showbackground\":true,\"ticks\":\"\",\"zerolinecolor\":\"white\",\"gridwidth\":2},\"yaxis\":{\"backgroundcolor\":\"#E5ECF6\",\"gridcolor\":\"white\",\"linecolor\":\"white\",\"showbackground\":true,\"ticks\":\"\",\"zerolinecolor\":\"white\",\"gridwidth\":2},\"zaxis\":{\"backgroundcolor\":\"#E5ECF6\",\"gridcolor\":\"white\",\"linecolor\":\"white\",\"showbackground\":true,\"ticks\":\"\",\"zerolinecolor\":\"white\",\"gridwidth\":2}},\"shapedefaults\":{\"line\":{\"color\":\"#2a3f5f\"}},\"annotationdefaults\":{\"arrowcolor\":\"#2a3f5f\",\"arrowhead\":0,\"arrowwidth\":1},\"geo\":{\"bgcolor\":\"white\",\"landcolor\":\"#E5ECF6\",\"subunitcolor\":\"white\",\"showland\":true,\"showlakes\":true,\"lakecolor\":\"white\"},\"title\":{\"x\":0.05},\"mapbox\":{\"style\":\"light\"}}},\"xaxis\":{\"anchor\":\"y\",\"domain\":[0.0,1.0],\"type\":\"date\"},\"yaxis\":{\"anchor\":\"x\",\"domain\":[0.0,1.0],\"title\":{\"text\":\"Unit\"},\"autorange\":\"reversed\"},\"coloraxis\":{\"colorbar\":{\"title\":{\"text\":\"TaskID\"}},\"colorscale\":[[0.0,\"#0d0887\"],[0.1111111111111111,\"#46039f\"],[0.2222222222222222,\"#7201a8\"],[0.3333333333333333,\"#9c179e\"],[0.4444444444444444,\"#bd3786\"],[0.5555555555555556,\"#d8576b\"],[0.6666666666666666,\"#ed7953\"],[0.7777777777777778,\"#fb9f3a\"],[0.8888888888888888,\"#fdca26\"],[1.0,\"#f0f921\"]]},\"legend\":{\"tracegroupgap\":0},\"margin\":{\"t\":60},\"barmode\":\"overlay\"},                        {\"responsive\": true}                    ).then(function(){\n",
              "                            \n",
              "var gd = document.getElementById('d5728a43-242b-47d4-bf58-e135d78bcad2');\n",
              "var x = new MutationObserver(function (mutations, observer) {{\n",
              "        var display = window.getComputedStyle(gd).display;\n",
              "        if (!display || display === 'none') {{\n",
              "            console.log([gd, 'removed!']);\n",
              "            Plotly.purge(gd);\n",
              "            observer.disconnect();\n",
              "        }}\n",
              "}});\n",
              "\n",
              "// Listen for the removal of the full notebook cells\n",
              "var notebookContainer = gd.closest('#notebook-container');\n",
              "if (notebookContainer) {{\n",
              "    x.observe(notebookContainer, {childList: true});\n",
              "}}\n",
              "\n",
              "// Listen for the clearing of the current output cell\n",
              "var outputEl = gd.closest('.output');\n",
              "if (outputEl) {{\n",
              "    x.observe(outputEl, {childList: true});\n",
              "}}\n",
              "\n",
              "                        })                };                            </script>        </div>\n",
              "</body>\n",
              "</html>"
            ]
          },
          "metadata": {}
        },
        {
          "output_type": "stream",
          "name": "stdout",
          "text": [
            "Number of not assigned tasks =  584\n",
            "Simulation1 total tasks delay = 624492 s\n"
          ]
        }
      ],
      "source": [
        "Nclouds = 1\n",
        "Nedges = 2\n",
        "Nvolunteers = 0\n",
        "\n",
        "network_noVolunteers = randomNetworkGenerator(Nclouds, Nedges)\n",
        "network_withVolunteers = copy.deepcopy(network_noVolunteers)\n",
        "network_withVolunteers.generateRandomVolunteers(Nvolunteers)\n",
        "\n",
        "tasks = randomTaskGenerator(_Ntasks = 1000)\n",
        "\n",
        "simulation1 = Simulation(network_noVolunteers, tasks, \"computationTime\")\n",
        "runTimeControl1 = simulation1.run()\n",
        "simulation1.plotGanttChart()\n",
        "print(\"Number of not assigned tasks = \", runTimeControl1.getNotAssignedTasks())\n",
        "print(\"Simulation1 total tasks delay = %d s\" % simulation1.totalTasksDelay())"
      ]
    },
    {
      "cell_type": "code",
      "source": [
        "Nclouds = 1\n",
        "Nedges = 2\n",
        "Nvolunteers = 10\n",
        "\n",
        "network_noVolunteers = randomNetworkGenerator(Nclouds, Nedges)\n",
        "network_withVolunteers = copy.deepcopy(network_noVolunteers)\n",
        "network_withVolunteers.generateRandomVolunteers(Nvolunteers)\n",
        "\n",
        "tasks = randomTaskGenerator(_Ntasks = 1000)\n",
        "\n",
        "simulation1 = Simulation(network_noVolunteers, tasks, \"computationTime\")\n",
        "runTimeControl1 = simulation1.run()\n",
        "simulation1.plotGanttChart()\n",
        "print(\"Number of not assigned tasks = \", runTimeControl1.getNotAssignedTasks())\n",
        "print(\"Simulation1 total tasks delay = %d s\" % simulation1.totalTasksDelay())"
      ],
      "metadata": {
        "colab": {
          "base_uri": "https://localhost:8080/",
          "height": 579
        },
        "id": "LqDat-S_bmYa",
        "outputId": "c8b51dc5-1d2c-4f04-c58b-62dbdc26790a"
      },
      "execution_count": 15,
      "outputs": [
        {
          "output_type": "display_data",
          "data": {
            "text/html": [
              "<html>\n",
              "<head><meta charset=\"utf-8\" /></head>\n",
              "<body>\n",
              "    <div>            <script src=\"https://cdnjs.cloudflare.com/ajax/libs/mathjax/2.7.5/MathJax.js?config=TeX-AMS-MML_SVG\"></script><script type=\"text/javascript\">if (window.MathJax && window.MathJax.Hub && window.MathJax.Hub.Config) {window.MathJax.Hub.Config({SVG: {font: \"STIX-Web\"}});}</script>                <script type=\"text/javascript\">window.PlotlyConfig = {MathJaxConfig: 'local'};</script>\n",
              "        <script charset=\"utf-8\" src=\"https://cdn.plot.ly/plotly-2.24.1.min.js\"></script>                <div id=\"ada5cdfa-6857-424a-aec7-a7248e4942fe\" class=\"plotly-graph-div\" style=\"height:525px; width:100%;\"></div>            <script type=\"text/javascript\">                                    window.PLOTLYENV=window.PLOTLYENV || {};                                    if (document.getElementById(\"ada5cdfa-6857-424a-aec7-a7248e4942fe\")) {                    Plotly.newPlot(                        \"ada5cdfa-6857-424a-aec7-a7248e4942fe\",                        [{\"alignmentgroup\":\"True\",\"base\":[\"2024-02-24T09:25:34.987892\",\"2024-02-24T09:25:52.294832\",\"2024-02-24T09:25:52.889730\",\"2024-02-24T09:26:48.697331\",\"2024-02-24T09:28:03.852936\",\"2024-02-24T09:27:25.535239\",\"2024-02-24T09:29:30.810649\",\"2024-02-24T09:30:08.636654\",\"2024-02-24T09:30:17.698048\",\"2024-02-24T09:31:15.254691\",\"2024-02-24T09:29:56.627583\",\"2024-02-24T09:30:59.118194\",\"2024-02-24T09:32:22.222516\",\"2024-02-24T09:31:37.435769\",\"2024-02-24T09:32:36.121842\",\"2024-02-24T09:33:10.518238\",\"2024-02-24T09:33:37.898939\",\"2024-02-24T09:34:46.427715\",\"2024-02-24T09:34:44.570727\",\"2024-02-24T09:35:30.639941\",\"2024-02-24T09:33:57.189859\",\"2024-02-24T09:36:21.968232\",\"2024-02-24T09:37:38.246897\",\"2024-02-24T09:35:57.938034\",\"2024-02-24T09:38:41.408156\",\"2024-02-24T09:38:48.718854\",\"2024-02-24T09:38:51.593358\",\"2024-02-24T09:38:35.147331\",\"2024-02-24T09:41:00.137231\",\"2024-02-24T09:41:23.901136\",\"2024-02-24T09:41:24.078271\",\"2024-02-24T09:43:28.404737\",\"2024-02-24T09:43:20.744810\",\"2024-02-24T09:40:24.024316\",\"2024-02-24T09:44:03.656493\",\"2024-02-24T09:45:23.953619\",\"2024-02-24T09:46:02.870177\",\"2024-02-24T09:45:33.807806\",\"2024-02-24T09:45:55.991901\",\"2024-02-24T09:48:07.012650\",\"2024-02-24T09:48:20.824587\",\"2024-02-24T09:49:20.229954\",\"2024-02-24T09:45:49.867821\",\"2024-02-24T09:51:07.106919\",\"2024-02-24T09:48:36.494255\",\"2024-02-24T09:51:04.496968\",\"2024-02-24T09:52:24.331066\",\"2024-02-24T09:53:07.400521\",\"2024-02-24T09:54:49.112225\",\"2024-02-24T09:56:00.219285\",\"2024-02-24T09:55:59.534595\",\"2024-02-24T09:57:19.033719\",\"2024-02-24T09:51:39.731487\",\"2024-02-24T09:59:04.278279\",\"2024-02-24T09:59:21.151768\",\"2024-02-24T10:00:44.515923\",\"2024-02-24T09:57:44.999133\",\"2024-02-24T09:59:27.155948\",\"2024-02-24T10:01:14.146589\",\"2024-02-24T10:01:19.889359\",\"2024-02-24T10:02:17.545979\",\"2024-02-24T10:02:54.606986\",\"2024-02-24T10:03:31.532569\",\"2024-02-24T10:01:47.639854\",\"2024-02-24T10:04:07.660545\",\"2024-02-24T10:05:57.288048\",\"2024-02-24T10:07:18.072924\",\"2024-02-24T10:06:50.433754\",\"2024-02-24T10:09:19.389525\",\"2024-02-24T10:04:14.771178\",\"2024-02-24T10:08:49.224456\",\"2024-02-24T10:11:09.657614\",\"2024-02-24T10:12:06.831256\",\"2024-02-24T10:11:48.895759\",\"2024-02-24T10:12:49.763295\",\"2024-02-24T10:14:14.044948\",\"2024-02-24T10:14:46.261060\",\"2024-02-24T10:11:40.050862\",\"2024-02-24T10:16:27.095578\",\"2024-02-24T10:13:48.888615\",\"2024-02-24T10:17:34.782246\",\"2024-02-24T10:17:23.378148\",\"2024-02-24T10:16:52.586298\",\"2024-02-24T10:19:51.054485\",\"2024-02-24T10:20:20.268673\",\"2024-02-24T10:21:01.548610\",\"2024-02-24T10:21:59.759278\",\"2024-02-24T10:19:48.008833\",\"2024-02-24T10:24:05.916424\",\"2024-02-24T10:23:40.525625\",\"2024-02-24T10:24:38.803413\",\"2024-02-24T10:25:09.240079\",\"2024-02-24T10:26:15.674811\",\"2024-02-24T10:25:59.932305\",\"2024-02-24T10:27:49.404481\",\"2024-02-24T10:27:34.604774\",\"2024-02-24T10:24:11.092315\",\"2024-02-24T10:28:59.312325\",\"2024-02-24T10:30:18.376667\",\"2024-02-24T10:31:16.896417\",\"2024-02-24T10:28:53.071386\",\"2024-02-24T10:33:44.605540\",\"2024-02-24T10:35:25.588390\",\"2024-02-24T10:35:00.974019\",\"2024-02-24T10:34:29.973635\",\"2024-02-24T10:37:35.106238\",\"2024-02-24T10:38:38.522969\",\"2024-02-24T10:38:46.515207\",\"2024-02-24T10:39:04.853863\",\"2024-02-24T10:41:05.324648\",\"2024-02-24T10:37:16.643573\",\"2024-02-24T10:42:35.057754\",\"2024-02-24T10:42:56.161746\",\"2024-02-24T10:44:06.188123\",\"2024-02-24T10:44:33.339024\",\"2024-02-24T10:46:29.119916\",\"2024-02-24T10:42:25.567630\",\"2024-02-24T10:46:52.870705\",\"2024-02-24T10:49:24.818919\",\"2024-02-24T10:49:01.789829\",\"2024-02-24T10:46:11.460381\",\"2024-02-24T10:51:21.860617\",\"2024-02-24T10:53:18.192017\",\"2024-02-24T10:53:17.826725\",\"2024-02-24T10:54:07.029476\",\"2024-02-24T10:51:55.214075\",\"2024-02-24T10:55:14.303657\",\"2024-02-24T10:55:35.987238\",\"2024-02-24T10:57:01.449973\",\"2024-02-24T10:57:06.129809\",\"2024-02-24T10:58:38.394058\",\"2024-02-24T11:00:05.370878\",\"2024-02-24T11:01:57.925492\",\"2024-02-24T11:03:08.061021\",\"2024-02-24T10:54:47.075497\",\"2024-02-24T11:03:45.935426\",\"2024-02-24T10:59:36.876911\",\"2024-02-24T11:05:16.861613\",\"2024-02-24T11:07:51.100637\",\"2024-02-24T11:08:19.787382\",\"2024-02-24T11:09:23.387836\",\"2024-02-24T11:09:30.991821\",\"2024-02-24T11:10:22.109219\",\"2024-02-24T11:12:54.734468\",\"2024-02-24T11:09:29.890502\",\"2024-02-24T11:12:58.915519\",\"2024-02-24T11:14:26.893346\",\"2024-02-24T11:15:44.062140\",\"2024-02-24T11:15:57.344805\",\"2024-02-24T11:17:11.834662\",\"2024-02-24T11:17:42.551310\",\"2024-02-24T11:19:48.031587\",\"2024-02-24T11:15:01.845164\",\"2024-02-24T11:21:51.799288\",\"2024-02-24T11:22:05.013072\",\"2024-02-24T11:23:14.286213\",\"2024-02-24T11:25:31.132779\",\"2024-02-24T11:27:04.541994\",\"2024-02-24T11:28:09.662748\",\"2024-02-24T11:20:47.556591\",\"2024-02-24T11:27:08.514656\",\"2024-02-24T11:26:51.762551\",\"2024-02-24T11:31:48.711622\",\"2024-02-24T11:32:59.898230\",\"2024-02-24T11:33:21.440775\",\"2024-02-24T11:35:23.587981\",\"2024-02-24T11:34:46.685097\",\"2024-02-24T11:35:59.180242\",\"2024-02-24T11:38:37.357859\",\"2024-02-24T11:39:34.204126\",\"2024-02-24T11:39:54.732333\",\"2024-02-24T11:33:29.455666\",\"2024-02-24T11:42:31.536757\",\"2024-02-24T11:43:45.097753\",\"2024-02-24T11:44:13.823490\",\"2024-02-24T11:39:54.638977\",\"2024-02-24T11:46:41.385833\",\"2024-02-24T11:46:13.334805\",\"2024-02-24T11:47:38.180409\",\"2024-02-24T11:49:17.681261\",\"2024-02-24T11:50:06.681269\",\"2024-02-24T11:45:40.987878\",\"2024-02-24T11:52:23.772462\",\"2024-02-24T11:49:12.927842\",\"2024-02-24T11:51:46.613104\",\"2024-02-24T11:53:34.891436\",\"2024-02-24T11:55:03.237280\",\"2024-02-24T11:57:07.204284\",\"2024-02-24T11:53:09.678564\",\"2024-02-24T11:57:43.733938\",\"2024-02-24T11:57:23.527022\",\"2024-02-24T11:59:30.463300\",\"2024-02-24T11:59:48.171075\",\"2024-02-24T12:00:50.258892\",\"2024-02-24T12:01:11.474707\",\"2024-02-24T11:59:41.153081\",\"2024-02-24T12:03:35.951139\",\"2024-02-24T12:03:57.709085\",\"2024-02-24T12:05:08.144270\",\"2024-02-24T12:04:43.173951\",\"2024-02-24T12:07:15.482259\",\"2024-02-24T12:08:02.220296\",\"2024-02-24T12:08:40.979264\",\"2024-02-24T12:05:16.072015\",\"2024-02-24T12:11:26.025123\",\"2024-02-24T12:13:01.824099\",\"2024-02-24T12:13:10.645199\",\"2024-02-24T12:10:32.580355\",\"2024-02-24T12:13:21.459623\",\"2024-02-24T12:14:42.534697\",\"2024-02-24T12:16:58.656734\",\"2024-02-24T12:17:00.860676\",\"2024-02-24T12:13:22.216864\",\"2024-02-24T12:18:30.722372\",\"2024-02-24T12:19:54.740830\",\"2024-02-24T12:20:49.198561\",\"2024-02-24T12:21:02.509701\",\"2024-02-24T12:21:10.169530\",\"2024-02-24T12:22:28.002799\",\"2024-02-24T12:22:39.853796\",\"2024-02-24T12:23:40.355712\",\"2024-02-24T12:19:31.479138\",\"2024-02-24T12:26:33.631458\",\"2024-02-24T12:25:55.438437\",\"2024-02-24T12:26:48.860844\",\"2024-02-24T12:28:27.835684\",\"2024-02-24T12:29:51.319670\",\"2024-02-24T12:30:19.117729\",\"2024-02-24T12:28:47.611996\",\"2024-02-24T12:30:37.323253\",\"2024-02-24T12:31:52.621183\",\"2024-02-24T12:31:54.947764\",\"2024-02-24T12:32:33.306159\",\"2024-02-24T12:34:09.762545\",\"2024-02-24T12:34:53.383202\",\"2024-02-24T12:35:08.770693\",\"2024-02-24T12:31:23.618954\",\"2024-02-24T12:37:37.827127\",\"2024-02-24T12:38:49.834770\",\"2024-02-24T12:39:46.511980\",\"2024-02-24T12:37:17.405227\",\"2024-02-24T12:40:23.022501\",\"2024-02-24T12:40:31.413414\",\"2024-02-24T12:42:01.144381\",\"2024-02-24T12:43:35.766469\",\"2024-02-24T12:45:05.556059\",\"2024-02-24T12:41:42.802662\",\"2024-02-24T12:45:44.184069\",\"2024-02-24T12:46:58.685340\",\"2024-02-24T12:47:22.776302\",\"2024-02-24T12:48:49.816805\",\"2024-02-24T12:50:04.419153\",\"2024-02-24T12:46:36.865352\",\"2024-02-24T12:50:51.084408\",\"2024-02-24T12:51:28.133076\",\"2024-02-24T12:54:09.926103\",\"2024-02-24T12:53:46.087586\",\"2024-02-24T12:54:43.861376\",\"2024-02-24T12:53:02.312854\",\"2024-02-24T12:56:43.352114\",\"2024-02-24T12:57:56.053678\",\"2024-02-24T12:57:47.278566\",\"2024-02-24T13:00:22.236010\",\"2024-02-24T12:56:44.116969\",\"2024-02-24T12:58:44.521051\",\"2024-02-24T13:01:57.464403\",\"2024-02-24T13:02:36.127130\",\"2024-02-24T13:03:37.908115\",\"2024-02-24T13:04:45.898739\",\"2024-02-24T13:05:12.528304\",\"2024-02-24T13:07:01.031123\",\"2024-02-24T13:06:52.438734\",\"2024-02-24T13:03:20.946418\",\"2024-02-24T13:05:59.352907\",\"2024-02-24T13:09:03.475229\",\"2024-02-24T13:09:58.227397\",\"2024-02-24T13:10:43.705369\",\"2024-02-24T13:12:20.222857\",\"2024-02-24T13:08:44.497274\",\"2024-02-24T13:12:41.175646\",\"2024-02-24T13:13:06.783151\",\"2024-02-24T13:15:16.035551\",\"2024-02-24T13:12:58.919647\",\"2024-02-24T13:16:25.177672\",\"2024-02-24T13:17:56.611103\",\"2024-02-24T13:17:27.561483\",\"2024-02-24T13:19:16.564242\",\"2024-02-24T13:19:32.665230\",\"2024-02-24T13:20:39.189717\",\"2024-02-24T13:18:06.667877\",\"2024-02-24T13:22:55.576459\",\"2024-02-24T13:22:35.523685\",\"2024-02-24T13:23:25.936228\",\"2024-02-24T13:23:40.607348\",\"2024-02-24T13:26:00.439192\",\"2024-02-24T13:26:14.471049\",\"2024-02-24T13:24:43.225781\",\"2024-02-24T13:27:03.507766\",\"2024-02-24T13:27:31.032011\",\"2024-02-24T13:26:46.356187\",\"2024-02-24T13:29:50.343278\",\"2024-02-24T13:30:30.481876\",\"2024-02-24T13:31:40.606308\",\"2024-02-24T13:31:41.138612\",\"2024-02-24T13:32:36.491782\",\"2024-02-24T13:29:55.974519\",\"2024-02-24T13:36:00.510194\",\"2024-02-24T13:36:30.232387\",\"2024-02-24T13:37:41.154376\",\"2024-02-24T13:40:19.034430\",\"2024-02-24T13:39:49.642846\",\"2024-02-24T13:38:01.073327\",\"2024-02-24T13:41:28.929320\",\"2024-02-24T13:42:02.676690\",\"2024-02-24T13:40:41.581988\",\"2024-02-24T13:43:02.421126\",\"2024-02-24T13:43:19.035638\",\"2024-02-24T13:44:01.709268\",\"2024-02-24T13:45:26.942763\",\"2024-02-24T13:46:44.252245\",\"2024-02-24T13:47:58.434084\",\"2024-02-24T13:43:37.521536\",\"2024-02-24T13:49:06.388990\",\"2024-02-24T13:49:54.251037\",\"2024-02-24T13:50:45.130472\",\"2024-02-24T13:52:05.341470\",\"2024-02-24T13:51:21.215592\",\"2024-02-24T13:51:22.809796\",\"2024-02-24T13:53:34.386683\",\"2024-02-24T13:53:49.043298\",\"2024-02-24T13:55:58.631559\",\"2024-02-24T13:52:10.794050\",\"2024-02-24T13:56:31.097470\",\"2024-02-24T13:58:19.793190\",\"2024-02-24T13:59:40.945729\",\"2024-02-24T14:02:00.529807\",\"2024-02-24T13:57:49.728902\",\"2024-02-24T14:02:20.961685\",\"2024-02-24T14:04:05.740652\",\"2024-02-24T14:04:03.849768\",\"2024-02-24T14:05:13.803384\",\"2024-02-24T14:06:19.328012\",\"2024-02-24T14:05:45.008802\",\"2024-02-24T14:06:09.011231\",\"2024-02-24T14:07:54.481100\",\"2024-02-24T14:03:17.822647\",\"2024-02-24T14:08:58.534480\",\"2024-02-24T14:06:13.775085\",\"2024-02-24T14:11:03.356752\",\"2024-02-24T14:12:11.442998\",\"2024-02-24T14:12:43.271012\",\"2024-02-24T14:14:17.183990\",\"2024-02-24T14:10:39.715137\",\"2024-02-24T14:14:07.785463\",\"2024-02-24T14:15:41.477519\",\"2024-02-24T14:13:41.379637\",\"2024-02-24T14:15:50.843572\",\"2024-02-24T14:16:31.897396\",\"2024-02-24T14:17:39.168694\",\"2024-02-24T14:17:15.715408\",\"2024-02-24T14:20:03.632183\",\"2024-02-24T14:21:31.905125\",\"2024-02-24T14:21:29.242513\",\"2024-02-24T14:23:58.234894\",\"2024-02-24T14:23:57.141978\",\"2024-02-24T14:23:47.673233\",\"2024-02-24T14:21:17.111463\",\"2024-02-24T14:26:23.781127\",\"2024-02-24T14:28:23.224500\",\"2024-02-24T14:24:01.034429\",\"2024-02-24T14:28:57.745291\",\"2024-02-24T14:31:18.828130\",\"2024-02-24T14:32:07.595463\",\"2024-02-24T14:28:33.840486\",\"2024-02-24T14:33:32.169182\",\"2024-02-24T14:34:59.651307\",\"2024-02-24T14:36:32.428474\",\"2024-02-24T14:36:18.316736\",\"2024-02-24T14:38:39.260308\",\"2024-02-24T14:38:24.824002\",\"2024-02-24T14:39:46.121600\",\"2024-02-24T14:36:21.046766\",\"2024-02-24T14:42:37.096698\",\"2024-02-24T14:43:27.902289\",\"2024-02-24T14:44:15.094488\",\"2024-02-24T14:44:15.825874\",\"2024-02-24T14:46:00.174378\",\"2024-02-24T14:48:15.823779\",\"2024-02-24T14:49:05.253580\",\"2024-02-24T14:45:35.237559\",\"2024-02-24T14:49:33.599822\",\"2024-02-24T14:51:39.727397\",\"2024-02-24T14:52:36.460401\",\"2024-02-24T14:49:16.923458\",\"2024-02-24T14:53:55.347364\",\"2024-02-24T14:54:29.650892\",\"2024-02-24T14:55:59.055639\",\"2024-02-24T14:56:23.926285\",\"2024-02-24T14:58:01.281532\",\"2024-02-24T14:53:25.675312\",\"2024-02-24T14:57:41.022358\",\"2024-02-24T14:57:56.468932\",\"2024-02-24T15:00:22.293129\",\"2024-02-24T14:58:13.966165\",\"2024-02-24T15:00:56.543522\",\"2024-02-24T15:02:18.185729\",\"2024-02-24T15:02:45.720942\",\"2024-02-24T15:03:44.304041\",\"2024-02-24T15:03:54.208168\",\"2024-02-24T15:01:13.154289\",\"2024-02-24T15:06:10.189995\",\"2024-02-24T15:07:30.057431\",\"2024-02-24T15:08:06.598015\",\"2024-02-24T15:09:22.804943\",\"2024-02-24T15:09:27.779739\",\"2024-02-24T15:10:22.141461\",\"2024-02-24T15:08:23.163041\",\"2024-02-24T15:13:59.714584\",\"2024-02-24T15:14:08.099442\",\"2024-02-24T15:14:23.363543\",\"2024-02-24T15:18:18.227127\",\"2024-02-24T15:13:55.093877\",\"2024-02-24T15:17:31.659987\",\"2024-02-24T15:18:18.340971\",\"2024-02-24T15:17:48.273844\",\"2024-02-24T15:19:53.409516\",\"2024-02-24T15:20:33.864173\",\"2024-02-24T15:20:02.831885\",\"2024-02-24T15:23:07.800914\",\"2024-02-24T15:22:27.666233\",\"2024-02-24T15:22:48.122584\",\"2024-02-24T15:24:04.290809\",\"2024-02-24T15:25:18.378780\",\"2024-02-24T15:22:33.272904\",\"2024-02-24T15:26:55.876003\",\"2024-02-24T15:26:20.250597\",\"2024-02-24T15:28:12.731325\",\"2024-02-24T15:28:34.920823\",\"2024-02-24T15:30:00.013824\",\"2024-02-24T15:26:53.148178\",\"2024-02-24T15:31:15.394298\",\"2024-02-24T15:32:13.351230\",\"2024-02-24T15:32:01.508362\",\"2024-02-24T15:33:28.042236\",\"2024-02-24T15:33:32.268145\",\"2024-02-24T15:34:14.445959\",\"2024-02-24T15:35:01.497579\",\"2024-02-24T15:33:21.428222\",\"2024-02-24T15:36:37.245943\",\"2024-02-24T15:36:46.150202\",\"2024-02-24T15:37:00.097628\",\"2024-02-24T15:39:00.551510\",\"2024-02-24T15:40:06.852126\",\"2024-02-24T15:40:43.831090\",\"2024-02-24T15:42:50.930094\",\"2024-02-24T15:43:07.172341\",\"2024-02-24T15:37:05.668219\",\"2024-02-24T15:44:37.689150\",\"2024-02-24T15:46:26.078590\",\"2024-02-24T15:47:08.973621\"],\"hovertemplate\":\"Start=%{base}\\u003cbr\\u003eFinish=%{x}\\u003cbr\\u003eUnit=%{y}\\u003cbr\\u003eTaskID=%{marker.color}\\u003cextra\\u003e\\u003c\\u002fextra\\u003e\",\"legendgroup\":\"\",\"marker\":{\"color\":[887,934,534,724,665,304,263,759,617,63,603,323,128,809,849,131,485,147,876,246,920,882,460,985,974,614,853,342,327,440,261,631,101,292,875,488,33,0,991,220,662,375,264,776,303,437,544,628,484,250,105,502,325,586,676,55,329,36,380,986,115,237,735,71,70,116,842,308,391,835,590,356,655,722,952,7,272,519,379,566,899,902,300,912,579,946,546,700,777,464,262,728,677,726,523,459,119,944,256,598,775,560,62,945,433,77,848,47,428,491,600,833,84,282,525,526,867,189,87,401,606,658,4,224,707,210,486,353,599,731,287,57,202,942,169,663,66,637,320,935,756,103,612,889,993,890,127,581,671,601,785,312,529,363,38,931,564,957,528,577,800,91,717,358,516,680,930,587,155,695,359,798,531,421,411,60,589,964,175,354,969,407,929,434,591,44,710,258,906,41,915,468,222,778,551,297,926,83,458,240,883,713,142,816,630,621,693,916,449,176,989,82,823,682,846,366,659,367,641,268,918,903,507,160,315,231,545,678,907,473,479,408,498,851,496,818,512,423,20,962,389,454,150,171,429,779,461,151,25,504,847,782,668,862,642,227,110,940,772,683,445,716,933,947,370,340,351,860,139,369,646,3,80,910,619,388,702,509,219,30,212,932,368,977,877,377,29,769,336,140,618,786,362,208,253,998,958,333,469,556,657,190,505,675,788,259,374,121,95,900,979,492,582,840,801,503,337,954,133,56,793,125,897,328,286,595,435,715,817,11,153,739,647,427,161,719,281,725,572,182,752,604,674,783,376,874,183,8,562,575,135,959,335,179,673,254,94,524,64,571,749,580,936,296,988,649,307,14,866,751,597,697,193,463,656,814,843,9,456,198,345,446,129,762,811,405,629,767,557,789,815,413,593,826,453,436,104,93,409,741,732,828,705,385,209,861,462,75,302,901,43,921,984,194,873,420,753,5,623,960,89,430,419,306,365,771,386,584,909,794,869,311,765,773,347,913,92,573,238,96,350,455,244,994,487,855,830,494,265,594,792,164,90,858,13,645,797,704,120,383],\"coloraxis\":\"coloraxis\",\"pattern\":{\"shape\":\"\"}},\"name\":\"\",\"offsetgroup\":\"\",\"orientation\":\"h\",\"showlegend\":false,\"textposition\":\"auto\",\"x\":[273648.762,56402.499,217920.919,75155.605,133845.112,151092.344,88307.545,66618.037,172820.19,66967.825,100808.186,97003.648,144205.199,100461.755,61777.097,94052.489,112741.002,95540.517,244148.127,200953.417,120748.175,76278.665,63161.259,157209.297,138729.075,155359.417,269151.452,108876.985,23763.905,124503.601,159578.222,154465.44,133062.996,325843.505,80297.126,32038.282,124142.473,167016.781,204238.053,180094.269,163672.381,227170.567,166626.434,222005.306,183237.232,79834.098,215888.219,172134.074,149921.494,184058.994,201617.173,205482.204,365267.646,129868.31,118737.591,130091.063,102156.815,140483.906,173513.956,57656.62,73986.59,263465.938,198901.185,147131.324,109627.503,171936.408,121316.601,298462.005,167441.731,445279.684,140433.158,216603.446,127213.692,60867.536,217332.283,200737.298,157117.088,128837.753,233173.095,183697.683,136272.239,276381.13,175422.535,70494.125,200256.952,184367.814,159044.135,263083.482,129758.387,88714.454,81128.892,230072.246,93729.67,94672.469,207491.936,163771.893,281979.071,285293.215,282597.352,248691.973,336902.249,301909.667,129517.848,243879.844,166669.938,63416.731,236534.785,138809.441,231307.883,208014.376,308924.057,91130.369,236708.959,142931.793,268450.805,175699.003,225892.751,268989.912,282210.557,256402.188,343753.694,115966.108,137795.221,223623.248,67274.181,171861.422,204090.401,90142.571,296475.519,179241.069,269666.963,220564.548,353175.145,311726.361,289801.414,345056.395,339984.702,253028.889,92287.199,122321.837,211346.632,207923.698,244784.127,169327.672,331954.662,178429.286,164941.316,118489.17,230686.782,279964.626,262461.762,206254.626,345711.427,219333.491,299528.922,234228.443,158529.969,284169.628,290235.482,364205.96,372926.119,397693.115,177973.475,143689.751,315917.084,250616.145,72495.145,235552.091,234178.898,250893.627,259091.157,385183.311,221798.048,176288.08,303857.771,346348.901,205295.436,84845.604,248432.695,257210.175,137091.193,211939.964,159464.818,236750.722,320591.18,228635.586,160496.658,160966.791,391474.517,186524.954,126936.278,101011.407,295002.876,165692.247,166234.378,334918.934,92193.131,197773.174,174076.026,237805.313,250542.864,299603.803,280480.359,316508.34,104620.076,100710.598,230215.477,169636.509,309262.749,136122.037,176084.096,249308.854,369262.274,151787.329,54457.731,171157.151,85493.098,89684.266,207435.638,249007.048,173275.746,556132.858,197688.212,152397.247,210256.885,129487.569,121301.513,95830.035,156006.958,271447.44,40684.976,178435.438,96456.386,208064.582,329639.299,221064.077,353786.273,128684.853,101578.644,229254.489,265397.435,282533.558,89730.967,223039.688,202918.871,224260.746,294062.69,98592.233,185733.813,245356.774,121267.603,245506.95,385447.502,232776.968,137954.51,226127.575,241190.98,119490.738,221804.115,352775.016,146182.332,250185.837,195672.105,120404.082,276425.367,195063.901,129771.609,203123.008,126539.995,230946.925,177196.274,231266.635,158406.489,165144.367,243307.922,141995.46,117470.277,175812.694,254422.373,286385.837,198394.521,160575.552,307748.23,171386.57,162578.614,125103.747,198959.443,233270.998,136386.742,396557.904,247931.307,65083.663,168534.821,139831.844,90592.819,256010.827,123130.406,166835.512,305459.771,189618.332,110263.03,70656.736,259903.886,289093.775,304662.594,485098.808,258524.236,199410.459,261522.314,163386.696,99286.474,160508.661,110106.318,119032.578,175939.548,221831.119,127907.125,304679.722,151491.321,189998.792,204375.712,513272.514,134826.602,50879.435,80210.998,233290.089,147827.706,131576.887,285406.507,162054.172,222314.17,338934.852,349864.215,220736.617,264794.923,224478.995,328093.745,102888.083,68062.732,125161.463,65524.628,159206.468,129472.298,294345.521,288789.912,175952.438,192908.518,265940.052,184428.711,125740.992,187572.56,134713.406,181664.5,93692.056,117691.175,214335.771,252788.611,300007.729,230073.819,241396.055,233509.795,146329.769,138430.72,264989.606,300603.313,156107.894,163922.966,343814.336,175603.63,272806.057,274423.891,220823.177,250721.273,467206.28,307091.126,92777.167,193693.126,126507.266,335834.18,252272.696,221780.689,554190.793,98729.176,152272.089,290159.092,317773.948,135649.401,203903.618,211206.821,221685.899,261747.542,169923.495,320008.531,248751.854,123708.275,114275.393,101966.719,97355.247,175261.99,288290.853,161270.771,289252.01,115892.6,179188.124,167760.519,96022.439,284336.489,145885.954,252389.847,430008.752,251951.466,112747.512,81181.724,300558.6,280319.703,217573.123,331930.836,258512.543,203560.545,330045.973,289573.787,233179.967,46680.984,135523.202,134558.041,154256.717,134258.411,150441.019,228075.089,232584.364,76168.225,74087.971,196542.043,259875.274,184137.821,112480.728,182662.973,206587.539,133337.406,388280.044,136873.847,121094.729,86533.874,198107.966,89229.434,142799.984,118600.049,224239.997,246585.147,200701.924,120453.882,230378.584,180320.215,233858.06,258043.527,352745.223,612956.538,108389.44,211607.825,246879.225],\"xaxis\":\"x\",\"y\":[\"cloud_0\",\"edge_0\",\"edge_1\",\"edge_0\",\"edge_0\",\"myDevice\",\"edge_1\",\"cloud_0\",\"edge_0\",\"cloud_0\",\"myDevice\",\"edge_1\",\"cloud_0\",\"myDevice\",\"edge_1\",\"edge_0\",\"edge_1\",\"cloud_0\",\"edge_0\",\"edge_1\",\"myDevice\",\"cloud_0\",\"cloud_0\",\"myDevice\",\"cloud_0\",\"edge_0\",\"edge_1\",\"myDevice\",\"cloud_0\",\"cloud_0\",\"edge_0\",\"cloud_0\",\"edge_1\",\"myDevice\",\"edge_0\",\"edge_0\",\"cloud_0\",\"edge_1\",\"edge_0\",\"cloud_0\",\"edge_1\",\"edge_0\",\"myDevice\",\"cloud_0\",\"myDevice\",\"edge_1\",\"edge_1\",\"edge_0\",\"cloud_0\",\"edge_1\",\"edge_0\",\"cloud_0\",\"myDevice\",\"edge_1\",\"edge_0\",\"cloud_0\",\"myDevice\",\"myDevice\",\"edge_1\",\"edge_0\",\"edge_0\",\"cloud_0\",\"edge_0\",\"myDevice\",\"edge_1\",\"edge_1\",\"cloud_0\",\"edge_0\",\"cloud_0\",\"myDevice\",\"edge_1\",\"edge_1\",\"cloud_0\",\"edge_0\",\"edge_0\",\"cloud_0\",\"edge_1\",\"myDevice\",\"edge_0\",\"myDevice\",\"cloud_0\",\"edge_1\",\"myDevice\",\"cloud_0\",\"edge_0\",\"cloud_0\",\"edge_1\",\"myDevice\",\"cloud_0\",\"edge_0\",\"edge_1\",\"edge_0\",\"cloud_0\",\"edge_1\",\"cloud_0\",\"edge_1\",\"myDevice\",\"edge_0\",\"edge_1\",\"cloud_0\",\"myDevice\",\"edge_0\",\"cloud_0\",\"edge_1\",\"myDevice\",\"cloud_0\",\"cloud_0\",\"edge_0\",\"edge_1\",\"edge_0\",\"myDevice\",\"cloud_0\",\"edge_1\",\"cloud_0\",\"edge_0\",\"cloud_0\",\"myDevice\",\"edge_1\",\"cloud_0\",\"edge_0\",\"myDevice\",\"edge_1\",\"edge_0\",\"edge_1\",\"cloud_0\",\"myDevice\",\"cloud_0\",\"edge_0\",\"edge_1\",\"edge_0\",\"cloud_0\",\"edge_0\",\"edge_1\",\"cloud_0\",\"myDevice\",\"edge_0\",\"myDevice\",\"myDevice\",\"edge_1\",\"cloud_0\",\"edge_1\",\"edge_0\",\"cloud_0\",\"edge_1\",\"myDevice\",\"edge_0\",\"cloud_0\",\"edge_1\",\"edge_0\",\"cloud_0\",\"edge_1\",\"edge_0\",\"myDevice\",\"cloud_0\",\"edge_1\",\"edge_0\",\"cloud_0\",\"edge_1\",\"cloud_0\",\"myDevice\",\"edge_0\",\"myDevice\",\"edge_1\",\"cloud_0\",\"edge_0\",\"cloud_0\",\"edge_1\",\"edge_1\",\"edge_0\",\"cloud_0\",\"edge_1\",\"myDevice\",\"edge_0\",\"cloud_0\",\"edge_1\",\"myDevice\",\"cloud_0\",\"edge_0\",\"edge_0\",\"edge_1\",\"cloud_0\",\"myDevice\",\"cloud_0\",\"myDevice\",\"edge_0\",\"edge_1\",\"cloud_0\",\"edge_0\",\"myDevice\",\"cloud_0\",\"edge_1\",\"edge_1\",\"edge_0\",\"cloud_0\",\"edge_1\",\"myDevice\",\"cloud_0\",\"edge_1\",\"cloud_0\",\"edge_0\",\"edge_1\",\"cloud_0\",\"edge_0\",\"myDevice\",\"edge_1\",\"cloud_0\",\"edge_1\",\"myDevice\",\"edge_0\",\"cloud_0\",\"cloud_0\",\"edge_1\",\"myDevice\",\"edge_0\",\"cloud_0\",\"cloud_0\",\"edge_0\",\"edge_1\",\"edge_0\",\"edge_1\",\"cloud_0\",\"myDevice\",\"cloud_0\",\"edge_0\",\"edge_1\",\"edge_0\",\"cloud_0\",\"edge_1\",\"myDevice\",\"edge_0\",\"cloud_0\",\"edge_1\",\"cloud_0\",\"cloud_0\",\"edge_1\",\"edge_0\",\"myDevice\",\"cloud_0\",\"edge_0\",\"cloud_0\",\"myDevice\",\"edge_1\",\"edge_0\",\"edge_0\",\"cloud_0\",\"edge_1\",\"myDevice\",\"edge_0\",\"cloud_0\",\"edge_0\",\"edge_1\",\"cloud_0\",\"myDevice\",\"edge_1\",\"edge_0\",\"cloud_0\",\"edge_0\",\"edge_1\",\"myDevice\",\"edge_1\",\"cloud_0\",\"edge_0\",\"cloud_0\",\"myDevice\",\"myDevice\",\"edge_0\",\"edge_1\",\"cloud_0\",\"edge_1\",\"edge_0\",\"cloud_0\",\"edge_1\",\"myDevice\",\"myDevice\",\"edge_0\",\"cloud_0\",\"edge_1\",\"cloud_0\",\"myDevice\",\"edge_1\",\"edge_0\",\"cloud_0\",\"myDevice\",\"edge_0\",\"cloud_0\",\"edge_1\",\"edge_0\",\"edge_1\",\"cloud_0\",\"myDevice\",\"cloud_0\",\"edge_0\",\"edge_1\",\"edge_0\",\"edge_0\",\"edge_1\",\"myDevice\",\"cloud_0\",\"edge_0\",\"myDevice\",\"cloud_0\",\"edge_1\",\"cloud_0\",\"edge_1\",\"edge_0\",\"myDevice\",\"cloud_0\",\"edge_1\",\"edge_0\",\"cloud_0\",\"edge_1\",\"myDevice\",\"edge_1\",\"edge_0\",\"myDevice\",\"cloud_0\",\"edge_1\",\"edge_0\",\"edge_1\",\"cloud_0\",\"edge_1\",\"myDevice\",\"edge_0\",\"cloud_0\",\"cloud_0\",\"cloud_0\",\"edge_0\",\"edge_1\",\"edge_1\",\"edge_0\",\"cloud_0\",\"myDevice\",\"edge_0\",\"edge_1\",\"cloud_0\",\"edge_1\",\"myDevice\",\"edge_0\",\"cloud_0\",\"edge_0\",\"cloud_0\",\"cloud_0\",\"edge_1\",\"edge_0\",\"edge_1\",\"myDevice\",\"cloud_0\",\"myDevice\",\"edge_0\",\"cloud_0\",\"edge_1\",\"cloud_0\",\"myDevice\",\"edge_0\",\"edge_0\",\"myDevice\",\"edge_1\",\"cloud_0\",\"edge_0\",\"myDevice\",\"edge_1\",\"cloud_0\",\"edge_0\",\"cloud_0\",\"edge_1\",\"edge_0\",\"myDevice\",\"edge_0\",\"cloud_0\",\"myDevice\",\"edge_1\",\"cloud_0\",\"edge_0\",\"myDevice\",\"edge_1\",\"cloud_0\",\"cloud_0\",\"edge_0\",\"edge_1\",\"edge_0\",\"cloud_0\",\"myDevice\",\"edge_0\",\"cloud_0\",\"edge_1\",\"edge_0\",\"cloud_0\",\"cloud_0\",\"edge_1\",\"myDevice\",\"edge_0\",\"cloud_0\",\"edge_1\",\"myDevice\",\"edge_0\",\"cloud_0\",\"edge_0\",\"cloud_0\",\"cloud_0\",\"myDevice\",\"edge_0\",\"edge_1\",\"edge_0\",\"myDevice\",\"cloud_0\",\"edge_0\",\"edge_1\",\"cloud_0\",\"edge_0\",\"myDevice\",\"cloud_0\",\"edge_1\",\"edge_0\",\"edge_1\",\"edge_0\",\"cloud_0\",\"myDevice\",\"cloud_0\",\"edge_0\",\"edge_1\",\"cloud_0\",\"myDevice\",\"edge_0\",\"edge_0\",\"myDevice\",\"edge_1\",\"edge_0\",\"myDevice\",\"cloud_0\",\"edge_1\",\"edge_0\",\"edge_0\",\"edge_0\",\"myDevice\",\"cloud_0\",\"edge_1\",\"edge_1\",\"edge_0\",\"cloud_0\",\"myDevice\",\"edge_1\",\"cloud_0\",\"edge_0\",\"edge_0\",\"edge_1\",\"cloud_0\",\"edge_1\",\"myDevice\",\"cloud_0\",\"edge_0\",\"edge_1\",\"edge_1\",\"edge_0\",\"cloud_0\",\"edge_1\",\"edge_0\",\"myDevice\",\"cloud_0\",\"cloud_0\",\"edge_1\"],\"yaxis\":\"y\",\"type\":\"bar\"}],                        {\"template\":{\"data\":{\"histogram2dcontour\":[{\"type\":\"histogram2dcontour\",\"colorbar\":{\"outlinewidth\":0,\"ticks\":\"\"},\"colorscale\":[[0.0,\"#0d0887\"],[0.1111111111111111,\"#46039f\"],[0.2222222222222222,\"#7201a8\"],[0.3333333333333333,\"#9c179e\"],[0.4444444444444444,\"#bd3786\"],[0.5555555555555556,\"#d8576b\"],[0.6666666666666666,\"#ed7953\"],[0.7777777777777778,\"#fb9f3a\"],[0.8888888888888888,\"#fdca26\"],[1.0,\"#f0f921\"]]}],\"choropleth\":[{\"type\":\"choropleth\",\"colorbar\":{\"outlinewidth\":0,\"ticks\":\"\"}}],\"histogram2d\":[{\"type\":\"histogram2d\",\"colorbar\":{\"outlinewidth\":0,\"ticks\":\"\"},\"colorscale\":[[0.0,\"#0d0887\"],[0.1111111111111111,\"#46039f\"],[0.2222222222222222,\"#7201a8\"],[0.3333333333333333,\"#9c179e\"],[0.4444444444444444,\"#bd3786\"],[0.5555555555555556,\"#d8576b\"],[0.6666666666666666,\"#ed7953\"],[0.7777777777777778,\"#fb9f3a\"],[0.8888888888888888,\"#fdca26\"],[1.0,\"#f0f921\"]]}],\"heatmap\":[{\"type\":\"heatmap\",\"colorbar\":{\"outlinewidth\":0,\"ticks\":\"\"},\"colorscale\":[[0.0,\"#0d0887\"],[0.1111111111111111,\"#46039f\"],[0.2222222222222222,\"#7201a8\"],[0.3333333333333333,\"#9c179e\"],[0.4444444444444444,\"#bd3786\"],[0.5555555555555556,\"#d8576b\"],[0.6666666666666666,\"#ed7953\"],[0.7777777777777778,\"#fb9f3a\"],[0.8888888888888888,\"#fdca26\"],[1.0,\"#f0f921\"]]}],\"heatmapgl\":[{\"type\":\"heatmapgl\",\"colorbar\":{\"outlinewidth\":0,\"ticks\":\"\"},\"colorscale\":[[0.0,\"#0d0887\"],[0.1111111111111111,\"#46039f\"],[0.2222222222222222,\"#7201a8\"],[0.3333333333333333,\"#9c179e\"],[0.4444444444444444,\"#bd3786\"],[0.5555555555555556,\"#d8576b\"],[0.6666666666666666,\"#ed7953\"],[0.7777777777777778,\"#fb9f3a\"],[0.8888888888888888,\"#fdca26\"],[1.0,\"#f0f921\"]]}],\"contourcarpet\":[{\"type\":\"contourcarpet\",\"colorbar\":{\"outlinewidth\":0,\"ticks\":\"\"}}],\"contour\":[{\"type\":\"contour\",\"colorbar\":{\"outlinewidth\":0,\"ticks\":\"\"},\"colorscale\":[[0.0,\"#0d0887\"],[0.1111111111111111,\"#46039f\"],[0.2222222222222222,\"#7201a8\"],[0.3333333333333333,\"#9c179e\"],[0.4444444444444444,\"#bd3786\"],[0.5555555555555556,\"#d8576b\"],[0.6666666666666666,\"#ed7953\"],[0.7777777777777778,\"#fb9f3a\"],[0.8888888888888888,\"#fdca26\"],[1.0,\"#f0f921\"]]}],\"surface\":[{\"type\":\"surface\",\"colorbar\":{\"outlinewidth\":0,\"ticks\":\"\"},\"colorscale\":[[0.0,\"#0d0887\"],[0.1111111111111111,\"#46039f\"],[0.2222222222222222,\"#7201a8\"],[0.3333333333333333,\"#9c179e\"],[0.4444444444444444,\"#bd3786\"],[0.5555555555555556,\"#d8576b\"],[0.6666666666666666,\"#ed7953\"],[0.7777777777777778,\"#fb9f3a\"],[0.8888888888888888,\"#fdca26\"],[1.0,\"#f0f921\"]]}],\"mesh3d\":[{\"type\":\"mesh3d\",\"colorbar\":{\"outlinewidth\":0,\"ticks\":\"\"}}],\"scatter\":[{\"fillpattern\":{\"fillmode\":\"overlay\",\"size\":10,\"solidity\":0.2},\"type\":\"scatter\"}],\"parcoords\":[{\"type\":\"parcoords\",\"line\":{\"colorbar\":{\"outlinewidth\":0,\"ticks\":\"\"}}}],\"scatterpolargl\":[{\"type\":\"scatterpolargl\",\"marker\":{\"colorbar\":{\"outlinewidth\":0,\"ticks\":\"\"}}}],\"bar\":[{\"error_x\":{\"color\":\"#2a3f5f\"},\"error_y\":{\"color\":\"#2a3f5f\"},\"marker\":{\"line\":{\"color\":\"#E5ECF6\",\"width\":0.5},\"pattern\":{\"fillmode\":\"overlay\",\"size\":10,\"solidity\":0.2}},\"type\":\"bar\"}],\"scattergeo\":[{\"type\":\"scattergeo\",\"marker\":{\"colorbar\":{\"outlinewidth\":0,\"ticks\":\"\"}}}],\"scatterpolar\":[{\"type\":\"scatterpolar\",\"marker\":{\"colorbar\":{\"outlinewidth\":0,\"ticks\":\"\"}}}],\"histogram\":[{\"marker\":{\"pattern\":{\"fillmode\":\"overlay\",\"size\":10,\"solidity\":0.2}},\"type\":\"histogram\"}],\"scattergl\":[{\"type\":\"scattergl\",\"marker\":{\"colorbar\":{\"outlinewidth\":0,\"ticks\":\"\"}}}],\"scatter3d\":[{\"type\":\"scatter3d\",\"line\":{\"colorbar\":{\"outlinewidth\":0,\"ticks\":\"\"}},\"marker\":{\"colorbar\":{\"outlinewidth\":0,\"ticks\":\"\"}}}],\"scattermapbox\":[{\"type\":\"scattermapbox\",\"marker\":{\"colorbar\":{\"outlinewidth\":0,\"ticks\":\"\"}}}],\"scatterternary\":[{\"type\":\"scatterternary\",\"marker\":{\"colorbar\":{\"outlinewidth\":0,\"ticks\":\"\"}}}],\"scattercarpet\":[{\"type\":\"scattercarpet\",\"marker\":{\"colorbar\":{\"outlinewidth\":0,\"ticks\":\"\"}}}],\"carpet\":[{\"aaxis\":{\"endlinecolor\":\"#2a3f5f\",\"gridcolor\":\"white\",\"linecolor\":\"white\",\"minorgridcolor\":\"white\",\"startlinecolor\":\"#2a3f5f\"},\"baxis\":{\"endlinecolor\":\"#2a3f5f\",\"gridcolor\":\"white\",\"linecolor\":\"white\",\"minorgridcolor\":\"white\",\"startlinecolor\":\"#2a3f5f\"},\"type\":\"carpet\"}],\"table\":[{\"cells\":{\"fill\":{\"color\":\"#EBF0F8\"},\"line\":{\"color\":\"white\"}},\"header\":{\"fill\":{\"color\":\"#C8D4E3\"},\"line\":{\"color\":\"white\"}},\"type\":\"table\"}],\"barpolar\":[{\"marker\":{\"line\":{\"color\":\"#E5ECF6\",\"width\":0.5},\"pattern\":{\"fillmode\":\"overlay\",\"size\":10,\"solidity\":0.2}},\"type\":\"barpolar\"}],\"pie\":[{\"automargin\":true,\"type\":\"pie\"}]},\"layout\":{\"autotypenumbers\":\"strict\",\"colorway\":[\"#636efa\",\"#EF553B\",\"#00cc96\",\"#ab63fa\",\"#FFA15A\",\"#19d3f3\",\"#FF6692\",\"#B6E880\",\"#FF97FF\",\"#FECB52\"],\"font\":{\"color\":\"#2a3f5f\"},\"hovermode\":\"closest\",\"hoverlabel\":{\"align\":\"left\"},\"paper_bgcolor\":\"white\",\"plot_bgcolor\":\"#E5ECF6\",\"polar\":{\"bgcolor\":\"#E5ECF6\",\"angularaxis\":{\"gridcolor\":\"white\",\"linecolor\":\"white\",\"ticks\":\"\"},\"radialaxis\":{\"gridcolor\":\"white\",\"linecolor\":\"white\",\"ticks\":\"\"}},\"ternary\":{\"bgcolor\":\"#E5ECF6\",\"aaxis\":{\"gridcolor\":\"white\",\"linecolor\":\"white\",\"ticks\":\"\"},\"baxis\":{\"gridcolor\":\"white\",\"linecolor\":\"white\",\"ticks\":\"\"},\"caxis\":{\"gridcolor\":\"white\",\"linecolor\":\"white\",\"ticks\":\"\"}},\"coloraxis\":{\"colorbar\":{\"outlinewidth\":0,\"ticks\":\"\"}},\"colorscale\":{\"sequential\":[[0.0,\"#0d0887\"],[0.1111111111111111,\"#46039f\"],[0.2222222222222222,\"#7201a8\"],[0.3333333333333333,\"#9c179e\"],[0.4444444444444444,\"#bd3786\"],[0.5555555555555556,\"#d8576b\"],[0.6666666666666666,\"#ed7953\"],[0.7777777777777778,\"#fb9f3a\"],[0.8888888888888888,\"#fdca26\"],[1.0,\"#f0f921\"]],\"sequentialminus\":[[0.0,\"#0d0887\"],[0.1111111111111111,\"#46039f\"],[0.2222222222222222,\"#7201a8\"],[0.3333333333333333,\"#9c179e\"],[0.4444444444444444,\"#bd3786\"],[0.5555555555555556,\"#d8576b\"],[0.6666666666666666,\"#ed7953\"],[0.7777777777777778,\"#fb9f3a\"],[0.8888888888888888,\"#fdca26\"],[1.0,\"#f0f921\"]],\"diverging\":[[0,\"#8e0152\"],[0.1,\"#c51b7d\"],[0.2,\"#de77ae\"],[0.3,\"#f1b6da\"],[0.4,\"#fde0ef\"],[0.5,\"#f7f7f7\"],[0.6,\"#e6f5d0\"],[0.7,\"#b8e186\"],[0.8,\"#7fbc41\"],[0.9,\"#4d9221\"],[1,\"#276419\"]]},\"xaxis\":{\"gridcolor\":\"white\",\"linecolor\":\"white\",\"ticks\":\"\",\"title\":{\"standoff\":15},\"zerolinecolor\":\"white\",\"automargin\":true,\"zerolinewidth\":2},\"yaxis\":{\"gridcolor\":\"white\",\"linecolor\":\"white\",\"ticks\":\"\",\"title\":{\"standoff\":15},\"zerolinecolor\":\"white\",\"automargin\":true,\"zerolinewidth\":2},\"scene\":{\"xaxis\":{\"backgroundcolor\":\"#E5ECF6\",\"gridcolor\":\"white\",\"linecolor\":\"white\",\"showbackground\":true,\"ticks\":\"\",\"zerolinecolor\":\"white\",\"gridwidth\":2},\"yaxis\":{\"backgroundcolor\":\"#E5ECF6\",\"gridcolor\":\"white\",\"linecolor\":\"white\",\"showbackground\":true,\"ticks\":\"\",\"zerolinecolor\":\"white\",\"gridwidth\":2},\"zaxis\":{\"backgroundcolor\":\"#E5ECF6\",\"gridcolor\":\"white\",\"linecolor\":\"white\",\"showbackground\":true,\"ticks\":\"\",\"zerolinecolor\":\"white\",\"gridwidth\":2}},\"shapedefaults\":{\"line\":{\"color\":\"#2a3f5f\"}},\"annotationdefaults\":{\"arrowcolor\":\"#2a3f5f\",\"arrowhead\":0,\"arrowwidth\":1},\"geo\":{\"bgcolor\":\"white\",\"landcolor\":\"#E5ECF6\",\"subunitcolor\":\"white\",\"showland\":true,\"showlakes\":true,\"lakecolor\":\"white\"},\"title\":{\"x\":0.05},\"mapbox\":{\"style\":\"light\"}}},\"xaxis\":{\"anchor\":\"y\",\"domain\":[0.0,1.0],\"type\":\"date\"},\"yaxis\":{\"anchor\":\"x\",\"domain\":[0.0,1.0],\"title\":{\"text\":\"Unit\"},\"autorange\":\"reversed\"},\"coloraxis\":{\"colorbar\":{\"title\":{\"text\":\"TaskID\"}},\"colorscale\":[[0.0,\"#0d0887\"],[0.1111111111111111,\"#46039f\"],[0.2222222222222222,\"#7201a8\"],[0.3333333333333333,\"#9c179e\"],[0.4444444444444444,\"#bd3786\"],[0.5555555555555556,\"#d8576b\"],[0.6666666666666666,\"#ed7953\"],[0.7777777777777778,\"#fb9f3a\"],[0.8888888888888888,\"#fdca26\"],[1.0,\"#f0f921\"]]},\"legend\":{\"tracegroupgap\":0},\"margin\":{\"t\":60},\"barmode\":\"overlay\"},                        {\"responsive\": true}                    ).then(function(){\n",
              "                            \n",
              "var gd = document.getElementById('ada5cdfa-6857-424a-aec7-a7248e4942fe');\n",
              "var x = new MutationObserver(function (mutations, observer) {{\n",
              "        var display = window.getComputedStyle(gd).display;\n",
              "        if (!display || display === 'none') {{\n",
              "            console.log([gd, 'removed!']);\n",
              "            Plotly.purge(gd);\n",
              "            observer.disconnect();\n",
              "        }}\n",
              "}});\n",
              "\n",
              "// Listen for the removal of the full notebook cells\n",
              "var notebookContainer = gd.closest('#notebook-container');\n",
              "if (notebookContainer) {{\n",
              "    x.observe(notebookContainer, {childList: true});\n",
              "}}\n",
              "\n",
              "// Listen for the clearing of the current output cell\n",
              "var outputEl = gd.closest('.output');\n",
              "if (outputEl) {{\n",
              "    x.observe(outputEl, {childList: true});\n",
              "}}\n",
              "\n",
              "                        })                };                            </script>        </div>\n",
              "</body>\n",
              "</html>"
            ]
          },
          "metadata": {}
        },
        {
          "output_type": "stream",
          "name": "stdout",
          "text": [
            "Number of not assigned tasks =  540\n",
            "Simulation1 total tasks delay = 613178 s\n"
          ]
        }
      ]
    },
    {
      "cell_type": "code",
      "execution_count": 16,
      "metadata": {
        "colab": {
          "base_uri": "https://localhost:8080/",
          "height": 579
        },
        "id": "abkDxdCW1EHL",
        "outputId": "40eb35ae-3aa6-42b5-eb95-e5890fdbb0fd"
      },
      "outputs": [
        {
          "output_type": "display_data",
          "data": {
            "text/html": [
              "<html>\n",
              "<head><meta charset=\"utf-8\" /></head>\n",
              "<body>\n",
              "    <div>            <script src=\"https://cdnjs.cloudflare.com/ajax/libs/mathjax/2.7.5/MathJax.js?config=TeX-AMS-MML_SVG\"></script><script type=\"text/javascript\">if (window.MathJax && window.MathJax.Hub && window.MathJax.Hub.Config) {window.MathJax.Hub.Config({SVG: {font: \"STIX-Web\"}});}</script>                <script type=\"text/javascript\">window.PlotlyConfig = {MathJaxConfig: 'local'};</script>\n",
              "        <script charset=\"utf-8\" src=\"https://cdn.plot.ly/plotly-2.24.1.min.js\"></script>                <div id=\"79487067-4687-4c4e-9434-ea87ac1f7760\" class=\"plotly-graph-div\" style=\"height:525px; width:100%;\"></div>            <script type=\"text/javascript\">                                    window.PLOTLYENV=window.PLOTLYENV || {};                                    if (document.getElementById(\"79487067-4687-4c4e-9434-ea87ac1f7760\")) {                    Plotly.newPlot(                        \"79487067-4687-4c4e-9434-ea87ac1f7760\",                        [{\"alignmentgroup\":\"True\",\"base\":[\"2024-02-24T09:25:34.987892\",\"2024-02-24T09:25:52.294832\",\"2024-02-24T09:25:52.889730\",\"2024-02-24T09:26:00.808711\",\"2024-02-24T09:26:48.697331\",\"2024-02-24T09:27:45.784829\",\"2024-02-24T09:27:44.340786\",\"2024-02-24T09:29:02.542443\",\"2024-02-24T09:29:30.810649\",\"2024-02-24T09:29:11.083341\",\"2024-02-24T09:29:02.469514\",\"2024-02-24T09:30:08.636654\",\"2024-02-24T09:31:20.933425\",\"2024-02-24T09:31:19.852917\",\"2024-02-24T09:32:10.960727\",\"2024-02-24T09:32:43.554658\",\"2024-02-24T09:33:01.267811\",\"2024-02-24T09:33:45.138624\",\"2024-02-24T09:34:24.842273\",\"2024-02-24T09:35:20.679141\",\"2024-02-24T09:33:57.189859\",\"2024-02-24T09:34:47.957466\",\"2024-02-24T09:35:06.656441\",\"2024-02-24T09:34:54.832881\",\"2024-02-24T09:36:22.108338\",\"2024-02-24T09:35:10.899345\",\"2024-02-24T09:38:06.141563\",\"2024-02-24T09:36:07.025042\",\"2024-02-24T09:36:17.833858\",\"2024-02-24T09:37:22.285588\",\"2024-02-24T09:38:21.844147\",\"2024-02-24T09:39:13.416746\",\"2024-02-24T09:38:56.221688\",\"2024-02-24T09:41:02.438132\",\"2024-02-24T09:40:02.034810\",\"2024-02-24T09:40:23.050519\",\"2024-02-24T09:41:52.730085\",\"2024-02-24T09:42:24.121736\",\"2024-02-24T09:43:15.456913\",\"2024-02-24T09:43:56.872558\",\"2024-02-24T09:43:16.046432\",\"2024-02-24T09:45:10.857904\",\"2024-02-24T09:43:23.693667\",\"2024-02-24T09:46:56.966827\",\"2024-02-24T09:43:57.460123\",\"2024-02-24T09:44:03.021735\",\"2024-02-24T09:44:23.390708\",\"2024-02-24T09:46:36.397580\",\"2024-02-24T09:45:23.150860\",\"2024-02-24T09:46:57.574950\",\"2024-02-24T09:46:10.685111\",\"2024-02-24T09:48:58.028471\",\"2024-02-24T09:50:38.972133\",\"2024-02-24T09:50:12.285799\",\"2024-02-24T09:49:19.508258\",\"2024-02-24T09:49:20.947408\",\"2024-02-24T09:50:22.346740\",\"2024-02-24T09:51:08.325760\",\"2024-02-24T09:50:14.961253\",\"2024-02-24T09:52:19.645644\",\"2024-02-24T09:50:37.344634\",\"2024-02-24T09:52:39.366895\",\"2024-02-24T09:51:27.076385\",\"2024-02-24T09:51:36.603817\",\"2024-02-24T09:52:03.706066\",\"2024-02-24T09:52:42.472876\",\"2024-02-24T09:54:04.454337\",\"2024-02-24T09:54:07.851721\",\"2024-02-24T09:53:45.118222\",\"2024-02-24T09:54:46.538114\",\"2024-02-24T09:54:18.648113\",\"2024-02-24T09:55:32.880851\",\"2024-02-24T09:57:26.752906\",\"2024-02-24T09:58:27.920275\",\"2024-02-24T09:58:24.817259\",\"2024-02-24T09:57:52.398815\",\"2024-02-24T09:58:08.085950\",\"2024-02-24T09:59:56.477704\",\"2024-02-24T09:58:45.422425\",\"2024-02-24T09:58:55.439313\",\"2024-02-24T10:01:48.347900\",\"2024-02-24T10:00:41.297135\",\"2024-02-24T10:01:47.992326\",\"2024-02-24T10:02:29.739559\",\"2024-02-24T10:01:58.827049\",\"2024-02-24T10:03:17.240719\",\"2024-02-24T10:04:25.415023\",\"2024-02-24T10:04:08.762237\",\"2024-02-24T10:05:50.476857\",\"2024-02-24T10:05:20.785501\",\"2024-02-24T10:05:48.196689\",\"2024-02-24T10:05:57.396207\",\"2024-02-24T10:08:06.749096\",\"2024-02-24T10:08:18.588118\",\"2024-02-24T10:07:31.584696\",\"2024-02-24T10:07:50.566706\",\"2024-02-24T10:07:51.392511\",\"2024-02-24T10:09:57.166631\",\"2024-02-24T10:08:31.645398\",\"2024-02-24T10:08:41.768218\",\"2024-02-24T10:10:49.010774\",\"2024-02-24T10:11:06.338426\",\"2024-02-24T10:12:06.104509\",\"2024-02-24T10:11:54.028979\",\"2024-02-24T10:12:38.296087\",\"2024-02-24T10:13:55.454343\",\"2024-02-24T10:13:32.824925\",\"2024-02-24T10:12:22.458831\",\"2024-02-24T10:16:07.623795\",\"2024-02-24T10:15:24.711140\",\"2024-02-24T10:13:45.000175\",\"2024-02-24T10:16:46.103843\",\"2024-02-24T10:12:52.658123\",\"2024-02-24T10:12:59.167846\",\"2024-02-24T10:13:55.068051\",\"2024-02-24T10:19:58.808960\",\"2024-02-24T10:13:43.417226\",\"2024-02-24T10:13:54.189754\",\"2024-02-24T10:14:12.885999\",\"2024-02-24T10:14:26.646336\",\"2024-02-24T10:14:50.225014\",\"2024-02-24T10:16:14.824301\",\"2024-02-24T10:18:01.705687\",\"2024-02-24T10:15:02.585656\",\"2024-02-24T10:20:19.224448\",\"2024-02-24T10:16:57.406270\",\"2024-02-24T10:17:48.491122\",\"2024-02-24T10:17:44.283353\",\"2024-02-24T10:17:27.464575\",\"2024-02-24T10:21:39.901500\",\"2024-02-24T10:24:03.500459\",\"2024-02-24T10:19:34.110073\",\"2024-02-24T10:21:23.224378\",\"2024-02-24T10:24:17.047046\",\"2024-02-24T10:20:03.430076\",\"2024-02-24T10:21:45.939550\",\"2024-02-24T10:25:36.610459\",\"2024-02-24T10:20:52.992805\",\"2024-02-24T10:20:57.079929\",\"2024-02-24T10:24:34.256452\",\"2024-02-24T10:21:53.143068\",\"2024-02-24T10:27:16.943516\",\"2024-02-24T10:23:25.399377\",\"2024-02-24T10:22:06.956524\",\"2024-02-24T10:23:35.061012\",\"2024-02-24T10:23:06.251002\",\"2024-02-24T10:22:44.779441\",\"2024-02-24T10:25:12.282211\",\"2024-02-24T10:24:22.250517\",\"2024-02-24T10:25:41.864786\",\"2024-02-24T10:26:29.561938\",\"2024-02-24T10:28:45.780765\",\"2024-02-24T10:28:45.497851\",\"2024-02-24T10:25:44.168126\",\"2024-02-24T10:29:27.049982\",\"2024-02-24T10:27:43.551142\",\"2024-02-24T10:27:20.808681\",\"2024-02-24T10:31:03.427607\",\"2024-02-24T10:28:11.544446\",\"2024-02-24T10:32:28.493119\",\"2024-02-24T10:27:48.773958\",\"2024-02-24T10:29:16.619361\",\"2024-02-24T10:32:34.084120\",\"2024-02-24T10:29:11.840094\",\"2024-02-24T10:30:01.626591\",\"2024-02-24T10:33:36.410884\",\"2024-02-24T10:30:30.407041\",\"2024-02-24T10:32:39.192896\",\"2024-02-24T10:30:18.298445\",\"2024-02-24T10:31:02.005679\",\"2024-02-24T10:31:15.807080\",\"2024-02-24T10:36:12.116367\",\"2024-02-24T10:31:45.232478\",\"2024-02-24T10:31:50.020663\",\"2024-02-24T10:32:34.418151\",\"2024-02-24T10:33:29.810634\",\"2024-02-24T10:33:22.321027\",\"2024-02-24T10:33:27.466342\",\"2024-02-24T10:37:00.501285\",\"2024-02-24T10:36:15.643021\",\"2024-02-24T10:34:14.140122\",\"2024-02-24T10:34:26.802564\",\"2024-02-24T10:35:19.796119\",\"2024-02-24T10:35:13.455056\",\"2024-02-24T10:36:39.741442\",\"2024-02-24T10:36:10.245910\",\"2024-02-24T10:39:56.207569\",\"2024-02-24T10:36:32.354031\",\"2024-02-24T10:36:52.859580\",\"2024-02-24T10:41:30.168248\",\"2024-02-24T10:37:33.173173\",\"2024-02-24T10:37:13.527042\",\"2024-02-24T10:37:58.861379\",\"2024-02-24T10:41:08.591886\",\"2024-02-24T10:39:14.276188\",\"2024-02-24T10:39:19.901844\",\"2024-02-24T10:40:55.113900\",\"2024-02-24T10:40:31.930276\",\"2024-02-24T10:40:36.212391\",\"2024-02-24T10:41:23.286468\",\"2024-02-24T10:41:30.411319\",\"2024-02-24T10:42:07.683900\",\"2024-02-24T10:44:20.223718\",\"2024-02-24T10:42:40.737550\",\"2024-02-24T10:43:15.663813\",\"2024-02-24T10:45:15.883734\",\"2024-02-24T10:43:23.019741\",\"2024-02-24T10:44:59.232370\",\"2024-02-24T10:46:23.949838\",\"2024-02-24T10:44:54.518286\",\"2024-02-24T10:46:20.910161\",\"2024-02-24T10:45:00.268411\",\"2024-02-24T10:46:38.280801\",\"2024-02-24T10:48:21.545498\",\"2024-02-24T10:45:41.030931\",\"2024-02-24T10:46:06.364090\",\"2024-02-24T10:46:27.043872\",\"2024-02-24T10:49:24.710573\",\"2024-02-24T10:48:24.859710\",\"2024-02-24T10:47:20.823040\",\"2024-02-24T10:50:09.627433\",\"2024-02-24T10:51:09.997555\",\"2024-02-24T10:47:40.298947\",\"2024-02-24T10:48:04.991574\",\"2024-02-24T10:47:51.545922\",\"2024-02-24T10:47:54.654975\",\"2024-02-24T10:49:13.332594\",\"2024-02-24T10:48:23.064627\",\"2024-02-24T10:51:08.917659\",\"2024-02-24T10:53:11.498186\",\"2024-02-24T10:49:22.686809\",\"2024-02-24T10:53:14.120574\",\"2024-02-24T10:54:23.625252\",\"2024-02-24T10:53:24.033759\",\"2024-02-24T10:50:55.383619\",\"2024-02-24T10:55:26.432924\",\"2024-02-24T10:51:51.700082\",\"2024-02-24T10:52:09.366980\",\"2024-02-24T10:56:31.879309\",\"2024-02-24T10:52:46.562498\",\"2024-02-24T10:57:30.517151\",\"2024-02-24T10:54:21.046622\",\"2024-02-24T10:54:14.103815\",\"2024-02-24T10:54:41.251824\",\"2024-02-24T10:55:01.167581\",\"2024-02-24T10:56:26.542479\",\"2024-02-24T10:55:30.452483\",\"2024-02-24T10:55:34.862778\",\"2024-02-24T10:55:38.344617\",\"2024-02-24T10:56:47.763749\",\"2024-02-24T10:58:34.718051\",\"2024-02-24T10:56:24.662949\",\"2024-02-24T10:57:35.434823\",\"2024-02-24T10:57:56.198611\",\"2024-02-24T10:59:09.822401\",\"2024-02-24T11:01:05.643742\",\"2024-02-24T11:00:54.341071\",\"2024-02-24T11:01:11.885229\",\"2024-02-24T11:02:53.406288\",\"2024-02-24T11:03:18.365892\",\"2024-02-24T11:00:50.544959\",\"2024-02-24T11:00:25.368202\",\"2024-02-24T11:01:38.742129\",\"2024-02-24T11:06:03.189851\",\"2024-02-24T11:02:23.787543\",\"2024-02-24T11:06:31.531310\",\"2024-02-24T11:02:28.868542\",\"2024-02-24T11:02:29.470112\",\"2024-02-24T11:02:33.755969\",\"2024-02-24T11:02:35.863184\",\"2024-02-24T11:06:25.122518\",\"2024-02-24T11:03:48.963975\",\"2024-02-24T11:04:39.011289\",\"2024-02-24T11:05:57.598513\",\"2024-02-24T11:03:53.142509\",\"2024-02-24T11:04:10.373066\",\"2024-02-24T11:05:00.429190\",\"2024-02-24T11:04:59.860121\",\"2024-02-24T11:05:57.827672\",\"2024-02-24T11:05:30.775621\",\"2024-02-24T11:07:16.758212\",\"2024-02-24T11:07:11.003645\",\"2024-02-24T11:07:09.783721\",\"2024-02-24T11:10:03.252949\",\"2024-02-24T11:07:21.928516\",\"2024-02-24T11:07:52.864683\",\"2024-02-24T11:11:45.145529\",\"2024-02-24T11:09:05.184886\",\"2024-02-24T11:09:01.581505\",\"2024-02-24T11:09:14.143621\",\"2024-02-24T11:12:11.702914\",\"2024-02-24T11:10:42.580003\",\"2024-02-24T11:12:38.048637\",\"2024-02-24T11:11:44.939272\",\"2024-02-24T11:11:46.335750\",\"2024-02-24T11:12:51.830020\",\"2024-02-24T11:16:01.079429\",\"2024-02-24T11:12:34.793498\",\"2024-02-24T11:12:17.746976\",\"2024-02-24T11:16:40.576140\",\"2024-02-24T11:12:40.730940\",\"2024-02-24T11:12:55.918681\",\"2024-02-24T11:13:10.569239\",\"2024-02-24T11:17:07.666027\",\"2024-02-24T11:14:25.035041\",\"2024-02-24T11:13:27.891053\",\"2024-02-24T11:20:11.973056\",\"2024-02-24T11:13:59.607172\",\"2024-02-24T11:18:07.697892\",\"2024-02-24T11:15:51.682154\",\"2024-02-24T11:15:10.821171\",\"2024-02-24T11:14:13.386795\",\"2024-02-24T11:20:44.520363\",\"2024-02-24T11:14:57.116046\",\"2024-02-24T11:20:38.838414\",\"2024-02-24T11:18:32.449715\",\"2024-02-24T11:24:29.693896\",\"2024-02-24T11:15:52.596996\",\"2024-02-24T11:18:22.493394\",\"2024-02-24T11:18:00.505564\",\"2024-02-24T11:20:17.800687\",\"2024-02-24T11:17:55.797112\",\"2024-02-24T11:23:53.749298\",\"2024-02-24T11:19:54.803586\",\"2024-02-24T11:19:45.956073\",\"2024-02-24T11:20:11.355477\",\"2024-02-24T11:20:47.441341\",\"2024-02-24T11:24:55.944383\",\"2024-02-24T11:21:54.050307\",\"2024-02-24T11:23:46.393690\",\"2024-02-24T11:22:48.689178\",\"2024-02-24T11:28:13.563099\",\"2024-02-24T11:20:45.937277\",\"2024-02-24T11:22:28.626538\",\"2024-02-24T11:21:35.090094\",\"2024-02-24T11:22:28.783094\",\"2024-02-24T11:23:19.008810\",\"2024-02-24T11:27:05.445228\",\"2024-02-24T11:25:24.673410\",\"2024-02-24T11:24:48.242533\",\"2024-02-24T11:28:17.921958\",\"2024-02-24T11:28:56.885813\",\"2024-02-24T11:26:27.041899\",\"2024-02-24T11:25:46.327019\",\"2024-02-24T11:25:57.497376\",\"2024-02-24T11:27:35.236896\",\"2024-02-24T11:26:35.660338\",\"2024-02-24T11:28:28.349754\",\"2024-02-24T11:28:50.180375\",\"2024-02-24T11:31:49.460830\",\"2024-02-24T11:28:31.086103\",\"2024-02-24T11:28:53.205494\",\"2024-02-24T11:31:31.865496\",\"2024-02-24T11:33:40.918074\",\"2024-02-24T11:33:38.513138\",\"2024-02-24T11:29:17.878368\",\"2024-02-24T11:30:14.569414\",\"2024-02-24T11:28:40.887318\",\"2024-02-24T11:29:11.783649\",\"2024-02-24T11:31:11.670625\",\"2024-02-24T11:31:45.159808\",\"2024-02-24T11:30:52.091493\",\"2024-02-24T11:32:03.731172\",\"2024-02-24T11:31:49.823545\",\"2024-02-24T11:35:17.446867\",\"2024-02-24T11:31:11.974875\",\"2024-02-24T11:33:21.217071\",\"2024-02-24T11:37:27.873195\",\"2024-02-24T11:34:17.546014\",\"2024-02-24T11:33:51.377145\",\"2024-02-24T11:34:31.607080\",\"2024-02-24T11:37:15.934391\",\"2024-02-24T11:37:13.450951\",\"2024-02-24T11:34:32.399892\",\"2024-02-24T11:36:48.689368\",\"2024-02-24T11:36:00.086462\",\"2024-02-24T11:35:36.574067\",\"2024-02-24T11:35:35.197666\",\"2024-02-24T11:37:32.437535\",\"2024-02-24T11:35:25.099891\",\"2024-02-24T11:40:34.398149\",\"2024-02-24T11:36:41.040812\",\"2024-02-24T11:37:37.409991\",\"2024-02-24T11:38:11.408687\",\"2024-02-24T11:41:13.643497\",\"2024-02-24T11:37:47.296155\",\"2024-02-24T11:38:12.917913\",\"2024-02-24T11:39:25.577327\",\"2024-02-24T11:41:58.941963\",\"2024-02-24T11:38:32.638216\",\"2024-02-24T11:39:56.905085\",\"2024-02-24T11:41:25.297163\",\"2024-02-24T11:42:49.809608\",\"2024-02-24T11:45:43.885634\",\"2024-02-24T11:45:16.715137\",\"2024-02-24T11:45:46.593568\",\"2024-02-24T11:39:07.042095\",\"2024-02-24T11:42:16.956255\",\"2024-02-24T11:44:36.692124\",\"2024-02-24T11:41:15.115760\",\"2024-02-24T11:42:21.512701\",\"2024-02-24T11:44:21.072514\",\"2024-02-24T11:42:47.659662\",\"2024-02-24T11:42:35.930072\",\"2024-02-24T11:43:47.136798\",\"2024-02-24T11:43:26.773683\",\"2024-02-24T11:43:32.108446\",\"2024-02-24T11:48:56.530574\",\"2024-02-24T11:43:53.368654\",\"2024-02-24T11:45:02.273503\",\"2024-02-24T11:45:55.033603\",\"2024-02-24T11:45:40.358794\",\"2024-02-24T11:45:38.980588\",\"2024-02-24T11:46:46.525020\",\"2024-02-24T11:49:27.258001\",\"2024-02-24T11:47:52.592728\",\"2024-02-24T11:50:18.371399\",\"2024-02-24T11:51:35.959858\",\"2024-02-24T11:47:51.502113\",\"2024-02-24T11:48:23.515684\",\"2024-02-24T11:49:28.411787\",\"2024-02-24T11:48:12.310334\",\"2024-02-24T11:52:14.888813\",\"2024-02-24T11:51:56.400554\",\"2024-02-24T11:49:02.958161\",\"2024-02-24T11:48:58.454023\",\"2024-02-24T11:49:35.193510\",\"2024-02-24T11:49:51.260170\",\"2024-02-24T11:50:12.336648\",\"2024-02-24T11:51:28.132742\",\"2024-02-24T11:51:45.274418\",\"2024-02-24T11:55:26.175335\",\"2024-02-24T11:52:24.483809\",\"2024-02-24T11:54:01.256108\",\"2024-02-24T11:52:48.614909\",\"2024-02-24T11:53:50.348732\",\"2024-02-24T11:54:04.001505\",\"2024-02-24T11:55:44.491311\",\"2024-02-24T11:56:25.451555\",\"2024-02-24T11:55:17.739055\",\"2024-02-24T11:58:21.347762\",\"2024-02-24T11:55:38.015307\",\"2024-02-24T11:57:57.773844\",\"2024-02-24T11:57:20.490163\",\"2024-02-24T11:58:24.411902\",\"2024-02-24T11:59:35.484189\",\"2024-02-24T11:59:00.809053\",\"2024-02-24T12:00:24.341045\",\"2024-02-24T11:59:28.189453\",\"2024-02-24T12:01:29.082162\",\"2024-02-24T12:02:27.384892\",\"2024-02-24T12:01:12.825808\",\"2024-02-24T12:02:43.056355\",\"2024-02-24T12:02:34.840845\",\"2024-02-24T12:04:56.517800\",\"2024-02-24T12:05:55.927983\",\"2024-02-24T12:04:34.297257\",\"2024-02-24T12:06:12.678393\",\"2024-02-24T12:07:12.417646\",\"2024-02-24T12:06:31.006619\",\"2024-02-24T12:06:45.879558\",\"2024-02-24T12:07:31.676266\",\"2024-02-24T12:09:13.616195\",\"2024-02-24T12:08:53.269965\",\"2024-02-24T12:10:09.418953\",\"2024-02-24T12:10:58.542984\",\"2024-02-24T12:10:46.971700\",\"2024-02-24T12:11:24.906438\",\"2024-02-24T12:11:33.459656\",\"2024-02-24T12:12:05.716979\",\"2024-02-24T12:13:08.801794\",\"2024-02-24T12:12:06.769849\",\"2024-02-24T12:12:35.706290\",\"2024-02-24T12:13:00.736473\",\"2024-02-24T12:12:29.270359\",\"2024-02-24T12:13:18.637848\",\"2024-02-24T12:13:24.454994\",\"2024-02-24T12:15:49.397592\",\"2024-02-24T12:15:35.085534\",\"2024-02-24T12:16:48.795400\",\"2024-02-24T12:14:35.400381\",\"2024-02-24T12:15:33.046127\",\"2024-02-24T12:17:12.605370\",\"2024-02-24T12:15:58.109118\",\"2024-02-24T12:17:16.146712\",\"2024-02-24T12:19:47.859343\",\"2024-02-24T12:17:31.006063\",\"2024-02-24T12:17:52.157416\",\"2024-02-24T12:19:32.762150\",\"2024-02-24T12:19:04.399814\",\"2024-02-24T12:18:50.752944\",\"2024-02-24T12:19:15.348876\",\"2024-02-24T12:21:19.036891\",\"2024-02-24T12:22:09.129602\",\"2024-02-24T12:20:52.403596\",\"2024-02-24T12:21:29.405264\",\"2024-02-24T12:22:32.979279\",\"2024-02-24T12:22:58.133614\",\"2024-02-24T12:24:15.723334\",\"2024-02-24T12:24:46.735065\",\"2024-02-24T12:23:54.151924\",\"2024-02-24T12:26:07.692220\",\"2024-02-24T12:27:32.816682\",\"2024-02-24T12:27:02.048287\",\"2024-02-24T12:27:58.763022\",\"2024-02-24T12:27:10.708791\",\"2024-02-24T12:27:11.721650\",\"2024-02-24T12:28:49.456345\",\"2024-02-24T12:30:39.209022\",\"2024-02-24T12:27:53.771262\",\"2024-02-24T12:28:00.657459\",\"2024-02-24T12:28:14.210792\",\"2024-02-24T12:28:24.579946\",\"2024-02-24T12:29:42.020831\",\"2024-02-24T12:31:02.184494\",\"2024-02-24T12:29:34.253039\",\"2024-02-24T12:30:08.769978\",\"2024-02-24T12:30:54.910150\",\"2024-02-24T12:30:55.538694\",\"2024-02-24T12:30:56.569843\",\"2024-02-24T12:32:33.021380\",\"2024-02-24T12:33:57.955368\",\"2024-02-24T12:31:41.516510\",\"2024-02-24T12:34:26.472785\",\"2024-02-24T12:32:11.703334\",\"2024-02-24T12:33:12.558375\",\"2024-02-24T12:32:47.596374\",\"2024-02-24T12:36:05.248736\",\"2024-02-24T12:33:30.370977\",\"2024-02-24T12:33:38.866273\",\"2024-02-24T12:33:45.702901\",\"2024-02-24T12:34:38.344517\",\"2024-02-24T12:37:11.953474\",\"2024-02-24T12:34:32.682960\",\"2024-02-24T12:36:08.265805\",\"2024-02-24T12:36:09.002816\",\"2024-02-24T12:36:24.921393\",\"2024-02-24T12:38:55.106479\",\"2024-02-24T12:38:50.391688\",\"2024-02-24T12:37:51.893027\",\"2024-02-24T12:38:37.725101\",\"2024-02-24T12:38:46.990672\",\"2024-02-24T12:39:09.199900\",\"2024-02-24T12:39:09.353328\",\"2024-02-24T12:39:32.184474\",\"2024-02-24T12:39:50.296525\",\"2024-02-24T12:39:46.428166\",\"2024-02-24T12:42:13.480242\",\"2024-02-24T12:40:06.701416\",\"2024-02-24T12:41:19.121567\",\"2024-02-24T12:42:51.898969\",\"2024-02-24T12:42:57.610999\",\"2024-02-24T12:40:51.643791\",\"2024-02-24T12:44:51.547905\",\"2024-02-24T12:42:32.190624\",\"2024-02-24T12:43:43.933741\",\"2024-02-24T12:44:57.470848\",\"2024-02-24T12:44:20.972836\",\"2024-02-24T12:45:07.382608\",\"2024-02-24T12:44:26.244450\",\"2024-02-24T12:44:59.541501\",\"2024-02-24T12:46:59.590551\",\"2024-02-24T12:48:59.922820\",\"2024-02-24T12:47:07.973371\",\"2024-02-24T12:48:52.493267\",\"2024-02-24T12:47:40.665141\",\"2024-02-24T12:49:08.166293\",\"2024-02-24T12:47:58.218073\",\"2024-02-24T12:49:13.973100\",\"2024-02-24T12:51:57.119094\",\"2024-02-24T12:50:49.471063\",\"2024-02-24T12:52:09.049778\",\"2024-02-24T12:50:27.241316\",\"2024-02-24T12:50:29.218882\",\"2024-02-24T12:50:41.048480\",\"2024-02-24T12:50:49.192508\",\"2024-02-24T12:50:59.125880\",\"2024-02-24T12:52:43.759902\",\"2024-02-24T12:55:14.293808\",\"2024-02-24T12:51:23.661556\",\"2024-02-24T12:52:10.781372\",\"2024-02-24T12:53:46.361137\",\"2024-02-24T12:52:22.431866\",\"2024-02-24T12:55:12.440934\",\"2024-02-24T12:55:04.393392\",\"2024-02-24T12:53:49.099495\",\"2024-02-24T12:53:45.674397\",\"2024-02-24T12:54:03.067840\",\"2024-02-24T12:54:19.333776\",\"2024-02-24T12:54:44.675432\",\"2024-02-24T12:58:10.106502\",\"2024-02-24T12:56:36.869308\",\"2024-02-24T12:56:04.213381\",\"2024-02-24T12:56:00.937431\",\"2024-02-24T12:56:25.712336\",\"2024-02-24T12:56:35.192006\",\"2024-02-24T12:58:22.787913\",\"2024-02-24T13:00:28.965923\",\"2024-02-24T12:59:58.826771\",\"2024-02-24T12:58:48.689601\",\"2024-02-24T13:00:23.126846\",\"2024-02-24T12:58:56.294369\",\"2024-02-24T12:59:39.013150\",\"2024-02-24T12:59:48.470456\",\"2024-02-24T13:01:08.355183\",\"2024-02-24T13:00:14.163661\",\"2024-02-24T13:00:28.683359\",\"2024-02-24T13:00:30.839071\",\"2024-02-24T13:03:10.188453\",\"2024-02-24T13:02:41.642656\",\"2024-02-24T13:01:48.055720\",\"2024-02-24T13:03:52.097769\",\"2024-02-24T13:02:19.145919\",\"2024-02-24T13:05:17.440765\",\"2024-02-24T13:04:49.722909\",\"2024-02-24T13:04:50.713334\",\"2024-02-24T13:04:55.833268\",\"2024-02-24T13:04:57.157859\",\"2024-02-24T13:07:33.897840\",\"2024-02-24T13:05:58.319476\",\"2024-02-24T13:07:18.862027\",\"2024-02-24T13:06:09.857948\",\"2024-02-24T13:07:47.551567\",\"2024-02-24T13:06:26.771503\",\"2024-02-24T13:07:39.237148\",\"2024-02-24T13:07:01.250527\",\"2024-02-24T13:07:40.928009\",\"2024-02-24T13:09:20.770116\",\"2024-02-24T13:08:17.003508\",\"2024-02-24T13:08:23.058469\",\"2024-02-24T13:10:15.129332\",\"2024-02-24T13:09:54.248022\",\"2024-02-24T13:10:06.772416\",\"2024-02-24T13:11:08.743210\",\"2024-02-24T13:10:23.555556\",\"2024-02-24T13:12:09.892353\",\"2024-02-24T13:11:38.129097\",\"2024-02-24T13:12:46.732734\",\"2024-02-24T13:13:47.545520\",\"2024-02-24T13:13:46.908319\",\"2024-02-24T13:15:07.624765\",\"2024-02-24T13:14:43.831359\",\"2024-02-24T13:13:53.576790\",\"2024-02-24T13:16:45.061148\",\"2024-02-24T13:14:33.391502\",\"2024-02-24T13:18:07.449406\",\"2024-02-24T13:19:56.718540\",\"2024-02-24T13:20:51.533513\",\"2024-02-24T13:21:59.877117\",\"2024-02-24T13:20:15.011192\",\"2024-02-24T13:20:40.006023\",\"2024-02-24T13:22:04.141412\",\"2024-02-24T13:22:13.705676\",\"2024-02-24T13:23:08.188763\",\"2024-02-24T13:24:23.397844\",\"2024-02-24T13:23:30.226182\",\"2024-02-24T13:23:31.406965\",\"2024-02-24T13:23:50.824386\",\"2024-02-24T13:25:40.520706\",\"2024-02-24T13:25:07.221341\",\"2024-02-24T13:25:25.194079\",\"2024-02-24T13:25:27.950700\",\"2024-02-24T13:27:10.697269\",\"2024-02-24T13:26:34.146384\",\"2024-02-24T13:26:35.795506\",\"2024-02-24T13:27:04.325345\",\"2024-02-24T13:28:07.853971\",\"2024-02-24T13:27:45.103800\",\"2024-02-24T13:29:22.351825\",\"2024-02-24T13:29:40.250437\",\"2024-02-24T13:30:16.931358\",\"2024-02-24T13:31:40.906773\",\"2024-02-24T13:30:59.019218\",\"2024-02-24T13:32:32.350617\",\"2024-02-24T13:30:53.590185\",\"2024-02-24T13:30:57.495488\",\"2024-02-24T13:33:08.288191\",\"2024-02-24T13:31:29.303228\",\"2024-02-24T13:33:16.519835\",\"2024-02-24T13:32:15.481954\",\"2024-02-24T13:32:25.500003\",\"2024-02-24T13:34:40.470549\",\"2024-02-24T13:35:00.735874\",\"2024-02-24T13:35:10.158777\",\"2024-02-24T13:33:49.107755\",\"2024-02-24T13:36:00.681547\",\"2024-02-24T13:34:23.613567\",\"2024-02-24T13:37:37.986483\",\"2024-02-24T13:34:11.220698\",\"2024-02-24T13:36:20.637382\",\"2024-02-24T13:35:24.951876\",\"2024-02-24T13:34:53.891640\",\"2024-02-24T13:40:01.849590\",\"2024-02-24T13:37:32.547261\",\"2024-02-24T13:39:37.383113\",\"2024-02-24T13:37:30.006350\",\"2024-02-24T13:37:39.731879\",\"2024-02-24T13:42:12.416327\",\"2024-02-24T13:39:44.981135\",\"2024-02-24T13:39:54.976653\",\"2024-02-24T13:40:46.790664\",\"2024-02-24T13:40:10.603881\",\"2024-02-24T13:40:16.227311\",\"2024-02-24T13:43:21.862108\",\"2024-02-24T13:41:39.560615\",\"2024-02-24T13:44:26.644513\",\"2024-02-24T13:41:54.714187\",\"2024-02-24T13:42:37.026082\",\"2024-02-24T13:44:09.937366\",\"2024-02-24T13:45:11.173200\",\"2024-02-24T13:45:54.903928\",\"2024-02-24T13:46:26.138127\",\"2024-02-24T13:45:29.701369\",\"2024-02-24T13:46:08.717146\",\"2024-02-24T13:47:42.071829\",\"2024-02-24T13:48:13.906996\",\"2024-02-24T13:49:05.344595\",\"2024-02-24T13:48:17.962036\",\"2024-02-24T13:48:26.380019\",\"2024-02-24T13:50:33.645871\",\"2024-02-24T13:48:52.572092\",\"2024-02-24T13:48:54.334391\",\"2024-02-24T13:49:56.237607\",\"2024-02-24T13:49:12.136299\",\"2024-02-24T13:49:23.207920\",\"2024-02-24T13:50:00.035469\",\"2024-02-24T13:52:24.515109\",\"2024-02-24T13:50:46.635922\",\"2024-02-24T13:53:09.522016\",\"2024-02-24T13:50:38.083400\",\"2024-02-24T13:51:01.334014\",\"2024-02-24T13:52:03.305094\",\"2024-02-24T13:52:02.222231\",\"2024-02-24T13:55:18.315034\",\"2024-02-24T13:51:49.272564\",\"2024-02-24T13:51:46.062613\",\"2024-02-24T13:54:31.729495\",\"2024-02-24T13:55:32.087669\",\"2024-02-24T13:54:06.130541\",\"2024-02-24T13:56:16.967886\",\"2024-02-24T13:55:41.311455\",\"2024-02-24T13:54:51.983416\",\"2024-02-24T13:55:11.853523\",\"2024-02-24T13:56:56.933566\",\"2024-02-24T13:58:43.262045\",\"2024-02-24T13:59:44.876280\",\"2024-02-24T13:57:59.912017\",\"2024-02-24T14:01:57.895122\",\"2024-02-24T13:58:58.154656\",\"2024-02-24T13:59:07.915054\",\"2024-02-24T14:00:51.743779\",\"2024-02-24T14:02:30.678128\",\"2024-02-24T14:02:27.281268\",\"2024-02-24T14:00:11.636856\",\"2024-02-24T13:59:52.620066\",\"2024-02-24T13:59:56.665573\",\"2024-02-24T14:04:24.224891\",\"2024-02-24T14:00:26.021021\",\"2024-02-24T14:01:53.124873\",\"2024-02-24T14:06:42.053715\",\"2024-02-24T14:01:15.795209\",\"2024-02-24T14:03:56.020883\",\"2024-02-24T14:01:41.945973\",\"2024-02-24T14:01:56.462290\",\"2024-02-24T14:02:34.315416\",\"2024-02-24T14:03:22.588877\",\"2024-02-24T14:02:32.580744\",\"2024-02-24T14:07:42.674823\",\"2024-02-24T14:03:07.643557\",\"2024-02-24T14:03:07.834902\",\"2024-02-24T14:03:31.854021\",\"2024-02-24T14:04:03.509977\",\"2024-02-24T14:03:37.811887\",\"2024-02-24T14:04:21.065936\",\"2024-02-24T14:04:43.623253\",\"2024-02-24T14:07:41.741318\",\"2024-02-24T14:04:22.941934\",\"2024-02-24T14:06:13.015582\",\"2024-02-24T14:06:01.796003\",\"2024-02-24T14:06:05.339695\",\"2024-02-24T14:08:48.853082\",\"2024-02-24T14:11:20.615771\",\"2024-02-24T14:07:43.517850\",\"2024-02-24T14:07:19.300870\",\"2024-02-24T14:07:46.023156\",\"2024-02-24T14:08:00.396033\",\"2024-02-24T14:08:50.525767\",\"2024-02-24T14:09:45.504495\",\"2024-02-24T14:12:17.098714\",\"2024-02-24T14:12:14.208019\",\"2024-02-24T14:11:52.375876\",\"2024-02-24T14:14:43.800613\",\"2024-02-24T14:12:23.833288\",\"2024-02-24T14:14:10.533739\",\"2024-02-24T14:14:22.949416\",\"2024-02-24T14:14:24.917144\",\"2024-02-24T14:14:27.989111\",\"2024-02-24T14:15:54.331443\",\"2024-02-24T14:15:05.176863\",\"2024-02-24T14:17:57.493739\",\"2024-02-24T14:17:24.189840\",\"2024-02-24T14:16:20.476008\",\"2024-02-24T14:15:51.643855\",\"2024-02-24T14:15:46.233202\",\"2024-02-24T14:17:08.469852\",\"2024-02-24T14:17:13.533774\",\"2024-02-24T14:21:21.834279\",\"2024-02-24T14:18:22.792175\",\"2024-02-24T14:18:42.760050\",\"2024-02-24T14:18:55.699702\",\"2024-02-24T14:21:47.986809\",\"2024-02-24T14:19:33.225553\",\"2024-02-24T14:21:47.777503\",\"2024-02-24T14:20:44.359912\",\"2024-02-24T14:21:16.312289\",\"2024-02-24T14:20:43.424527\",\"2024-02-24T14:23:39.842151\",\"2024-02-24T14:21:31.412233\",\"2024-02-24T14:24:13.579792\",\"2024-02-24T14:22:12.054533\",\"2024-02-24T14:22:19.148397\",\"2024-02-24T14:22:43.758703\",\"2024-02-24T14:23:18.061776\",\"2024-02-24T14:24:08.789538\",\"2024-02-24T14:23:48.527558\",\"2024-02-24T14:24:37.175170\",\"2024-02-24T14:24:20.301115\",\"2024-02-24T14:26:27.309882\",\"2024-02-24T14:24:56.766667\",\"2024-02-24T14:26:38.145901\",\"2024-02-24T14:25:16.480438\",\"2024-02-24T14:25:52.799851\",\"2024-02-24T14:27:37.483410\",\"2024-02-24T14:27:00.219698\",\"2024-02-24T14:27:36.530060\",\"2024-02-24T14:28:40.530396\",\"2024-02-24T14:28:42.564453\",\"2024-02-24T14:30:02.920461\",\"2024-02-24T14:31:09.569670\",\"2024-02-24T14:31:04.171018\",\"2024-02-24T14:30:33.415201\",\"2024-02-24T14:32:06.477041\",\"2024-02-24T14:32:11.585765\",\"2024-02-24T14:30:54.391252\",\"2024-02-24T14:32:11.707392\",\"2024-02-24T14:31:11.677242\",\"2024-02-24T14:31:13.330557\",\"2024-02-24T14:34:06.701339\",\"2024-02-24T14:34:08.895397\",\"2024-02-24T14:33:24.839041\",\"2024-02-24T14:35:41.715269\",\"2024-02-24T14:34:38.964875\",\"2024-02-24T14:34:50.087979\",\"2024-02-24T14:34:50.763316\",\"2024-02-24T14:36:31.276125\",\"2024-02-24T14:37:21.985616\",\"2024-02-24T14:37:02.145087\",\"2024-02-24T14:38:19.736415\",\"2024-02-24T14:36:30.657669\",\"2024-02-24T14:37:25.128713\",\"2024-02-24T14:38:59.340863\",\"2024-02-24T14:36:49.423348\",\"2024-02-24T14:36:51.175184\",\"2024-02-24T14:39:24.991618\",\"2024-02-24T14:37:52.884556\",\"2024-02-24T14:38:42.291471\",\"2024-02-24T14:38:45.481797\",\"2024-02-24T14:40:26.148792\",\"2024-02-24T14:41:49.155612\",\"2024-02-24T14:39:57.716595\",\"2024-02-24T14:40:26.973221\",\"2024-02-24T14:41:51.581554\",\"2024-02-24T14:41:04.315612\",\"2024-02-24T14:41:07.100126\",\"2024-02-24T14:41:31.122312\",\"2024-02-24T14:42:41.299995\",\"2024-02-24T14:42:29.846470\",\"2024-02-24T14:42:26.672495\",\"2024-02-24T14:44:49.000794\",\"2024-02-24T14:43:05.378116\",\"2024-02-24T14:43:24.466679\",\"2024-02-24T14:45:53.761823\",\"2024-02-24T14:44:59.314237\",\"2024-02-24T14:43:39.560603\",\"2024-02-24T14:44:13.226935\",\"2024-02-24T14:45:55.938364\",\"2024-02-24T14:44:52.005949\",\"2024-02-24T14:44:58.191204\",\"2024-02-24T14:44:58.578108\",\"2024-02-24T14:45:02.133435\",\"2024-02-24T14:48:12.472322\",\"2024-02-24T14:47:59.353815\",\"2024-02-24T14:49:53.980367\",\"2024-02-24T14:47:02.825635\",\"2024-02-24T14:47:27.371566\",\"2024-02-24T14:47:51.461057\",\"2024-02-24T14:48:23.122465\",\"2024-02-24T14:49:00.267705\",\"2024-02-24T14:52:39.673518\",\"2024-02-24T14:49:38.356108\",\"2024-02-24T14:49:54.223204\",\"2024-02-24T14:53:31.553490\",\"2024-02-24T14:50:55.169458\",\"2024-02-24T14:53:13.030922\",\"2024-02-24T14:51:31.051122\",\"2024-02-24T14:51:43.756895\",\"2024-02-24T14:52:53.602482\",\"2024-02-24T14:52:09.351550\",\"2024-02-24T14:52:14.039937\",\"2024-02-24T14:53:04.268969\",\"2024-02-24T14:56:33.398704\",\"2024-02-24T14:56:22.095418\",\"2024-02-24T14:53:51.642833\",\"2024-02-24T14:54:19.823870\",\"2024-02-24T14:55:02.951130\",\"2024-02-24T14:55:07.444166\",\"2024-02-24T14:55:14.009368\",\"2024-02-24T14:56:55.339765\",\"2024-02-24T14:57:50.066033\",\"2024-02-24T14:58:27.897161\",\"2024-02-24T14:58:32.398674\",\"2024-02-24T14:59:04.538335\",\"2024-02-24T14:58:39.349175\",\"2024-02-24T14:59:28.639568\",\"2024-02-24T15:00:54.375807\",\"2024-02-24T15:00:22.622896\",\"2024-02-24T15:00:22.721125\",\"2024-02-24T15:02:03.444677\",\"2024-02-24T15:00:45.736367\",\"2024-02-24T15:01:15.238309\",\"2024-02-24T15:02:57.988686\",\"2024-02-24T15:01:22.847400\",\"2024-02-24T15:02:19.455350\",\"2024-02-24T15:03:56.089676\",\"2024-02-24T15:03:35.404231\",\"2024-02-24T15:05:31.453889\",\"2024-02-24T15:04:04.397908\",\"2024-02-24T15:04:08.978225\",\"2024-02-24T15:04:17.373273\",\"2024-02-24T15:06:46.063775\",\"2024-02-24T15:05:05.970642\",\"2024-02-24T15:06:12.270640\",\"2024-02-24T15:05:53.935569\",\"2024-02-24T15:06:03.234404\",\"2024-02-24T15:06:07.282601\",\"2024-02-24T15:08:04.442885\",\"2024-02-24T15:06:25.854181\",\"2024-02-24T15:07:55.829276\",\"2024-02-24T15:07:55.325992\",\"2024-02-24T15:10:13.539504\",\"2024-02-24T15:09:41.734357\",\"2024-02-24T15:08:52.808494\",\"2024-02-24T15:09:04.056469\",\"2024-02-24T15:11:37.600193\",\"2024-02-24T15:10:38.224862\",\"2024-02-24T15:10:18.885608\",\"2024-02-24T15:12:53.705755\",\"2024-02-24T15:12:45.774604\",\"2024-02-24T15:11:52.827077\",\"2024-02-24T15:12:03.608875\",\"2024-02-24T15:13:05.773049\",\"2024-02-24T15:12:31.264885\",\"2024-02-24T15:14:41.733872\",\"2024-02-24T15:14:36.403062\",\"2024-02-24T15:15:05.706629\",\"2024-02-24T15:14:18.767465\",\"2024-02-24T15:16:05.632496\",\"2024-02-24T15:14:38.390494\",\"2024-02-24T15:14:59.672427\",\"2024-02-24T15:16:32.053132\",\"2024-02-24T15:16:29.252495\",\"2024-02-24T15:17:31.382920\",\"2024-02-24T15:17:53.216525\",\"2024-02-24T15:19:01.309492\",\"2024-02-24T15:19:20.396274\",\"2024-02-24T15:18:32.750832\",\"2024-02-24T15:18:35.408912\",\"2024-02-24T15:18:36.454416\",\"2024-02-24T15:21:37.968067\",\"2024-02-24T15:19:05.232603\",\"2024-02-24T15:19:05.451529\",\"2024-02-24T15:19:56.767269\",\"2024-02-24T15:21:13.860626\",\"2024-02-24T15:20:15.517387\",\"2024-02-24T15:20:20.705945\",\"2024-02-24T15:22:41.098198\",\"2024-02-24T15:21:21.000238\",\"2024-02-24T15:22:44.225586\",\"2024-02-24T15:24:49.798432\",\"2024-02-24T15:24:13.204746\",\"2024-02-24T15:24:09.433592\",\"2024-02-24T15:26:50.961307\",\"2024-02-24T15:24:43.414288\",\"2024-02-24T15:27:29.763764\",\"2024-02-24T15:25:41.758110\",\"2024-02-24T15:29:35.621716\",\"2024-02-24T15:25:07.146460\",\"2024-02-24T15:25:18.465444\",\"2024-02-24T15:27:20.917549\",\"2024-02-24T15:25:31.135361\"],\"hovertemplate\":\"Start=%{base}\\u003cbr\\u003eFinish=%{x}\\u003cbr\\u003eUnit=%{y}\\u003cbr\\u003eTaskID=%{marker.color}\\u003cextra\\u003e\\u003c\\u002fextra\\u003e\",\"legendgroup\":\"\",\"marker\":{\"color\":[887,934,534,724,665,304,263,759,617,63,603,323,128,809,849,131,485,147,876,246,920,882,460,985,974,614,853,342,327,440,261,631,101,292,875,488,33,0,991,220,662,375,264,776,303,437,274,544,628,484,250,105,502,325,586,676,703,55,329,236,36,380,372,986,879,115,237,735,71,70,326,116,842,308,391,835,590,251,766,356,655,722,952,7,272,519,379,566,899,902,300,912,579,946,546,596,700,777,464,262,728,677,726,837,523,459,119,478,944,256,616,598,690,402,775,560,62,850,945,433,77,482,848,47,428,491,600,833,650,84,417,201,282,525,172,653,123,192,859,526,867,189,87,338,401,187,606,658,50,191,4,819,317,42,740,395,905,927,706,224,707,97,283,210,439,486,146,808,948,723,353,599,708,378,567,731,795,26,287,57,660,518,568,275,202,144,942,746,923,914,169,714,635,820,663,373,688,145,321,218,742,114,66,637,357,320,827,935,157,537,829,480,756,103,612,889,870,156,215,993,558,74,890,319,570,644,52,214,891,127,581,313,671,457,542,601,495,109,785,61,633,126,99,334,804,312,747,216,448,529,363,118,186,987,124,845,838,38,931,564,781,200,787,957,821,528,854,577,69,550,800,990,699,91,982,106,734,709,717,888,358,632,956,217,730,981,516,770,475,403,680,930,587,181,748,155,695,359,257,470,243,798,298,531,361,421,411,60,978,382,654,774,159,670,381,812,387,267,980,40,589,205,576,234,736,868,964,175,609,684,466,354,712,969,802,407,271,929,434,555,591,447,784,65,277,331,852,666,341,796,260,578,44,871,196,605,138,167,510,672,710,515,839,152,258,906,626,41,915,468,229,222,226,607,778,824,221,950,73,588,872,551,297,158,686,532,536,926,83,755,424,939,458,240,883,713,639,78,431,506,780,142,832,316,122,816,15,501,630,432,241,88,925,892,621,996,836,693,638,803,521,916,449,608,764,442,176,989,553,343,100,82,248,823,352,288,239,162,834,245,682,846,366,659,367,394,225,410,266,641,268,2,918,903,481,507,21,160,315,255,188,540,231,545,791,39,414,678,907,290,473,479,408,54,498,851,893,496,426,818,937,79,512,474,423,694,971,20,962,389,400,538,760,454,81,692,822,150,171,429,195,166,779,461,467,450,151,25,504,847,729,917,738,721,782,108,668,681,230,349,911,862,642,227,973,110,940,841,235,493,102,772,683,445,565,806,154,716,933,881,23,16,947,476,273,370,314,340,207,112,299,351,324,727,22,541,860,139,369,928,364,592,646,132,3,80,344,910,547,619,309,388,163,702,422,141,908,134,509,886,301,284,219,30,212,932,368,19,527,520,977,877,757,37,669,689,377,29,769,58,425,232,396,336,322,113,661,610,140,618,786,393,85,362,168,208,253,844,998,339,149,863,76,165,27,648,958,333,511,294,469,178,514,556,443,228,657,190,505,406,675,788,259,374,111,121,98,95,900,330,979,492,582,840,489,737,801,574,503,337,954,12,133,276,346,269,698,6,56,793,898,125,768,185,965,67,857,247,897,328,184,286,595,435,715,817,11,153,739,647,427,711,161,452,719,999,530,951,280,223,281,615,477,725,625,938,636,572,182,107,752,604,390,674,783,130,376,874,624,183,203,8,562,575,745,904,135,813,539,959,335,179,177,242,673,254,687,94,310,524,64,571,441,667,749,360,701,580,936,627,754,296,988,649,955,585,438,307,922,14,180,866,384,418,751,967,664,597,197,535,997,640,148,856,32,697,744,733,412,398,348,193,471,651,34,463,552,371,656,814,136,843,9,894,415,10,397,456,696,198,345,446,620,500,743,963,416,129,762,465,811,45,399,508,405,499,629,561,767,249,291,522,643,355,799,961,896,557,86,992,53,789,815,805,17,413,602,569,593,533,691,763,554,517,864,233,826,211,24,548,453,436,392,758,104,93,949,409,741,732,143,1,943,137,513,622,295,679,828,705,490,825,204,35,385,924,966,305,209,279,861,462,75,302,901,43,975,921,293,984,194,873,420,472,753,285,972,652,953,206,278,5,451,623,559,761,404,444,68,117,960,89,976,865,270,430,252,549,419,634,583,306,365,611,771,386,584,46,884,919,909,173,18,794,49,199,869,895,51,72,311,765,750,31,613,318,773,347,913,213,92,573,238,48,563,96,350,174,170,332,455,244,994,487,995,543,855,878,830,885,494,265,59,807,594,792,289,810,164,483,983,941,90,497,685,858,13,790,645,970,831,797,704,120,718,383,720,28,968,880],\"coloraxis\":\"coloraxis\",\"pattern\":{\"shape\":\"\"}},\"name\":\"\",\"offsetgroup\":\"\",\"orientation\":\"h\",\"showlegend\":false,\"textposition\":\"auto\",\"x\":[273648.762,56402.499,217920.919,104976.118,133845.112,85298.512,141984.152,82187.835,172505.37,115016.616,77257.819,72296.771,144205.199,40380.499,50307.084,101287.615,106689.655,95540.517,237001.874,165462.422,69466.582,94150.872,108779.127,113147.869,171308.408,274210.432,226588.522,83239.943,62224.928,209042.694,160593.985,190704.99,226017.457,133018.781,145801.8,61001.552,124142.473,166736.168,200940.667,180094.269,221528.518,227170.567,119457.193,222005.306,133224.988,134274.778,98028.34,215888.219,299195.88,250750.81,325918.706,201617.173,205482.204,147081.096,239860.983,251520.199,135909.122,218212.354,87582.083,108206.077,125238.156,173513.956,50120.997,107054.708,70097.6,132304.67,263465.938,198901.185,108877.571,142280.891,24458.481,171936.408,149724.798,241819.284,203175.067,238949.483,239797.003,111870.196,73206.366,387669.259,157067.123,116065.549,212793.175,200737.298,211915.057,94144.725,233173.095,139625.241,136272.239,276381.13,98001.414,154249.191,162261.678,227516.391,214753.73,50675.685,187008.176,161129.456,157336.996,136729.731,186443.569,158661.749,86720.416,121039.072,247807.756,132169.452,111886.215,232365.47,231185.165,294513.308,256705.512,293797.657,244748.147,73718.153,233423.071,244691.499,342414.528,56035.26,533365.003,164244.377,174058.339,430575.076,392550.765,350407.149,237822.598,397654.742,214733.256,248859.715,279491.949,236708.959,193443.057,131829.477,306337.56,268450.805,161349.365,357611.592,189170.306,387815.876,205170.588,292793.53,199139.143,226484.091,604411.257,214908.262,490171.466,415375.589,387060.653,244337.15,81917.609,149679.66,240845.103,222712.354,228586.269,124605.832,192142.914,198454.537,226327.261,152983.277,126753.999,223623.248,248630.976,139218.879,221558.901,194314.172,74180.489,204090.401,124011.11,240548.546,68980.143,299878.57,190995.484,296475.519,148907.644,202264.236,165377.968,315186.954,106369.947,144729.324,269666.963,220564.548,116105.788,253062.974,133377.054,165406.323,499490.928,261684.366,384702.592,319004.751,142366.684,225715.486,201940.727,95631.761,107795.498,191631.832,599056.406,480921.196,273508.195,250811.009,124525.159,98836.574,70969.292,162361.199,138057.083,222695.737,169111.15,68066.104,193423.645,205627.34,117595.66,64066.971,183800.412,160030.536,211346.632,168452.057,520015.691,323622.395,97947.702,229410.001,164057.949,278698.203,181870.753,193627.697,382078.826,320893.72,160554.203,181373.993,166876.638,219827.734,135116.1,200381.123,339712.27,132312.35,186891.899,310684.292,100935.226,345452.305,38175.315,278396.769,262461.762,134605.083,215126.591,125495.857,433173.948,159379.005,248654.82,357245.064,244870.619,222435.684,115586.958,242781.21,364293.238,112086.52,200078.58,199073.919,148919.728,107762.546,144024.821,313237.289,189783.563,193165.418,178419.016,275060.988,446442.757,240063.098,213810.97,340171.604,282135.103,308786.941,166305.416,143996.937,372926.119,128863.697,157746.923,274228.606,289390.555,99334.259,171104.965,62229.168,314292.617,106917.293,240547.24,178832.336,58377.416,101892.58,99387.433,42152.737,255933.9,123677.572,122621.396,99381.694,295963.113,112213.495,242527.503,66890.748,158699.291,315867.872,250893.627,463007.189,213935.178,238262.274,450624.537,326574.713,120251.932,216854.336,247414.674,540892.041,257720.84,346348.901,338695.798,417007.024,283982.415,78995.873,251424.02,178681.066,194910.884,474592.184,223869.203,127908.568,246133.144,166935.777,437436.209,170140.165,264172.66,119246.721,109134.021,496994.277,240801.192,240941.43,210623.103,199051.538,361491.197,215897.731,153071.533,362459.565,251236.925,208714.282,196651.528,266420.268,208532.084,232644.785,320591.18,284032.261,318117.909,305764.474,200380.992,216433.729,156123.311,106219.66,193550.797,207986.037,360520.977,176618.051,316823.872,215016.317,214937.813,377319.298,322004.653,151087.557,249433.422,288415.837,347277.727,179285.652,133814.842,162576.347,130426.328,440663.341,123882.82,186524.954,233862.673,235919.01,185802.911,283007.572,240192.546,128640.92,276607.795,500986.052,229003.26,157720.247,284518.72,252429.171,135411.459,366618.85,284102.71,105496.398,272950.071,281704.852,54124.182,241196.356,197773.174,224948.527,230231.713,191394.961,174076.026,192644.94,250542.864,369806.986,108123.537,269568.765,341679.275,227157.743,362002.983,483411.295,187373.941,184428.722,439858.476,265819.045,112535.351,198358.239,293321.158,236180.52,187924.558,131143.319,153329.746,161886.767,128701.857,118667.442,222884.709,230215.477,140834.535,71677.826,267673.541,191881.324,250562.742,228090.757,158556.031,191203.993,359714.651,460598.142,148576.095,142215.99,147528.311,249308.854,271010.69,199234.055,83635.516,81066.53,172961.321,133282.533,115896.207,82856.392,122993.283,143971.301,211308.318,118687.717,144633.164,187572.166,51117.979,123043.847,146219.846,207435.638,208543.091,92712.449,209622.038,296835.421,135899.846,197688.212,53406.139,154061.654,214554.054,241507.19,148534.127,232083.939,104926.789,151636.473,42494.429,67173.995,46487.956,95830.035,62246.634,63084.815,219993.606,71867.999,179379.244,168661.119,208838.759,345761.966,79830.335,329639.299,97519.836,179063.943,196757.035,98908.624,140156.78,78037.594,276360.052,141270.259,192062.843,182249.024,282961.184,145005.45,152721.05,217832.019,207698.174,238562.618,83763.158,63574.015,208555.555,158967.724,223039.688,242721.28,75201.981,85124.462,186392.34,159972.544,183421.472,125638.143,177048.328,223565.035,198746.346,221654.636,102925.041,31805.67,122813.989,210537.544,303064.242,174965.301,269574.539,99204.953,39228.362,73995.215,113451.405,193998.106,263503.002,268633.694,117161.302,325166.726,200669.431,165142.952,308024.383,198182.401,157526.495,159197.993,301526.768,386527.673,222030.72,114164.543,92623.321,242504.52,241507.281,100291.447,161396.466,43322.106,102183.906,57348.088,291173.412,192925.134,198038.834,158067.663,103715.35,171778.37,125571.879,129771.609,66372.128,128042.646,154049.592,57783.71,250695.445,167000.535,225110.659,221218.628,165770.011,120332.269,177196.274,92849.98,231266.635,120556.628,180883.485,121062.437,95497.963,197174.714,176890.074,175343.614,103540.056,199880.613,218285.296,130925.366,59860.658,148681.032,175812.694,135600.092,153894.06,170508.171,216140.059,286385.837,198394.521,347509.075,258406.568,90667.456,104879.605,181683.99,138859.421,271485.875,235056.686,220960.132,183570.244,70376.979,120338.933,161222.53,233270.998,47423.93,138515.81,183295.434,256625.47,296597.685,187432.83,62594.316,117908.968,124345.334,127252.312,305908.911,124268.248,206764.258,242913.627,136457.075,68596.567,244254.47,163421.788,72700.089,214845.37,100917.672,176267.305,77192.069,93218.549,112469.122,215367.118,65695.496,92741.669,205962.618,107516.223,172143.237,292495.433,67452.576,37265.388,61149.143,140682.541,97653.167,185702.262,60175.585,259903.886,178152.829,289093.775,409356.041,332675.968,319080.264,83481.873,164084.107,123158.577,211864.331,198617.2,62303.59,165524.559,64047.351,142909.245,119032.578,77122.862,60545.941,128347.741,76569.229,221831.119,123475.928,291737.279,56160.588,149553.168,93707.587,177676.578,151734.743,171165.247,164657.244,189998.792,208037.754,83975.415,199829.101,137500.617,128119.932,175517.57,206118.079,121870.586,235648.648,184117.547,133285.229,161172.306,80210.998,276647.239,147827.706,223439.506,241168.043,285666.77,274429.844,297057.798,469299.984,432074.206,405668.975,264794.923,194243.403,224478.995,160597.531,291737.77,236300.819,430361.799,102026.846,227600.782,175087.339,229134.387,109311.092,206063.993,119493.614,72922.828,160614.475,171296.289,43730.728,89425.549,159206.468,37373.811,125189.85,282443.28,139738.875,244177.421,98275.571,140255.903,238083.624,67463.377,188970.703,249892.934,328573.694,146064.644,122186.762,187572.56,258813.927,128793.018,367383.024,178927.813,168678.322,180134.353,204947.011,251798.784,214335.771,105238.391,252788.611,95180.914,370313.382,310432.324,172459.955,299783.333,121221.09,194633.077,165801.848,233212.856,146329.769,264434.221,101762.18,184277.104,311996.695,314460.05,271986.397,86798.076,155915.171,137828.824,161622.536,350392.977,278562.056,78520.207,292832.199,141564.004,95391.731,229310.235,367969.206,108485.192,274423.891,287891.563,75107.032,177544.466,112685.853,57635.465,96398.499,89392.329,272466.701,234573.865,299264.023,118600.03,100683.461,315801.793,203184.842,241796.608,426909.709,422371.324,395672.809,75473.871,121996.585,307091.126,114600.217,142372.756,193693.126,224883.365,103797.704,117526.592,86726.711,123480.471,353446.06,139826.615,204340.54,263796.969,295836.281,81889.919,138743.202,215890.06,89226.276,171745.513,188620.058,326029.488,153699.856,290159.092,94921.357,112064.648,119398.791,426747.022,27134.291,167467.731,205354.434,203903.618,112416.161,89379.161,113416.467,146991.318,165562.025,257377.1,176201.262,52432.128,215610.579,38969.28,122384.495,187320.256,168192.499,212086.26,124963.844,107574.406,205946.645,209142.939,61250.557,272145.599,67414.747,39915.356,122418.356,115115.574,208158.303,313421.321,182634.174,188597.61,175443.748,142380.728,214620.594,100270.347,246516.922,100569.69,201752.334,108460.29,97355.247,142846.531,211845.139,204023.605,219186.899,86807.929,231924.566,116441.239,196308.377,148972.735,81227.116,76514.855,83006.82,244606.211,206750.084,64149.091,177419.24,85530.858,186126.809,127809.92,138014.242,206091.894,48741.098,203471.528,87704.615,172648.431,240218.544,180039.578,435608.855,325129.173,417664.118,326840.978,228110.494,76072.663,200989.03,300558.6,280319.703,217573.123,117442.07,290960.999,112149.592,140159.43,189083.845,222421.9,197293.891,42685.854,258512.543,78870.479,200367.782,99848.514,81772.542,206047.796,162674.388,97602.896,70994.129,330045.973,357359.932,169979.47,84279.278,99436.625,196186.958,65356.973,84717.87,37831.128,36641.174,56240.894,109837.472,97970.113,163712.612,123612.879,234750.377,111073.402,208009.212,105310.492,74705.647,228075.089,80002.594,96634.326,239236.316,156866.409,144375.387,138673.768,103965.595,79165.41,78379.11,156895.768,265954.222,156452.937,144040.759,114911.536,129096.619,184880.12,221770.917,106408.365,160166.251,184040.247,357870.118,314710.996,178802.869,147548.187,271482.935,108028.117,139932.025,176074.532,149496.892,203479.446,192063.943,160466.483,89229.434,86346.503,193800.702,175676.996,64862.102,198814.645,81163.393,123498.337,246585.147,87179.749,132551.134,200701.924,158138.344,140487.043,80312.853,191830.365,173084.417,180491.632,164540.482,179344.12,158241.435,95847.036,288665.566,359917.311,216613.972,285823.284,157756.561,92324.518,235257.267,255772.807,261242.552,398859.674,206637.598,237881.226,153615.904,266378.437,174403.878],\"xaxis\":\"x\",\"y\":[\"cloud_0\",\"edge_0\",\"edge_1\",\"volunteer_3\",\"edge_0\",\"volunteer_3\",\"volunteer_8\",\"edge_0\",\"edge_1\",\"volunteer_3\",\"volunteer_7\",\"cloud_0\",\"cloud_0\",\"edge_0\",\"edge_0\",\"edge_1\",\"edge_0\",\"cloud_0\",\"edge_1\",\"cloud_0\",\"volunteer_3\",\"edge_0\",\"volunteer_3\",\"volunteer_8\",\"edge_0\",\"volunteer_6\",\"cloud_0\",\"volunteer_7\",\"volunteer_2\",\"volunteer_3\",\"edge_1\",\"edge_0\",\"volunteer_8\",\"edge_1\",\"volunteer_6\",\"volunteer_7\",\"cloud_0\",\"edge_0\",\"edge_1\",\"cloud_0\",\"volunteer_3\",\"edge_0\",\"volunteer_8\",\"cloud_0\",\"volunteer_6\",\"volunteer_7\",\"volunteer_2\",\"edge_1\",\"volunteer_8\",\"volunteer_3\",\"volunteer_6\",\"edge_0\",\"cloud_0\",\"edge_1\",\"volunteer_7\",\"volunteer_2\",\"volunteer_8\",\"volunteer_3\",\"volunteer_5\",\"edge_0\",\"volunteer_4\",\"edge_1\",\"volunteer_1\",\"volunteer_6\",\"volunteer_5\",\"volunteer_8\",\"cloud_0\",\"edge_0\",\"volunteer_6\",\"volunteer_3\",\"volunteer_7\",\"edge_1\",\"edge_0\",\"cloud_0\",\"edge_1\",\"volunteer_3\",\"volunteer_8\",\"edge_0\",\"volunteer_7\",\"volunteer_6\",\"edge_0\",\"volunteer_7\",\"edge_1\",\"cloud_0\",\"volunteer_3\",\"volunteer_8\",\"edge_0\",\"volunteer_7\",\"cloud_0\",\"edge_1\",\"volunteer_3\",\"volunteer_8\",\"cloud_0\",\"edge_0\",\"volunteer_3\",\"volunteer_7\",\"volunteer_6\",\"edge_1\",\"volunteer_8\",\"volunteer_7\",\"cloud_0\",\"volunteer_3\",\"edge_0\",\"volunteer_8\",\"edge_1\",\"cloud_0\",\"edge_0\",\"volunteer_6\",\"cloud_0\",\"edge_0\",\"volunteer_3\",\"edge_1\",\"volunteer_7\",\"volunteer_2\",\"volunteer_8\",\"cloud_0\",\"volunteer_5\",\"volunteer_4\",\"volunteer_2\",\"volunteer_1\",\"volunteer_4\",\"volunteer_6\",\"volunteer_3\",\"myDevice\",\"edge_0\",\"volunteer_7\",\"volunteer_8\",\"volunteer_4\",\"volunteer_1\",\"edge_1\",\"cloud_0\",\"volunteer_5\",\"volunteer_8\",\"edge_0\",\"volunteer_0\",\"volunteer_5\",\"edge_1\",\"myDevice\",\"volunteer_9\",\"volunteer_3\",\"volunteer_4\",\"cloud_0\",\"volunteer_6\",\"volunteer_1\",\"volunteer_7\",\"volunteer_2\",\"volunteer_0\",\"volunteer_4\",\"volunteer_9\",\"volunteer_1\",\"volunteer_8\",\"edge_1\",\"edge_0\",\"volunteer_9\",\"volunteer_3\",\"volunteer_5\",\"myDevice\",\"cloud_0\",\"volunteer_1\",\"edge_1\",\"volunteer_9\",\"volunteer_4\",\"edge_0\",\"volunteer_0\",\"volunteer_2\",\"cloud_0\",\"volunteer_8\",\"volunteer_3\",\"volunteer_1\",\"volunteer_5\",\"volunteer_2\",\"edge_1\",\"volunteer_7\",\"volunteer_4\",\"volunteer_8\",\"volunteer_6\",\"volunteer_1\",\"myDevice\",\"cloud_0\",\"edge_0\",\"volunteer_7\",\"volunteer_2\",\"volunteer_8\",\"volunteer_4\",\"volunteer_3\",\"volunteer_7\",\"edge_0\",\"volunteer_5\",\"volunteer_1\",\"cloud_0\",\"volunteer_8\",\"myDevice\",\"volunteer_4\",\"edge_1\",\"volunteer_6\",\"volunteer_2\",\"volunteer_8\",\"volunteer_7\",\"volunteer_4\",\"volunteer_1\",\"myDevice\",\"volunteer_5\",\"edge_1\",\"volunteer_4\",\"volunteer_1\",\"cloud_0\",\"myDevice\",\"volunteer_3\",\"cloud_0\",\"volunteer_7\",\"edge_0\",\"volunteer_5\",\"edge_1\",\"cloud_0\",\"volunteer_8\",\"volunteer_7\",\"volunteer_4\",\"edge_0\",\"volunteer_3\",\"volunteer_2\",\"edge_1\",\"cloud_0\",\"volunteer_5\",\"volunteer_4\",\"volunteer_1\",\"myDevice\",\"volunteer_6\",\"volunteer_0\",\"volunteer_3\",\"edge_1\",\"volunteer_9\",\"edge_0\",\"cloud_0\",\"volunteer_3\",\"volunteer_1\",\"edge_0\",\"volunteer_7\",\"volunteer_6\",\"edge_1\",\"volunteer_7\",\"cloud_0\",\"volunteer_8\",\"volunteer_2\",\"volunteer_5\",\"volunteer_7\",\"volunteer_8\",\"volunteer_4\",\"volunteer_1\",\"myDevice\",\"volunteer_6\",\"volunteer_3\",\"volunteer_0\",\"volunteer_5\",\"myDevice\",\"volunteer_7\",\"cloud_0\",\"edge_1\",\"edge_0\",\"cloud_0\",\"edge_1\",\"volunteer_6\",\"volunteer_4\",\"volunteer_7\",\"cloud_0\",\"volunteer_8\",\"edge_1\",\"volunteer_2\",\"volunteer_5\",\"volunteer_1\",\"myDevice\",\"edge_0\",\"volunteer_6\",\"volunteer_3\",\"volunteer_8\",\"volunteer_0\",\"volunteer_9\",\"volunteer_4\",\"myDevice\",\"volunteer_6\",\"volunteer_1\",\"volunteer_3\",\"volunteer_2\",\"myDevice\",\"cloud_0\",\"volunteer_1\",\"volunteer_5\",\"cloud_0\",\"volunteer_7\",\"volunteer_5\",\"volunteer_4\",\"edge_1\",\"volunteer_8\",\"edge_0\",\"volunteer_3\",\"volunteer_6\",\"volunteer_3\",\"cloud_0\",\"volunteer_8\",\"volunteer_7\",\"edge_0\",\"volunteer_2\",\"volunteer_5\",\"volunteer_4\",\"edge_1\",\"volunteer_6\",\"volunteer_1\",\"cloud_0\",\"myDevice\",\"volunteer_3\",\"volunteer_7\",\"volunteer_4\",\"volunteer_0\",\"edge_1\",\"volunteer_9\",\"edge_0\",\"volunteer_6\",\"cloud_0\",\"volunteer_0\",\"volunteer_5\",\"volunteer_0\",\"volunteer_8\",\"volunteer_9\",\"edge_0\",\"volunteer_4\",\"myDevice\",\"volunteer_2\",\"volunteer_0\",\"edge_1\",\"volunteer_4\",\"volunteer_3\",\"volunteer_7\",\"cloud_0\",\"volunteer_9\",\"volunteer_5\",\"myDevice\",\"volunteer_1\",\"volunteer_9\",\"volunteer_3\",\"volunteer_4\",\"volunteer_0\",\"edge_0\",\"edge_1\",\"volunteer_6\",\"myDevice\",\"volunteer_1\",\"volunteer_8\",\"volunteer_9\",\"volunteer_2\",\"volunteer_7\",\"cloud_0\",\"volunteer_5\",\"volunteer_4\",\"volunteer_3\",\"edge_1\",\"edge_0\",\"volunteer_1\",\"volunteer_2\",\"volunteer_0\",\"volunteer_9\",\"volunteer_8\",\"volunteer_6\",\"myDevice\",\"volunteer_7\",\"volunteer_4\",\"cloud_0\",\"volunteer_0\",\"volunteer_9\",\"cloud_0\",\"volunteer_7\",\"myDevice\",\"volunteer_5\",\"edge_1\",\"edge_0\",\"volunteer_4\",\"volunteer_3\",\"volunteer_8\",\"volunteer_2\",\"volunteer_1\",\"volunteer_6\",\"volunteer_9\",\"cloud_0\",\"volunteer_4\",\"volunteer_5\",\"volunteer_7\",\"edge_0\",\"myDevice\",\"volunteer_1\",\"volunteer_2\",\"edge_1\",\"volunteer_0\",\"volunteer_7\",\"volunteer_3\",\"cloud_0\",\"cloud_0\",\"edge_1\",\"edge_0\",\"volunteer_1\",\"volunteer_6\",\"volunteer_3\",\"volunteer_1\",\"volunteer_5\",\"volunteer_8\",\"volunteer_4\",\"myDevice\",\"volunteer_7\",\"volunteer_2\",\"volunteer_0\",\"cloud_0\",\"volunteer_9\",\"volunteer_1\",\"volunteer_4\",\"myDevice\",\"volunteer_0\",\"volunteer_6\",\"edge_1\",\"volunteer_2\",\"volunteer_3\",\"edge_1\",\"myDevice\",\"volunteer_5\",\"volunteer_6\",\"volunteer_0\",\"cloud_0\",\"edge_0\",\"volunteer_4\",\"volunteer_1\",\"volunteer_5\",\"volunteer_2\",\"myDevice\",\"volunteer_7\",\"volunteer_4\",\"edge_1\",\"volunteer_8\",\"volunteer_3\",\"volunteer_1\",\"volunteer_7\",\"volunteer_6\",\"edge_0\",\"cloud_0\",\"volunteer_7\",\"cloud_0\",\"volunteer_5\",\"edge_0\",\"volunteer_3\",\"volunteer_8\",\"edge_1\",\"volunteer_7\",\"cloud_0\",\"volunteer_3\",\"edge_0\",\"cloud_0\",\"volunteer_8\",\"edge_1\",\"volunteer_3\",\"edge_0\",\"cloud_0\",\"volunteer_7\",\"edge_1\",\"edge_0\",\"volunteer_8\",\"volunteer_6\",\"volunteer_3\",\"cloud_0\",\"edge_1\",\"volunteer_7\",\"cloud_0\",\"edge_0\",\"edge_1\",\"edge_0\",\"cloud_0\",\"cloud_0\",\"volunteer_3\",\"edge_0\",\"edge_1\",\"volunteer_8\",\"volunteer_3\",\"volunteer_7\",\"edge_1\",\"edge_0\",\"cloud_0\",\"volunteer_6\",\"volunteer_7\",\"edge_0\",\"volunteer_8\",\"volunteer_8\",\"cloud_0\",\"volunteer_7\",\"volunteer_6\",\"edge_0\",\"volunteer_3\",\"volunteer_2\",\"volunteer_5\",\"edge_1\",\"cloud_0\",\"volunteer_7\",\"volunteer_3\",\"volunteer_3\",\"volunteer_8\",\"edge_0\",\"edge_1\",\"volunteer_7\",\"cloud_0\",\"cloud_0\",\"volunteer_3\",\"edge_0\",\"volunteer_8\",\"volunteer_6\",\"edge_1\",\"cloud_0\",\"volunteer_7\",\"volunteer_2\",\"volunteer_5\",\"volunteer_4\",\"volunteer_3\",\"edge_0\",\"volunteer_8\",\"volunteer_6\",\"volunteer_2\",\"volunteer_5\",\"volunteer_4\",\"edge_1\",\"cloud_0\",\"volunteer_7\",\"edge_1\",\"volunteer_5\",\"volunteer_3\",\"volunteer_8\",\"edge_0\",\"volunteer_2\",\"volunteer_4\",\"volunteer_1\",\"volunteer_6\",\"cloud_0\",\"volunteer_5\",\"volunteer_8\",\"volunteer_7\",\"volunteer_1\",\"edge_1\",\"edge_0\",\"volunteer_6\",\"volunteer_3\",\"volunteer_7\",\"volunteer_2\",\"volunteer_4\",\"volunteer_6\",\"volunteer_8\",\"volunteer_7\",\"cloud_0\",\"volunteer_4\",\"volunteer_3\",\"edge_0\",\"edge_1\",\"volunteer_2\",\"cloud_0\",\"volunteer_2\",\"volunteer_7\",\"edge_0\",\"volunteer_3\",\"edge_1\",\"volunteer_8\",\"volunteer_6\",\"cloud_0\",\"cloud_0\",\"volunteer_3\",\"edge_1\",\"volunteer_7\",\"edge_0\",\"volunteer_6\",\"volunteer_3\",\"cloud_0\",\"volunteer_3\",\"edge_0\",\"volunteer_8\",\"volunteer_6\",\"volunteer_7\",\"volunteer_2\",\"volunteer_5\",\"edge_1\",\"cloud_0\",\"volunteer_4\",\"volunteer_8\",\"volunteer_3\",\"volunteer_5\",\"edge_1\",\"edge_0\",\"volunteer_6\",\"volunteer_2\",\"volunteer_4\",\"volunteer_7\",\"volunteer_8\",\"cloud_0\",\"volunteer_3\",\"volunteer_7\",\"volunteer_5\",\"volunteer_4\",\"volunteer_1\",\"edge_0\",\"cloud_0\",\"edge_1\",\"volunteer_8\",\"edge_0\",\"volunteer_2\",\"volunteer_8\",\"volunteer_6\",\"volunteer_3\",\"volunteer_7\",\"volunteer_5\",\"volunteer_4\",\"cloud_0\",\"edge_0\",\"volunteer_7\",\"edge_1\",\"volunteer_2\",\"cloud_0\",\"volunteer_3\",\"volunteer_8\",\"volunteer_6\",\"volunteer_7\",\"cloud_0\",\"volunteer_3\",\"edge_1\",\"volunteer_7\",\"edge_0\",\"volunteer_2\",\"volunteer_3\",\"volunteer_5\",\"volunteer_6\",\"edge_0\",\"volunteer_7\",\"volunteer_2\",\"edge_1\",\"volunteer_8\",\"volunteer_7\",\"cloud_0\",\"volunteer_6\",\"cloud_0\",\"volunteer_3\",\"edge_0\",\"cloud_0\",\"edge_0\",\"edge_1\",\"volunteer_3\",\"volunteer_8\",\"edge_0\",\"volunteer_6\",\"cloud_0\",\"edge_1\",\"cloud_0\",\"edge_1\",\"volunteer_8\",\"volunteer_6\",\"edge_0\",\"volunteer_3\",\"edge_0\",\"cloud_0\",\"volunteer_8\",\"volunteer_6\",\"volunteer_7\",\"cloud_0\",\"edge_0\",\"edge_1\",\"volunteer_3\",\"edge_0\",\"volunteer_3\",\"volunteer_8\",\"volunteer_6\",\"volunteer_3\",\"volunteer_7\",\"cloud_0\",\"edge_0\",\"edge_1\",\"edge_1\",\"volunteer_3\",\"cloud_0\",\"volunteer_8\",\"volunteer_6\",\"edge_0\",\"volunteer_7\",\"volunteer_3\",\"volunteer_2\",\"volunteer_5\",\"cloud_0\",\"edge_1\",\"edge_0\",\"volunteer_8\",\"cloud_0\",\"volunteer_6\",\"edge_0\",\"volunteer_4\",\"volunteer_3\",\"volunteer_7\",\"volunteer_2\",\"cloud_0\",\"volunteer_8\",\"edge_1\",\"volunteer_5\",\"volunteer_1\",\"edge_0\",\"volunteer_6\",\"volunteer_4\",\"volunteer_8\",\"volunteer_5\",\"myDevice\",\"edge_1\",\"volunteer_2\",\"cloud_0\",\"volunteer_4\",\"volunteer_7\",\"volunteer_3\",\"edge_1\",\"edge_1\",\"cloud_0\",\"volunteer_7\",\"edge_0\",\"edge_1\",\"edge_0\",\"cloud_0\",\"volunteer_3\",\"volunteer_8\",\"edge_0\",\"volunteer_7\",\"volunteer_6\",\"volunteer_3\",\"volunteer_2\",\"volunteer_5\",\"volunteer_7\",\"edge_1\",\"volunteer_8\",\"cloud_0\",\"volunteer_4\",\"volunteer_1\",\"volunteer_6\",\"volunteer_7\",\"cloud_0\",\"volunteer_5\",\"myDevice\",\"edge_0\",\"edge_1\",\"volunteer_3\",\"edge_0\",\"volunteer_3\",\"volunteer_6\",\"volunteer_8\",\"volunteer_7\",\"cloud_0\",\"edge_1\",\"volunteer_6\",\"cloud_0\",\"volunteer_7\",\"volunteer_2\",\"volunteer_3\",\"edge_1\",\"edge_0\",\"volunteer_8\",\"volunteer_5\",\"volunteer_4\",\"cloud_0\",\"volunteer_1\",\"volunteer_6\",\"cloud_0\",\"volunteer_2\",\"volunteer_3\",\"volunteer_5\",\"myDevice\",\"volunteer_2\",\"volunteer_7\",\"volunteer_4\",\"edge_1\",\"volunteer_1\",\"volunteer_0\",\"myDevice\",\"volunteer_5\",\"volunteer_9\",\"volunteer_4\",\"volunteer_8\",\"edge_0\",\"volunteer_0\",\"volunteer_8\",\"volunteer_5\",\"volunteer_4\",\"volunteer_3\",\"cloud_0\",\"volunteer_6\",\"volunteer_2\",\"volunteer_4\",\"volunteer_5\",\"volunteer_1\",\"volunteer_7\",\"edge_1\",\"edge_0\",\"volunteer_8\",\"cloud_0\",\"volunteer_6\",\"edge_0\",\"volunteer_3\",\"volunteer_8\",\"volunteer_7\",\"edge_0\",\"volunteer_2\",\"cloud_0\",\"edge_1\",\"volunteer_3\",\"volunteer_8\",\"volunteer_5\",\"volunteer_6\",\"volunteer_8\",\"cloud_0\",\"volunteer_7\",\"volunteer_8\",\"volunteer_2\",\"edge_1\",\"volunteer_5\",\"edge_0\",\"volunteer_6\",\"volunteer_3\",\"volunteer_4\",\"edge_0\",\"volunteer_7\",\"cloud_0\",\"volunteer_2\",\"volunteer_5\",\"volunteer_6\",\"volunteer_4\",\"volunteer_8\",\"volunteer_5\",\"volunteer_6\",\"volunteer_2\",\"edge_0\",\"volunteer_7\",\"edge_1\",\"volunteer_2\",\"volunteer_7\",\"cloud_0\",\"volunteer_8\",\"volunteer_6\",\"edge_1\",\"volunteer_3\",\"edge_0\",\"cloud_0\",\"edge_0\",\"volunteer_7\",\"edge_1\",\"edge_0\",\"volunteer_8\",\"volunteer_3\",\"volunteer_6\",\"volunteer_7\",\"edge_0\",\"edge_1\",\"volunteer_2\",\"cloud_0\",\"volunteer_8\",\"volunteer_6\",\"volunteer_7\",\"edge_1\",\"cloud_0\",\"edge_0\",\"edge_1\",\"volunteer_6\",\"volunteer_3\",\"cloud_0\",\"volunteer_5\",\"volunteer_4\",\"edge_0\",\"volunteer_2\",\"volunteer_7\",\"volunteer_8\",\"cloud_0\",\"cloud_0\",\"volunteer_6\",\"volunteer_8\",\"edge_1\",\"volunteer_3\",\"volunteer_7\",\"volunteer_8\",\"edge_0\",\"volunteer_3\",\"volunteer_2\",\"edge_1\",\"volunteer_5\",\"volunteer_6\",\"cloud_0\",\"edge_0\",\"volunteer_8\",\"volunteer_7\",\"volunteer_3\",\"volunteer_2\",\"volunteer_5\",\"volunteer_4\",\"volunteer_1\",\"edge_1\",\"edge_0\",\"cloud_0\",\"volunteer_6\",\"volunteer_4\",\"myDevice\",\"volunteer_1\",\"volunteer_6\",\"edge_0\",\"volunteer_7\",\"volunteer_5\",\"cloud_0\",\"volunteer_8\",\"edge_1\",\"volunteer_2\",\"volunteer_5\",\"volunteer_3\",\"volunteer_6\",\"volunteer_8\",\"volunteer_7\",\"edge_1\",\"edge_0\",\"volunteer_8\",\"volunteer_7\",\"volunteer_6\",\"volunteer_2\",\"volunteer_5\",\"volunteer_3\",\"cloud_0\",\"cloud_0\",\"volunteer_3\",\"cloud_0\",\"volunteer_8\",\"volunteer_3\",\"cloud_0\",\"volunteer_8\",\"volunteer_6\",\"edge_1\",\"volunteer_7\",\"volunteer_2\",\"cloud_0\",\"volunteer_5\",\"edge_0\",\"edge_0\",\"volunteer_3\",\"edge_1\",\"volunteer_6\",\"volunteer_7\",\"volunteer_8\",\"cloud_0\",\"volunteer_2\",\"volunteer_3\",\"volunteer_8\",\"volunteer_7\",\"volunteer_5\",\"cloud_0\",\"volunteer_6\",\"edge_1\",\"edge_0\",\"cloud_0\",\"edge_0\",\"volunteer_8\",\"volunteer_7\",\"edge_1\",\"volunteer_3\",\"volunteer_6\",\"cloud_0\",\"edge_0\",\"volunteer_2\",\"volunteer_5\",\"volunteer_3\",\"volunteer_4\",\"cloud_0\",\"edge_1\",\"edge_0\",\"volunteer_7\",\"edge_1\",\"volunteer_5\",\"volunteer_8\",\"edge_0\",\"volunteer_3\",\"cloud_0\",\"edge_0\",\"edge_1\",\"edge_0\",\"volunteer_3\",\"volunteer_8\",\"volunteer_7\",\"cloud_0\",\"volunteer_6\",\"volunteer_2\",\"volunteer_7\",\"edge_1\",\"volunteer_5\",\"volunteer_4\",\"edge_0\",\"volunteer_3\",\"volunteer_8\",\"cloud_0\",\"edge_1\",\"volunteer_6\",\"edge_1\",\"volunteer_7\",\"edge_0\",\"volunteer_6\",\"cloud_0\",\"volunteer_2\",\"volunteer_5\",\"volunteer_3\",\"volunteer_4\"],\"yaxis\":\"y\",\"type\":\"bar\"}],                        {\"template\":{\"data\":{\"histogram2dcontour\":[{\"type\":\"histogram2dcontour\",\"colorbar\":{\"outlinewidth\":0,\"ticks\":\"\"},\"colorscale\":[[0.0,\"#0d0887\"],[0.1111111111111111,\"#46039f\"],[0.2222222222222222,\"#7201a8\"],[0.3333333333333333,\"#9c179e\"],[0.4444444444444444,\"#bd3786\"],[0.5555555555555556,\"#d8576b\"],[0.6666666666666666,\"#ed7953\"],[0.7777777777777778,\"#fb9f3a\"],[0.8888888888888888,\"#fdca26\"],[1.0,\"#f0f921\"]]}],\"choropleth\":[{\"type\":\"choropleth\",\"colorbar\":{\"outlinewidth\":0,\"ticks\":\"\"}}],\"histogram2d\":[{\"type\":\"histogram2d\",\"colorbar\":{\"outlinewidth\":0,\"ticks\":\"\"},\"colorscale\":[[0.0,\"#0d0887\"],[0.1111111111111111,\"#46039f\"],[0.2222222222222222,\"#7201a8\"],[0.3333333333333333,\"#9c179e\"],[0.4444444444444444,\"#bd3786\"],[0.5555555555555556,\"#d8576b\"],[0.6666666666666666,\"#ed7953\"],[0.7777777777777778,\"#fb9f3a\"],[0.8888888888888888,\"#fdca26\"],[1.0,\"#f0f921\"]]}],\"heatmap\":[{\"type\":\"heatmap\",\"colorbar\":{\"outlinewidth\":0,\"ticks\":\"\"},\"colorscale\":[[0.0,\"#0d0887\"],[0.1111111111111111,\"#46039f\"],[0.2222222222222222,\"#7201a8\"],[0.3333333333333333,\"#9c179e\"],[0.4444444444444444,\"#bd3786\"],[0.5555555555555556,\"#d8576b\"],[0.6666666666666666,\"#ed7953\"],[0.7777777777777778,\"#fb9f3a\"],[0.8888888888888888,\"#fdca26\"],[1.0,\"#f0f921\"]]}],\"heatmapgl\":[{\"type\":\"heatmapgl\",\"colorbar\":{\"outlinewidth\":0,\"ticks\":\"\"},\"colorscale\":[[0.0,\"#0d0887\"],[0.1111111111111111,\"#46039f\"],[0.2222222222222222,\"#7201a8\"],[0.3333333333333333,\"#9c179e\"],[0.4444444444444444,\"#bd3786\"],[0.5555555555555556,\"#d8576b\"],[0.6666666666666666,\"#ed7953\"],[0.7777777777777778,\"#fb9f3a\"],[0.8888888888888888,\"#fdca26\"],[1.0,\"#f0f921\"]]}],\"contourcarpet\":[{\"type\":\"contourcarpet\",\"colorbar\":{\"outlinewidth\":0,\"ticks\":\"\"}}],\"contour\":[{\"type\":\"contour\",\"colorbar\":{\"outlinewidth\":0,\"ticks\":\"\"},\"colorscale\":[[0.0,\"#0d0887\"],[0.1111111111111111,\"#46039f\"],[0.2222222222222222,\"#7201a8\"],[0.3333333333333333,\"#9c179e\"],[0.4444444444444444,\"#bd3786\"],[0.5555555555555556,\"#d8576b\"],[0.6666666666666666,\"#ed7953\"],[0.7777777777777778,\"#fb9f3a\"],[0.8888888888888888,\"#fdca26\"],[1.0,\"#f0f921\"]]}],\"surface\":[{\"type\":\"surface\",\"colorbar\":{\"outlinewidth\":0,\"ticks\":\"\"},\"colorscale\":[[0.0,\"#0d0887\"],[0.1111111111111111,\"#46039f\"],[0.2222222222222222,\"#7201a8\"],[0.3333333333333333,\"#9c179e\"],[0.4444444444444444,\"#bd3786\"],[0.5555555555555556,\"#d8576b\"],[0.6666666666666666,\"#ed7953\"],[0.7777777777777778,\"#fb9f3a\"],[0.8888888888888888,\"#fdca26\"],[1.0,\"#f0f921\"]]}],\"mesh3d\":[{\"type\":\"mesh3d\",\"colorbar\":{\"outlinewidth\":0,\"ticks\":\"\"}}],\"scatter\":[{\"fillpattern\":{\"fillmode\":\"overlay\",\"size\":10,\"solidity\":0.2},\"type\":\"scatter\"}],\"parcoords\":[{\"type\":\"parcoords\",\"line\":{\"colorbar\":{\"outlinewidth\":0,\"ticks\":\"\"}}}],\"scatterpolargl\":[{\"type\":\"scatterpolargl\",\"marker\":{\"colorbar\":{\"outlinewidth\":0,\"ticks\":\"\"}}}],\"bar\":[{\"error_x\":{\"color\":\"#2a3f5f\"},\"error_y\":{\"color\":\"#2a3f5f\"},\"marker\":{\"line\":{\"color\":\"#E5ECF6\",\"width\":0.5},\"pattern\":{\"fillmode\":\"overlay\",\"size\":10,\"solidity\":0.2}},\"type\":\"bar\"}],\"scattergeo\":[{\"type\":\"scattergeo\",\"marker\":{\"colorbar\":{\"outlinewidth\":0,\"ticks\":\"\"}}}],\"scatterpolar\":[{\"type\":\"scatterpolar\",\"marker\":{\"colorbar\":{\"outlinewidth\":0,\"ticks\":\"\"}}}],\"histogram\":[{\"marker\":{\"pattern\":{\"fillmode\":\"overlay\",\"size\":10,\"solidity\":0.2}},\"type\":\"histogram\"}],\"scattergl\":[{\"type\":\"scattergl\",\"marker\":{\"colorbar\":{\"outlinewidth\":0,\"ticks\":\"\"}}}],\"scatter3d\":[{\"type\":\"scatter3d\",\"line\":{\"colorbar\":{\"outlinewidth\":0,\"ticks\":\"\"}},\"marker\":{\"colorbar\":{\"outlinewidth\":0,\"ticks\":\"\"}}}],\"scattermapbox\":[{\"type\":\"scattermapbox\",\"marker\":{\"colorbar\":{\"outlinewidth\":0,\"ticks\":\"\"}}}],\"scatterternary\":[{\"type\":\"scatterternary\",\"marker\":{\"colorbar\":{\"outlinewidth\":0,\"ticks\":\"\"}}}],\"scattercarpet\":[{\"type\":\"scattercarpet\",\"marker\":{\"colorbar\":{\"outlinewidth\":0,\"ticks\":\"\"}}}],\"carpet\":[{\"aaxis\":{\"endlinecolor\":\"#2a3f5f\",\"gridcolor\":\"white\",\"linecolor\":\"white\",\"minorgridcolor\":\"white\",\"startlinecolor\":\"#2a3f5f\"},\"baxis\":{\"endlinecolor\":\"#2a3f5f\",\"gridcolor\":\"white\",\"linecolor\":\"white\",\"minorgridcolor\":\"white\",\"startlinecolor\":\"#2a3f5f\"},\"type\":\"carpet\"}],\"table\":[{\"cells\":{\"fill\":{\"color\":\"#EBF0F8\"},\"line\":{\"color\":\"white\"}},\"header\":{\"fill\":{\"color\":\"#C8D4E3\"},\"line\":{\"color\":\"white\"}},\"type\":\"table\"}],\"barpolar\":[{\"marker\":{\"line\":{\"color\":\"#E5ECF6\",\"width\":0.5},\"pattern\":{\"fillmode\":\"overlay\",\"size\":10,\"solidity\":0.2}},\"type\":\"barpolar\"}],\"pie\":[{\"automargin\":true,\"type\":\"pie\"}]},\"layout\":{\"autotypenumbers\":\"strict\",\"colorway\":[\"#636efa\",\"#EF553B\",\"#00cc96\",\"#ab63fa\",\"#FFA15A\",\"#19d3f3\",\"#FF6692\",\"#B6E880\",\"#FF97FF\",\"#FECB52\"],\"font\":{\"color\":\"#2a3f5f\"},\"hovermode\":\"closest\",\"hoverlabel\":{\"align\":\"left\"},\"paper_bgcolor\":\"white\",\"plot_bgcolor\":\"#E5ECF6\",\"polar\":{\"bgcolor\":\"#E5ECF6\",\"angularaxis\":{\"gridcolor\":\"white\",\"linecolor\":\"white\",\"ticks\":\"\"},\"radialaxis\":{\"gridcolor\":\"white\",\"linecolor\":\"white\",\"ticks\":\"\"}},\"ternary\":{\"bgcolor\":\"#E5ECF6\",\"aaxis\":{\"gridcolor\":\"white\",\"linecolor\":\"white\",\"ticks\":\"\"},\"baxis\":{\"gridcolor\":\"white\",\"linecolor\":\"white\",\"ticks\":\"\"},\"caxis\":{\"gridcolor\":\"white\",\"linecolor\":\"white\",\"ticks\":\"\"}},\"coloraxis\":{\"colorbar\":{\"outlinewidth\":0,\"ticks\":\"\"}},\"colorscale\":{\"sequential\":[[0.0,\"#0d0887\"],[0.1111111111111111,\"#46039f\"],[0.2222222222222222,\"#7201a8\"],[0.3333333333333333,\"#9c179e\"],[0.4444444444444444,\"#bd3786\"],[0.5555555555555556,\"#d8576b\"],[0.6666666666666666,\"#ed7953\"],[0.7777777777777778,\"#fb9f3a\"],[0.8888888888888888,\"#fdca26\"],[1.0,\"#f0f921\"]],\"sequentialminus\":[[0.0,\"#0d0887\"],[0.1111111111111111,\"#46039f\"],[0.2222222222222222,\"#7201a8\"],[0.3333333333333333,\"#9c179e\"],[0.4444444444444444,\"#bd3786\"],[0.5555555555555556,\"#d8576b\"],[0.6666666666666666,\"#ed7953\"],[0.7777777777777778,\"#fb9f3a\"],[0.8888888888888888,\"#fdca26\"],[1.0,\"#f0f921\"]],\"diverging\":[[0,\"#8e0152\"],[0.1,\"#c51b7d\"],[0.2,\"#de77ae\"],[0.3,\"#f1b6da\"],[0.4,\"#fde0ef\"],[0.5,\"#f7f7f7\"],[0.6,\"#e6f5d0\"],[0.7,\"#b8e186\"],[0.8,\"#7fbc41\"],[0.9,\"#4d9221\"],[1,\"#276419\"]]},\"xaxis\":{\"gridcolor\":\"white\",\"linecolor\":\"white\",\"ticks\":\"\",\"title\":{\"standoff\":15},\"zerolinecolor\":\"white\",\"automargin\":true,\"zerolinewidth\":2},\"yaxis\":{\"gridcolor\":\"white\",\"linecolor\":\"white\",\"ticks\":\"\",\"title\":{\"standoff\":15},\"zerolinecolor\":\"white\",\"automargin\":true,\"zerolinewidth\":2},\"scene\":{\"xaxis\":{\"backgroundcolor\":\"#E5ECF6\",\"gridcolor\":\"white\",\"linecolor\":\"white\",\"showbackground\":true,\"ticks\":\"\",\"zerolinecolor\":\"white\",\"gridwidth\":2},\"yaxis\":{\"backgroundcolor\":\"#E5ECF6\",\"gridcolor\":\"white\",\"linecolor\":\"white\",\"showbackground\":true,\"ticks\":\"\",\"zerolinecolor\":\"white\",\"gridwidth\":2},\"zaxis\":{\"backgroundcolor\":\"#E5ECF6\",\"gridcolor\":\"white\",\"linecolor\":\"white\",\"showbackground\":true,\"ticks\":\"\",\"zerolinecolor\":\"white\",\"gridwidth\":2}},\"shapedefaults\":{\"line\":{\"color\":\"#2a3f5f\"}},\"annotationdefaults\":{\"arrowcolor\":\"#2a3f5f\",\"arrowhead\":0,\"arrowwidth\":1},\"geo\":{\"bgcolor\":\"white\",\"landcolor\":\"#E5ECF6\",\"subunitcolor\":\"white\",\"showland\":true,\"showlakes\":true,\"lakecolor\":\"white\"},\"title\":{\"x\":0.05},\"mapbox\":{\"style\":\"light\"}}},\"xaxis\":{\"anchor\":\"y\",\"domain\":[0.0,1.0],\"type\":\"date\"},\"yaxis\":{\"anchor\":\"x\",\"domain\":[0.0,1.0],\"title\":{\"text\":\"Unit\"},\"autorange\":\"reversed\"},\"coloraxis\":{\"colorbar\":{\"title\":{\"text\":\"TaskID\"}},\"colorscale\":[[0.0,\"#0d0887\"],[0.1111111111111111,\"#46039f\"],[0.2222222222222222,\"#7201a8\"],[0.3333333333333333,\"#9c179e\"],[0.4444444444444444,\"#bd3786\"],[0.5555555555555556,\"#d8576b\"],[0.6666666666666666,\"#ed7953\"],[0.7777777777777778,\"#fb9f3a\"],[0.8888888888888888,\"#fdca26\"],[1.0,\"#f0f921\"]]},\"legend\":{\"tracegroupgap\":0},\"margin\":{\"t\":60},\"barmode\":\"overlay\"},                        {\"responsive\": true}                    ).then(function(){\n",
              "                            \n",
              "var gd = document.getElementById('79487067-4687-4c4e-9434-ea87ac1f7760');\n",
              "var x = new MutationObserver(function (mutations, observer) {{\n",
              "        var display = window.getComputedStyle(gd).display;\n",
              "        if (!display || display === 'none') {{\n",
              "            console.log([gd, 'removed!']);\n",
              "            Plotly.purge(gd);\n",
              "            observer.disconnect();\n",
              "        }}\n",
              "}});\n",
              "\n",
              "// Listen for the removal of the full notebook cells\n",
              "var notebookContainer = gd.closest('#notebook-container');\n",
              "if (notebookContainer) {{\n",
              "    x.observe(notebookContainer, {childList: true});\n",
              "}}\n",
              "\n",
              "// Listen for the clearing of the current output cell\n",
              "var outputEl = gd.closest('.output');\n",
              "if (outputEl) {{\n",
              "    x.observe(outputEl, {childList: true});\n",
              "}}\n",
              "\n",
              "                        })                };                            </script>        </div>\n",
              "</body>\n",
              "</html>"
            ]
          },
          "metadata": {}
        },
        {
          "output_type": "stream",
          "name": "stdout",
          "text": [
            "Number of not assigned tasks =  0\n",
            "Simulation2 total tasks delay = 257496 s\n"
          ]
        }
      ],
      "source": [
        "\n",
        "simulation2 = Simulation(network_withVolunteers, tasks, \"computationTime\")\n",
        "runTimeControl2 = simulation2.run()\n",
        "simulation2.plotGanttChart()\n",
        "print(\"Number of not assigned tasks = \", runTimeControl2.getNotAssignedTasks())\n",
        "print(\"Simulation2 total tasks delay = %d s\" % simulation1.totalTasksDelay())"
      ]
    },
    {
      "cell_type": "markdown",
      "source": [
        "### Parametric study on the effect of increasing the number of volunteers"
      ],
      "metadata": {
        "id": "bsKawA1-GEib"
      }
    },
    {
      "cell_type": "code",
      "source": [
        "Nvolunteers = 10 # Maximum number of volunteers to use in this test\n",
        "tasks = randomTaskGenerator(_Ntasks = 1000)\n",
        "totalTasksDelay = []\n",
        "Nclouds = 1\n",
        "Nedges = 2\n",
        "notAssignedTasks = []\n",
        "verbose = False\n",
        "\n",
        "network = randomNetworkGenerator(Nclouds, Nedges)\n",
        "for Nvol in range(Nvolunteers):\n",
        "  testNetwork = copy.deepcopy(network)\n",
        "  testTasks = copy.deepcopy(tasks)\n",
        "  network.generateRandomVolunteer(\"volunteer\" + str(Nvol))\n",
        "  simulation = Simulation(testNetwork, testTasks, \"computationTime\")\n",
        "  runTimeControl = simulation.run()\n",
        "\n",
        "  totalTasksDelay.append(simulation.totalTasksDelay())\n",
        "  notAssignedTasks.append(runTimeControl.getNotAssignedTasks())\n",
        "  if verbose:\n",
        "    print(\"Number of volunteers = \", Nvol)\n",
        "    print(\"Total tasks delay = \", simulation.totalTasksDelay())\n",
        "    print(\"Number of not assigned tasks = \", runTimeControl.getNotAssignedTasks())\n",
        "    print(\"\\n\")\n",
        "\n",
        "plt.subplot(2, 1, 1)\n",
        "plt.ylabel('Total tasks delay [s]', fontsize=12)\n",
        "\n",
        "plt.grid()\n",
        "plt.plot(range(Nvolunteers), totalTasksDelay)\n",
        "\n",
        "plt.subplot(2,1, 2)\n",
        "plt.ylabel('Failed tasks', fontsize=12)\n",
        "plt.grid()\n",
        "plt.plot(range(Nvolunteers), notAssignedTasks)\n",
        "plt.xlabel('Number of volunteers', fontsize=20)\n",
        "plt.show()"
      ],
      "metadata": {
        "id": "AxQxYNSzT7hS",
        "colab": {
          "base_uri": "https://localhost:8080/",
          "height": 464
        },
        "outputId": "c7439110-0199-4dcf-f956-9eef90adf44c"
      },
      "execution_count": 17,
      "outputs": [
        {
          "output_type": "display_data",
          "data": {
            "text/plain": [
              "<Figure size 640x480 with 2 Axes>"
            ],
            "image/png": "[encoded data removed]"
          },
          "metadata": {}
        }
      ]
    },
    {
      "cell_type": "code",
      "source": [
        "# Constants for the simulation\n",
        "Nclouds = 1\n",
        "Nedges = 5\n",
        "Nvolunteers = 100\n",
        "Ntasks = 10000  # Number of tasks to simulate\n",
        "turnOnFreq = 15  # Constant turn-on frequency for volunteers\n",
        "\n",
        "# Range of shutdown frequencies to test\n",
        "shutdown_frequencies = range(5, 51, 5)  # From 5 to 50 with a step of 5\n",
        "\n",
        "# Lists to store the results\n",
        "total_task_execution_times = []\n",
        "\n",
        "# Generate the network and tasks outside the loop (constant for all simulations)\n",
        "network = randomNetworkGenerator(Nclouds, Nedges)\n",
        "network.generateRandomVolunteers(Nvolunteers)\n",
        "tasks = randomTaskGenerator(Ntasks)\n",
        "\n",
        "# Perform simulations for each shutdown frequency\n",
        "for shutDownFreq in shutdown_frequencies:\n",
        "    simulation = Simulation(network, tasks, \"computationTime\")\n",
        "    runTimeControl = simulation.runWithRandomShutdowns(shutDownFreq, turnOnFreq)\n",
        "\n",
        "    # Calculate total task execution time for this shutdown frequency\n",
        "    total_execution_time = simulation.totalTasksDelay()\n",
        "    total_task_execution_times.append(total_execution_time)\n",
        "\n",
        "    # Optionally, reset the network and tasks if necessary for each iteration\n",
        "\n",
        "# Print the results in text format\n",
        "print(\"Dependence of Task Execution Time on Volunteer Shutdown Frequency\")\n",
        "print(\"------------------------------------------------------------------\")\n",
        "for freq, exec_time in zip(shutdown_frequencies, total_task_execution_times):\n",
        "    print(f\"Shutdown Frequency: {freq}, Total Task Execution Time: {exec_time} seconds\")\n",
        "\n",
        "# Optionally, save the results to a text file for sharing\n",
        "with open(\"simulation_results_shutdown_frequency.txt\", \"w\") as file:\n",
        "    file.write(\"Dependence of Task Execution Time on Volunteer Shutdown Frequency\\n\")\n",
        "    file.write(\"------------------------------------------------------------------\\n\")\n",
        "    for freq, exec_time in zip(shutdown_frequencies, total_task_execution_times):\n",
        "        file.write(f\"Shutdown Frequency: {freq}, Total Task Execution Time: {exec_time} seconds\\n\")\n",
        "\n",
        "print(\"\\nResults have also been written to 'simulation_results_shutdown_frequency.txt'\")\n"
      ],
      "metadata": {
        "colab": {
          "base_uri": "https://localhost:8080/"
        },
        "id": "MF9Sb2fuIu50",
        "outputId": "f0972019-d88b-400a-b856-c142fda1774a"
      },
      "execution_count": 18,
      "outputs": [
        {
          "output_type": "stream",
          "name": "stdout",
          "text": [
            "Dependence of Task Execution Time on Volunteer Shutdown Frequency\n",
            "------------------------------------------------------------------\n",
            "Shutdown Frequency: 5, Total Task Execution Time: 1645833.927765 seconds\n",
            "Shutdown Frequency: 10, Total Task Execution Time: 5544.818421 seconds\n",
            "Shutdown Frequency: 15, Total Task Execution Time: 145558.08829699995 seconds\n",
            "Shutdown Frequency: 20, Total Task Execution Time: 108241.48883599997 seconds\n",
            "Shutdown Frequency: 25, Total Task Execution Time: 11323.717719 seconds\n",
            "Shutdown Frequency: 30, Total Task Execution Time: 2383.647418 seconds\n",
            "Shutdown Frequency: 35, Total Task Execution Time: 0 seconds\n",
            "Shutdown Frequency: 40, Total Task Execution Time: 0 seconds\n",
            "Shutdown Frequency: 45, Total Task Execution Time: 0 seconds\n",
            "Shutdown Frequency: 50, Total Task Execution Time: 0 seconds\n",
            "\n",
            "Results have also been written to 'simulation_results_shutdown_frequency.txt'\n"
          ]
        }
      ]
    },
    {
      "cell_type": "code",
      "source": [
        "pip install memory_profiler\n"
      ],
      "metadata": {
        "colab": {
          "base_uri": "https://localhost:8080/"
        },
        "id": "WLe0Y6CQLYjT",
        "outputId": "647746d3-3f43-480c-a90e-a3717e32e367"
      },
      "execution_count": 19,
      "outputs": [
        {
          "output_type": "stream",
          "name": "stdout",
          "text": [
            "Collecting memory_profiler\n",
            "  Downloading memory_profiler-0.61.0-py3-none-any.whl (31 kB)\n",
            "Requirement already satisfied: psutil in /usr/local/lib/python3.10/dist-packages (from memory_profiler) (5.9.5)\n",
            "Installing collected packages: memory_profiler\n",
            "Successfully installed memory_profiler-0.61.0\n"
          ]
        }
      ]
    },
    {
      "cell_type": "code",
      "source": [
        "!pip install memory_profiler\n"
      ],
      "metadata": {
        "colab": {
          "base_uri": "https://localhost:8080/"
        },
        "id": "fEZ4pF0jLvEd",
        "outputId": "641cafcb-a0a8-4e93-f438-4992202a165e"
      },
      "execution_count": 20,
      "outputs": [
        {
          "output_type": "stream",
          "name": "stdout",
          "text": [
            "Requirement already satisfied: memory_profiler in /usr/local/lib/python3.10/dist-packages (0.61.0)\n",
            "Requirement already satisfied: psutil in /usr/local/lib/python3.10/dist-packages (from memory_profiler) (5.9.5)\n"
          ]
        }
      ]
    },
    {
      "cell_type": "code",
      "source": [
        "%load_ext memory_profiler\n"
      ],
      "metadata": {
        "id": "2rwcELtQL1U4"
      },
      "execution_count": 21,
      "outputs": []
    },
    {
      "cell_type": "code",
      "source": [
        "import time\n",
        "from memory_profiler import memory_usage\n",
        "\n",
        "def run_simulation(number_of_volunteers, number_of_tasks):\n",
        "    # Placeholder for your simulation code\n",
        "    pass\n",
        "\n",
        "def measure_performance(number_of_volunteers, number_of_tasks):\n",
        "    start_time = time.time()\n",
        "    peak_memory = max(memory_usage((run_simulation, (number_of_volunteers, number_of_tasks))))\n",
        "    end_time = time.time()\n",
        "\n",
        "    execution_time = end_time - start_time\n",
        "    print(f\"Volunteers: {number_of_volunteers}, Tasks: {number_of_tasks}, Execution Time: {execution_time}s, Peak Memory: {peak_memory} MiB\")\n",
        "\n",
        "# Example of measuring performance for different scenarios\n",
        "measure_performance(10, 1000)\n",
        "measure_performance(20, 5000)\n",
        "# Add more scenarios as needed\n"
      ],
      "metadata": {
        "colab": {
          "base_uri": "https://localhost:8080/"
        },
        "id": "k0GmGko-L9Lj",
        "outputId": "530b7d63-c736-40be-ba55-04c6349f3f90"
      },
      "execution_count": 22,
      "outputs": [
        {
          "output_type": "stream",
          "name": "stdout",
          "text": [
            "Volunteers: 10, Tasks: 1000, Execution Time: 0.4397854804992676s, Peak Memory: 194.96875 MiB\n",
            "Volunteers: 20, Tasks: 5000, Execution Time: 0.2713301181793213s, Peak Memory: 195.2109375 MiB\n"
          ]
        }
      ]
    },
    {
      "cell_type": "code",
      "source": [
        "!pip install memory_profiler\n",
        "%load_ext memory_profiler\n",
        "\n",
        "import time\n",
        "from memory_profiler import memory_usage\n",
        "\n",
        "# Constants for the base simulation setup\n",
        "Nclouds = 1\n",
        "Nedges = 5\n",
        "initial_volunteers = [10,20,30,40, 50,60,70,80,90,100]  # Different numbers of volunteers to test\n",
        "tasks_to_simulate = [1000,2000,3000,4000,5000,6000,7000,8000,9000,10000]  # Different numbers of tasks to test\n",
        "\n",
        "# Lists to store the results\n",
        "results = []\n",
        "\n",
        "import time\n",
        "from memory_profiler import memory_usage\n",
        "\n",
        "# Assuming Simulation, randomNetworkGenerator, and randomTaskGenerator are defined elsewhere in your notebook\n",
        "\n",
        "def run_simulation_with_metrics(n_volunteers, n_tasks):\n",
        "    # Setup the simulation environment\n",
        "    network = randomNetworkGenerator(Nclouds, Nedges)\n",
        "    network.generateRandomVolunteers(n_volunteers)\n",
        "    tasks = randomTaskGenerator(n_tasks)\n",
        "    simulation = Simulation(network, tasks, \"computationTime\")  # Adjusted to match expected Simulation initialization\n",
        "\n",
        "    # Measure execution time and memory usage\n",
        "    start_time = time.time()\n",
        "    # Adjust memory_usage call to match how your simulation runs. Assuming .run() doesn't need args here.\n",
        "    mem_usage = memory_usage((simulation.run, ()), max_usage=True, retval=True)\n",
        "\n",
        "    execution_time = time.time() - start_time\n",
        "    peak_memory, _ = mem_usage  # _ would be the return value from simulation.run(), if needed\n",
        "\n",
        "    return execution_time, peak_memory\n",
        "\n",
        "# Now, you can loop through your varying numbers of volunteers and tasks as before, calling this adjusted function.\n",
        "\n",
        "\n",
        "# Testing scalability by varying the number of volunteers and tasks\n",
        "for n_volunteers in initial_volunteers:\n",
        "    for n_tasks in tasks_to_simulate:\n",
        "        execution_time, peak_memory = run_simulation_with_metrics(n_volunteers, n_tasks)\n",
        "        results.append((n_volunteers, n_tasks, execution_time, peak_memory))\n",
        "        print(f\"Volunteers: {n_volunteers}, Tasks: {n_tasks}, Execution Time: {execution_time:.2f}s, Peak Memory: {peak_memory:.2f} MiB\")\n",
        "\n",
        "# Optionally, save the results to a text file for sharing\n",
        "with open(\"simulation_scalability_results.txt\", \"w\") as file:\n",
        "    file.write(\"Scalability Test: Number of Volunteers vs Number of Tasks\\n\")\n",
        "    file.write(\"----------------------------------------------------------\\n\")\n",
        "    for n_volunteers, n_tasks, exec_time, mem_usage in results:\n",
        "        file.write(f\"Volunteers: {n_volunteers}, Tasks: {n_tasks}, Execution Time: {exec_time:.2f}s, Peak Memory Usage: {mem_usage:.2f} MiB\\n\")\n",
        "\n",
        "print(\"\\nScalability test results have also been written to 'simulation_scalability_results.txt'\")\n"
      ],
      "metadata": {
        "colab": {
          "base_uri": "https://localhost:8080/"
        },
        "id": "X_-_zVAbNBXt",
        "outputId": "0daf2b75-a196-4a5f-ac77-f13cba8436b8"
      },
      "execution_count": 23,
      "outputs": [
        {
          "output_type": "stream",
          "name": "stdout",
          "text": [
            "Requirement already satisfied: memory_profiler in /usr/local/lib/python3.10/dist-packages (0.61.0)\n",
            "Requirement already satisfied: psutil in /usr/local/lib/python3.10/dist-packages (from memory_profiler) (5.9.5)\n",
            "The memory_profiler extension is already loaded. To reload it, use:\n",
            "  %reload_ext memory_profiler\n",
            "Volunteers: 10, Tasks: 1000, Execution Time: 0.27s, Peak Memory: 195.42 MiB\n",
            "Volunteers: 10, Tasks: 2000, Execution Time: 0.64s, Peak Memory: 195.93 MiB\n",
            "Volunteers: 10, Tasks: 3000, Execution Time: 0.92s, Peak Memory: 196.46 MiB\n",
            "Volunteers: 10, Tasks: 4000, Execution Time: 1.04s, Peak Memory: 197.01 MiB\n",
            "Volunteers: 10, Tasks: 5000, Execution Time: 1.58s, Peak Memory: 197.57 MiB\n",
            "Volunteers: 10, Tasks: 6000, Execution Time: 2.59s, Peak Memory: 198.11 MiB\n",
            "Volunteers: 10, Tasks: 7000, Execution Time: 2.25s, Peak Memory: 198.67 MiB\n",
            "Volunteers: 10, Tasks: 8000, Execution Time: 2.31s, Peak Memory: 199.23 MiB\n",
            "Volunteers: 10, Tasks: 9000, Execution Time: 0.91s, Peak Memory: 199.84 MiB\n",
            "Volunteers: 10, Tasks: 10000, Execution Time: 1.84s, Peak Memory: 200.40 MiB\n",
            "Volunteers: 20, Tasks: 1000, Execution Time: 0.78s, Peak Memory: 200.42 MiB\n",
            "Volunteers: 20, Tasks: 2000, Execution Time: 0.32s, Peak Memory: 200.42 MiB\n",
            "Volunteers: 20, Tasks: 3000, Execution Time: 0.48s, Peak Memory: 200.42 MiB\n",
            "Volunteers: 20, Tasks: 4000, Execution Time: 1.65s, Peak Memory: 200.42 MiB\n",
            "Volunteers: 20, Tasks: 5000, Execution Time: 1.54s, Peak Memory: 200.42 MiB\n",
            "Volunteers: 20, Tasks: 6000, Execution Time: 1.01s, Peak Memory: 200.42 MiB\n",
            "Volunteers: 20, Tasks: 7000, Execution Time: 1.14s, Peak Memory: 200.42 MiB\n",
            "Volunteers: 20, Tasks: 8000, Execution Time: 1.57s, Peak Memory: 200.42 MiB\n",
            "Volunteers: 20, Tasks: 9000, Execution Time: 3.60s, Peak Memory: 200.42 MiB\n",
            "Volunteers: 20, Tasks: 10000, Execution Time: 5.79s, Peak Memory: 200.48 MiB\n",
            "Volunteers: 30, Tasks: 1000, Execution Time: 0.55s, Peak Memory: 200.48 MiB\n",
            "Volunteers: 30, Tasks: 2000, Execution Time: 1.02s, Peak Memory: 200.48 MiB\n",
            "Volunteers: 30, Tasks: 3000, Execution Time: 0.63s, Peak Memory: 200.48 MiB\n",
            "Volunteers: 30, Tasks: 4000, Execution Time: 1.53s, Peak Memory: 200.48 MiB\n",
            "Volunteers: 30, Tasks: 5000, Execution Time: 1.04s, Peak Memory: 200.48 MiB\n",
            "Volunteers: 30, Tasks: 6000, Execution Time: 1.24s, Peak Memory: 200.48 MiB\n",
            "Volunteers: 30, Tasks: 7000, Execution Time: 1.61s, Peak Memory: 200.48 MiB\n",
            "Volunteers: 30, Tasks: 8000, Execution Time: 2.83s, Peak Memory: 200.48 MiB\n",
            "Volunteers: 30, Tasks: 9000, Execution Time: 2.09s, Peak Memory: 200.48 MiB\n",
            "Volunteers: 30, Tasks: 10000, Execution Time: 2.77s, Peak Memory: 200.57 MiB\n",
            "Volunteers: 40, Tasks: 1000, Execution Time: 0.33s, Peak Memory: 200.57 MiB\n",
            "Volunteers: 40, Tasks: 2000, Execution Time: 1.05s, Peak Memory: 200.57 MiB\n",
            "Volunteers: 40, Tasks: 3000, Execution Time: 1.22s, Peak Memory: 200.57 MiB\n",
            "Volunteers: 40, Tasks: 4000, Execution Time: 1.16s, Peak Memory: 200.57 MiB\n",
            "Volunteers: 40, Tasks: 5000, Execution Time: 3.03s, Peak Memory: 200.58 MiB\n",
            "Volunteers: 40, Tasks: 6000, Execution Time: 1.92s, Peak Memory: 200.58 MiB\n",
            "Volunteers: 40, Tasks: 7000, Execution Time: 2.13s, Peak Memory: 200.58 MiB\n",
            "Volunteers: 40, Tasks: 8000, Execution Time: 2.28s, Peak Memory: 200.58 MiB\n",
            "Volunteers: 40, Tasks: 9000, Execution Time: 2.28s, Peak Memory: 200.58 MiB\n",
            "Volunteers: 40, Tasks: 10000, Execution Time: 3.76s, Peak Memory: 200.70 MiB\n",
            "Volunteers: 50, Tasks: 1000, Execution Time: 0.40s, Peak Memory: 200.70 MiB\n",
            "Volunteers: 50, Tasks: 2000, Execution Time: 1.07s, Peak Memory: 200.70 MiB\n",
            "Volunteers: 50, Tasks: 3000, Execution Time: 1.23s, Peak Memory: 200.74 MiB\n",
            "Volunteers: 50, Tasks: 4000, Execution Time: 1.46s, Peak Memory: 200.74 MiB\n",
            "Volunteers: 50, Tasks: 5000, Execution Time: 1.85s, Peak Memory: 200.74 MiB\n",
            "Volunteers: 50, Tasks: 6000, Execution Time: 2.18s, Peak Memory: 200.74 MiB\n",
            "Volunteers: 50, Tasks: 7000, Execution Time: 3.34s, Peak Memory: 200.75 MiB\n",
            "Volunteers: 50, Tasks: 8000, Execution Time: 2.61s, Peak Memory: 200.75 MiB\n",
            "Volunteers: 50, Tasks: 9000, Execution Time: 3.14s, Peak Memory: 200.75 MiB\n",
            "Volunteers: 50, Tasks: 10000, Execution Time: 3.15s, Peak Memory: 200.83 MiB\n",
            "Volunteers: 60, Tasks: 1000, Execution Time: 0.45s, Peak Memory: 200.86 MiB\n",
            "Volunteers: 60, Tasks: 2000, Execution Time: 1.58s, Peak Memory: 200.86 MiB\n",
            "Volunteers: 60, Tasks: 3000, Execution Time: 1.55s, Peak Memory: 200.86 MiB\n",
            "Volunteers: 60, Tasks: 4000, Execution Time: 2.61s, Peak Memory: 200.86 MiB\n",
            "Volunteers: 60, Tasks: 5000, Execution Time: 2.90s, Peak Memory: 200.86 MiB\n",
            "Volunteers: 60, Tasks: 6000, Execution Time: 2.93s, Peak Memory: 200.86 MiB\n",
            "Volunteers: 60, Tasks: 7000, Execution Time: 3.41s, Peak Memory: 200.86 MiB\n",
            "Volunteers: 60, Tasks: 8000, Execution Time: 3.47s, Peak Memory: 200.86 MiB\n",
            "Volunteers: 60, Tasks: 9000, Execution Time: 4.03s, Peak Memory: 200.86 MiB\n",
            "Volunteers: 60, Tasks: 10000, Execution Time: 4.98s, Peak Memory: 200.96 MiB\n",
            "Volunteers: 70, Tasks: 1000, Execution Time: 0.97s, Peak Memory: 200.97 MiB\n",
            "Volunteers: 70, Tasks: 2000, Execution Time: 0.85s, Peak Memory: 200.97 MiB\n",
            "Volunteers: 70, Tasks: 3000, Execution Time: 1.87s, Peak Memory: 200.97 MiB\n",
            "Volunteers: 70, Tasks: 4000, Execution Time: 2.72s, Peak Memory: 200.97 MiB\n",
            "Volunteers: 70, Tasks: 5000, Execution Time: 3.92s, Peak Memory: 200.97 MiB\n",
            "Volunteers: 70, Tasks: 6000, Execution Time: 3.26s, Peak Memory: 200.97 MiB\n",
            "Volunteers: 70, Tasks: 7000, Execution Time: 3.19s, Peak Memory: 200.98 MiB\n",
            "Volunteers: 70, Tasks: 8000, Execution Time: 5.47s, Peak Memory: 200.98 MiB\n",
            "Volunteers: 70, Tasks: 9000, Execution Time: 3.93s, Peak Memory: 200.98 MiB\n",
            "Volunteers: 70, Tasks: 10000, Execution Time: 4.96s, Peak Memory: 201.06 MiB\n",
            "Volunteers: 80, Tasks: 1000, Execution Time: 1.69s, Peak Memory: 201.08 MiB\n",
            "Volunteers: 80, Tasks: 2000, Execution Time: 1.02s, Peak Memory: 201.08 MiB\n",
            "Volunteers: 80, Tasks: 3000, Execution Time: 1.60s, Peak Memory: 201.08 MiB\n",
            "Volunteers: 80, Tasks: 4000, Execution Time: 1.92s, Peak Memory: 201.08 MiB\n",
            "Volunteers: 80, Tasks: 5000, Execution Time: 2.44s, Peak Memory: 201.08 MiB\n",
            "Volunteers: 80, Tasks: 6000, Execution Time: 4.16s, Peak Memory: 201.08 MiB\n",
            "Volunteers: 80, Tasks: 7000, Execution Time: 3.76s, Peak Memory: 201.08 MiB\n",
            "Volunteers: 80, Tasks: 8000, Execution Time: 4.00s, Peak Memory: 201.12 MiB\n",
            "Volunteers: 80, Tasks: 9000, Execution Time: 6.26s, Peak Memory: 201.15 MiB\n",
            "Volunteers: 80, Tasks: 10000, Execution Time: 4.90s, Peak Memory: 201.26 MiB\n",
            "Volunteers: 90, Tasks: 1000, Execution Time: 0.66s, Peak Memory: 201.26 MiB\n",
            "Volunteers: 90, Tasks: 2000, Execution Time: 1.47s, Peak Memory: 201.26 MiB\n",
            "Volunteers: 90, Tasks: 3000, Execution Time: 3.40s, Peak Memory: 201.26 MiB\n",
            "Volunteers: 90, Tasks: 4000, Execution Time: 2.37s, Peak Memory: 201.26 MiB\n",
            "Volunteers: 90, Tasks: 5000, Execution Time: 3.31s, Peak Memory: 201.26 MiB\n",
            "Volunteers: 90, Tasks: 6000, Execution Time: 4.84s, Peak Memory: 201.26 MiB\n",
            "Volunteers: 90, Tasks: 7000, Execution Time: 4.60s, Peak Memory: 201.26 MiB\n",
            "Volunteers: 90, Tasks: 8000, Execution Time: 4.43s, Peak Memory: 201.34 MiB\n",
            "Volunteers: 90, Tasks: 9000, Execution Time: 6.62s, Peak Memory: 201.36 MiB\n",
            "Volunteers: 90, Tasks: 10000, Execution Time: 5.43s, Peak Memory: 201.43 MiB\n",
            "Volunteers: 100, Tasks: 1000, Execution Time: 0.80s, Peak Memory: 201.48 MiB\n",
            "Volunteers: 100, Tasks: 2000, Execution Time: 1.56s, Peak Memory: 201.48 MiB\n",
            "Volunteers: 100, Tasks: 3000, Execution Time: 3.32s, Peak Memory: 201.48 MiB\n",
            "Volunteers: 100, Tasks: 4000, Execution Time: 2.33s, Peak Memory: 201.48 MiB\n",
            "Volunteers: 100, Tasks: 5000, Execution Time: 3.75s, Peak Memory: 201.48 MiB\n",
            "Volunteers: 100, Tasks: 6000, Execution Time: 4.27s, Peak Memory: 201.54 MiB\n",
            "Volunteers: 100, Tasks: 7000, Execution Time: 4.57s, Peak Memory: 201.54 MiB\n",
            "Volunteers: 100, Tasks: 8000, Execution Time: 5.12s, Peak Memory: 201.54 MiB\n",
            "Volunteers: 100, Tasks: 9000, Execution Time: 6.57s, Peak Memory: 201.54 MiB\n",
            "Volunteers: 100, Tasks: 10000, Execution Time: 6.00s, Peak Memory: 201.69 MiB\n",
            "\n",
            "Scalability test results have also been written to 'simulation_scalability_results.txt'\n"
          ]
        }
      ]
    },
    {
      "cell_type": "markdown",
      "source": [
        "### Volunteers shut down test"
      ],
      "metadata": {
        "id": "Aku5MWGvPcSp"
      }
    },
    {
      "cell_type": "code",
      "source": [
        "\n",
        "\n",
        "Nclouds = 1\n",
        "Nedges = 2\n",
        "Nvolunteers = 10\n",
        "\n",
        "network = randomNetworkGenerator(Nclouds, Nedges)\n",
        "network.generateRandomVolunteers(Nvolunteers)\n",
        "\n",
        "tasks = randomTaskGenerator(_Ntasks = 1000)\n",
        "\n",
        "simulation = Simulation(network, tasks, \"computationTime\")\n",
        "\n",
        "shutDownFreq = 20\n",
        "turnOnFreq = 15\n",
        "runTimeControl = simulation.runWithRandomShutdowns(shutDownFreq, turnOnFreq)\n",
        "simulation.plotGanttChart()\n",
        "network.print()\n",
        "print(\"\\nNumber of not assigned tasks = \", runTimeControl.getNotAssignedTasks())\n",
        "print(\"Simulation1 total tasks delay = %d s\" % simulation.totalTasksDelay())"
      ],
      "metadata": {
        "colab": {
          "base_uri": "https://localhost:8080/",
          "height": 1000
        },
        "id": "IlEMvjBRPh6s",
        "outputId": "cda74dd3-ff7e-4488-c3aa-181126ed195f"
      },
      "execution_count": 24,
      "outputs": [
        {
          "output_type": "display_data",
          "data": {
            "text/html": [
              "<html>\n",
              "<head><meta charset=\"utf-8\" /></head>\n",
              "<body>\n",
              "    <div>            <script src=\"https://cdnjs.cloudflare.com/ajax/libs/mathjax/2.7.5/MathJax.js?config=TeX-AMS-MML_SVG\"></script><script type=\"text/javascript\">if (window.MathJax && window.MathJax.Hub && window.MathJax.Hub.Config) {window.MathJax.Hub.Config({SVG: {font: \"STIX-Web\"}});}</script>                <script type=\"text/javascript\">window.PlotlyConfig = {MathJaxConfig: 'local'};</script>\n",
              "        <script charset=\"utf-8\" src=\"https://cdn.plot.ly/plotly-2.24.1.min.js\"></script>                <div id=\"3705ee7f-cbb0-4981-b6af-e9d155fb5e9e\" class=\"plotly-graph-div\" style=\"height:525px; width:100%;\"></div>            <script type=\"text/javascript\">                                    window.PLOTLYENV=window.PLOTLYENV || {};                                    if (document.getElementById(\"3705ee7f-cbb0-4981-b6af-e9d155fb5e9e\")) {                    Plotly.newPlot(                        \"3705ee7f-cbb0-4981-b6af-e9d155fb5e9e\",                        [{\"alignmentgroup\":\"True\",\"base\":[\"2024-02-24T09:31:48.986400\",\"2024-02-24T09:31:55.922025\",\"2024-02-24T09:31:56.699897\",\"2024-02-24T09:32:09.951132\",\"2024-02-24T09:33:24.756745\",\"2024-02-24T09:32:44.029154\",\"2024-02-24T09:34:42.772539\",\"2024-02-24T09:33:34.820109\",\"2024-02-24T09:33:49.235339\",\"2024-02-24T09:34:17.005922\",\"2024-02-24T09:34:06.286700\",\"2024-02-24T09:35:38.303253\",\"2024-02-24T09:35:44.242659\",\"2024-02-24T09:36:36.035675\",\"2024-02-24T09:37:15.041299\",\"2024-02-24T09:36:37.525862\",\"2024-02-24T09:36:35.167110\",\"2024-02-24T09:39:01.292075\",\"2024-02-24T09:37:11.306846\",\"2024-02-24T09:40:31.751188\",\"2024-02-24T09:37:57.989650\",\"2024-02-24T09:38:55.233620\",\"2024-02-24T09:39:10.708687\",\"2024-02-24T09:39:31.988004\",\"2024-02-24T09:39:55.259446\",\"2024-02-24T09:41:07.282716\",\"2024-02-24T09:40:49.561139\",\"2024-02-24T09:41:17.967535\",\"2024-02-24T09:42:14.974316\",\"2024-02-24T09:41:46.061997\",\"2024-02-24T09:43:19.171274\",\"2024-02-24T09:42:26.430488\",\"2024-02-24T09:42:31.013231\",\"2024-02-24T09:42:39.864874\",\"2024-02-24T09:45:05.185230\",\"2024-02-24T09:43:40.245796\",\"2024-02-24T09:44:59.032988\",\"2024-02-24T09:44:33.143740\",\"2024-02-24T09:44:29.878060\",\"2024-02-24T09:45:54.082804\",\"2024-02-24T09:44:39.401325\",\"2024-02-24T09:45:12.642553\",\"2024-02-24T09:45:19.873368\",\"2024-02-24T09:47:39.722241\",\"2024-02-24T09:47:43.492128\",\"2024-02-24T09:46:12.339034\",\"2024-02-24T09:49:21.747569\",\"2024-02-24T09:49:46.743704\",\"2024-02-24T09:48:31.085836\",\"2024-02-24T09:50:12.672301\",\"2024-02-24T09:51:11.180505\",\"2024-02-24T09:50:31.921587\",\"2024-02-24T09:52:23.843828\",\"2024-02-24T09:52:37.542118\",\"2024-02-24T09:52:06.409513\",\"2024-02-24T09:55:23.729893\",\"2024-02-24T09:53:19.739624\",\"2024-02-24T09:53:45.355231\",\"2024-02-24T09:53:42.157864\",\"2024-02-24T09:54:41.084594\",\"2024-02-24T09:54:37.361181\",\"2024-02-24T09:55:00.842662\",\"2024-02-24T09:56:28.206274\",\"2024-02-24T09:56:31.769421\",\"2024-02-24T09:58:37.662778\",\"2024-02-24T09:58:32.510147\",\"2024-02-24T09:57:16.601828\",\"2024-02-24T09:57:56.015015\",\"2024-02-24T09:58:58.894994\",\"2024-02-24T09:58:58.894994\",\"2024-02-24T10:00:14.266650\",\"2024-02-24T10:01:54.409243\",\"2024-02-24T10:00:32.417910\",\"2024-02-24T10:00:51.892956\",\"2024-02-24T10:02:15.452823\",\"2024-02-24T10:00:57.888443\",\"2024-02-24T10:01:07.859834\",\"2024-02-24T10:01:50.907772\",\"2024-02-24T10:03:17.728520\",\"2024-02-24T10:04:58.076001\",\"2024-02-24T10:03:33.579479\",\"2024-02-24T10:04:04.733755\",\"2024-02-24T10:04:10.751467\",\"2024-02-24T10:06:44.574602\",\"2024-02-24T10:05:36.887265\",\"2024-02-24T10:06:22.176111\",\"2024-02-24T10:10:04.670456\",\"2024-02-24T10:06:07.945826\",\"2024-02-24T10:06:16.816580\",\"2024-02-24T10:07:08.902268\",\"2024-02-24T10:07:48.643132\",\"2024-02-24T10:07:51.178570\",\"2024-02-24T10:08:45.581465\",\"2024-02-24T10:08:05.296190\",\"2024-02-24T10:11:09.102194\",\"2024-02-24T10:08:54.141366\",\"2024-02-24T10:09:41.794434\",\"2024-02-24T10:09:46.898693\",\"2024-02-24T10:11:24.115293\",\"2024-02-24T10:10:26.371506\",\"2024-02-24T10:13:04.710008\",\"2024-02-24T10:10:47.846333\",\"2024-02-24T10:13:45.203895\",\"2024-02-24T10:12:04.427188\",\"2024-02-24T10:14:41.938598\",\"2024-02-24T10:11:44.267517\",\"2024-02-24T10:17:03.325334\",\"2024-02-24T10:11:59.282086\",\"2024-02-24T10:14:33.371610\",\"2024-02-24T10:15:51.412439\",\"2024-02-24T10:13:45.203895\",\"2024-02-24T10:14:20.989108\",\"2024-02-24T10:18:05.774250\",\"2024-02-24T10:13:27.229662\",\"2024-02-24T10:13:27.670591\",\"2024-02-24T10:16:01.813739\",\"2024-02-24T10:15:39.692419\",\"2024-02-24T10:15:51.255075\",\"2024-02-24T10:17:02.670119\",\"2024-02-24T10:16:37.403077\",\"2024-02-24T10:20:01.290124\",\"2024-02-24T10:20:23.721839\",\"2024-02-24T10:25:51.062309\",\"2024-02-24T10:21:13.478194\",\"2024-02-24T10:18:38.578530\",\"2024-02-24T10:20:16.531261\",\"2024-02-24T10:20:42.574076\",\"2024-02-24T10:19:06.381990\",\"2024-02-24T10:19:04.453056\",\"2024-02-24T10:22:48.655612\",\"2024-02-24T10:19:33.175996\",\"2024-02-24T10:20:43.154264\",\"2024-02-24T10:21:38.560898\",\"2024-02-24T10:24:54.826748\",\"2024-02-24T10:20:35.561490\",\"2024-02-24T10:25:54.527579\",\"2024-02-24T10:21:16.509135\",\"2024-02-24T10:22:13.484418\",\"2024-02-24T10:23:01.232560\",\"2024-02-24T10:22:50.296504\",\"2024-02-24T10:23:25.132244\",\"2024-02-24T10:27:44.003840\",\"2024-02-24T10:25:03.754608\",\"2024-02-24T10:27:21.850054\",\"2024-02-24T10:25:33.709571\",\"2024-02-24T10:25:50.908179\",\"2024-02-24T10:27:07.184835\",\"2024-02-24T10:25:45.418438\",\"2024-02-24T10:30:31.703823\",\"2024-02-24T10:24:41.902667\",\"2024-02-24T10:25:21.922655\",\"2024-02-24T10:26:40.429584\",\"2024-02-24T10:26:38.808405\",\"2024-02-24T10:28:31.863243\",\"2024-02-24T10:32:17.970652\",\"2024-02-24T10:28:26.136146\",\"2024-02-24T10:30:44.892567\",\"2024-02-24T10:26:47.699246\",\"2024-02-24T10:28:52.361795\",\"2024-02-24T10:27:22.831695\",\"2024-02-24T10:28:46.696739\",\"2024-02-24T10:29:10.912615\",\"2024-02-24T10:30:25.754129\",\"2024-02-24T10:29:40.369802\",\"2024-02-24T10:30:21.847027\",\"2024-02-24T10:35:36.325428\",\"2024-02-24T10:31:49.073482\",\"2024-02-24T10:30:58.317486\",\"2024-02-24T10:34:49.149412\",\"2024-02-24T10:37:03.124324\",\"2024-02-24T10:31:47.877672\",\"2024-02-24T10:32:16.357059\",\"2024-02-24T10:32:33.434942\",\"2024-02-24T10:33:53.658894\",\"2024-02-24T10:34:11.806319\",\"2024-02-24T10:33:21.850085\",\"2024-02-24T10:33:55.514340\",\"2024-02-24T10:40:20.805672\",\"2024-02-24T10:35:27.668600\",\"2024-02-24T10:35:34.260822\",\"2024-02-24T10:36:05.944597\",\"2024-02-24T10:37:39.001679\",\"2024-02-24T10:38:25.779288\",\"2024-02-24T10:40:03.729532\",\"2024-02-24T10:38:57.022320\",\"2024-02-24T10:41:58.940871\",\"2024-02-24T10:39:04.376441\",\"2024-02-24T10:40:10.146259\",\"2024-02-24T10:45:31.079966\",\"2024-02-24T10:39:16.825058\",\"2024-02-24T10:39:21.706575\",\"2024-02-24T10:40:10.272453\",\"2024-02-24T10:41:14.861073\",\"2024-02-24T10:40:54.663914\",\"2024-02-24T10:44:35.713923\",\"2024-02-24T10:41:56.991297\",\"2024-02-24T10:40:53.108585\",\"2024-02-24T10:41:33.976669\",\"2024-02-24T10:44:35.344968\",\"2024-02-24T10:44:51.311325\",\"2024-02-24T10:42:46.463100\",\"2024-02-24T10:43:18.971165\",\"2024-02-24T10:47:37.344570\",\"2024-02-24T10:44:30.491218\",\"2024-02-24T10:45:35.481715\",\"2024-02-24T10:45:04.072401\",\"2024-02-24T10:43:46.956821\",\"2024-02-24T10:48:09.316530\",\"2024-02-24T10:48:06.874785\",\"2024-02-24T10:45:04.120277\",\"2024-02-24T10:45:16.474382\",\"2024-02-24T10:54:10.466239\",\"2024-02-24T10:48:02.551749\",\"2024-02-24T10:48:44.456634\",\"2024-02-24T10:49:27.550966\",\"2024-02-24T10:49:34.370356\",\"2024-02-24T10:48:52.060257\",\"2024-02-24T10:50:21.485783\",\"2024-02-24T10:52:23.564407\",\"2024-02-24T10:52:21.038209\",\"2024-02-24T10:50:14.979376\",\"2024-02-24T10:51:40.274818\",\"2024-02-24T10:51:19.782684\",\"2024-02-24T10:52:02.080389\",\"2024-02-24T10:52:38.799891\",\"2024-02-24T10:55:40.185223\",\"2024-02-24T10:55:01.942836\",\"2024-02-24T10:52:40.001113\",\"2024-02-24T10:54:23.665326\",\"2024-02-24T10:53:59.610725\",\"2024-02-24T10:55:17.827647\",\"2024-02-24T10:56:25.336354\",\"2024-02-24T10:53:56.484471\",\"2024-02-24T10:55:02.728586\",\"2024-02-24T10:58:14.866270\",\"2024-02-24T10:57:42.606900\",\"2024-02-24T10:55:34.421238\",\"2024-02-24T10:57:26.790124\",\"2024-02-24T10:55:47.245653\",\"2024-02-24T10:56:56.150879\",\"2024-02-24T10:57:45.652130\",\"2024-02-24T10:57:42.651011\",\"2024-02-24T10:57:52.917109\",\"2024-02-24T10:57:59.697948\",\"2024-02-24T10:59:56.530788\",\"2024-02-24T10:58:51.512467\",\"2024-02-24T10:58:23.389149\",\"2024-02-24T10:59:23.346628\",\"2024-02-24T11:02:49.032086\",\"2024-02-24T10:59:48.312398\",\"2024-02-24T11:01:31.003190\",\"2024-02-24T11:00:43.301970\",\"2024-02-24T11:01:03.564260\",\"2024-02-24T11:03:56.471240\",\"2024-02-24T11:01:34.688395\",\"2024-02-24T11:02:41.611316\",\"2024-02-24T11:04:00.865640\",\"2024-02-24T11:01:33.590110\",\"2024-02-24T11:02:13.738548\",\"2024-02-24T11:01:59.696686\",\"2024-02-24T11:02:53.979059\",\"2024-02-24T11:06:30.401723\",\"2024-02-24T11:04:49.354343\",\"2024-02-24T11:02:44.881715\",\"2024-02-24T11:03:55.387370\",\"2024-02-24T11:03:33.350915\",\"2024-02-24T11:08:07.406321\",\"2024-02-24T11:05:28.569555\",\"2024-02-24T11:05:13.290321\",\"2024-02-24T11:05:41.270914\",\"2024-02-24T11:09:34.489219\",\"2024-02-24T11:06:59.545124\",\"2024-02-24T11:06:50.742850\",\"2024-02-24T11:06:42.408668\",\"2024-02-24T11:06:45.579711\",\"2024-02-24T11:10:19.031245\",\"2024-02-24T11:09:37.959557\",\"2024-02-24T11:11:55.665053\",\"2024-02-24T11:09:13.591843\",\"2024-02-24T11:10:15.646399\",\"2024-02-24T11:13:20.730886\",\"2024-02-24T11:09:38.130905\",\"2024-02-24T11:12:12.064891\",\"2024-02-24T11:07:44.611104\",\"2024-02-24T11:10:42.949739\",\"2024-02-24T11:11:11.496787\",\"2024-02-24T11:11:35.573193\",\"2024-02-24T11:12:49.898244\",\"2024-02-24T11:11:43.435818\",\"2024-02-24T11:14:39.255917\",\"2024-02-24T11:15:34.493074\",\"2024-02-24T11:16:08.515548\",\"2024-02-24T11:12:25.598404\",\"2024-02-24T11:14:00.747385\",\"2024-02-24T11:12:54.256860\",\"2024-02-24T11:13:47.341742\",\"2024-02-24T11:12:48.379752\",\"2024-02-24T11:14:36.827157\",\"2024-02-24T11:17:09.340452\",\"2024-02-24T11:19:09.105881\",\"2024-02-24T11:20:26.209641\",\"2024-02-24T11:15:46.936555\",\"2024-02-24T11:17:29.983497\",\"2024-02-24T11:15:22.792126\",\"2024-02-24T11:16:18.270338\",\"2024-02-24T11:17:41.318739\",\"2024-02-24T11:17:17.957421\",\"2024-02-24T11:18:26.847903\",\"2024-02-24T11:20:39.563978\",\"2024-02-24T11:19:12.763189\",\"2024-02-24T11:20:03.088995\",\"2024-02-24T11:19:38.538494\",\"2024-02-24T11:20:27.749415\",\"2024-02-24T11:20:13.011325\",\"2024-02-24T11:20:44.078192\",\"2024-02-24T11:23:06.866195\",\"2024-02-24T11:24:30.861634\",\"2024-02-24T11:20:59.134046\",\"2024-02-24T11:21:41.525598\",\"2024-02-24T11:21:33.303882\",\"2024-02-24T11:21:44.653706\",\"2024-02-24T11:21:52.898757\",\"2024-02-24T11:22:42.872620\",\"2024-02-24T11:22:22.501297\",\"2024-02-24T11:25:16.544118\",\"2024-02-24T11:23:38.208218\",\"2024-02-24T11:26:22.024182\",\"2024-02-24T11:23:26.827245\",\"2024-02-24T11:25:47.480697\",\"2024-02-24T11:25:15.130899\",\"2024-02-24T11:25:41.861912\",\"2024-02-24T11:29:34.284752\",\"2024-02-24T11:26:41.546587\",\"2024-02-24T11:26:10.888349\",\"2024-02-24T11:29:59.103826\",\"2024-02-24T11:26:53.886046\",\"2024-02-24T11:27:11.992732\",\"2024-02-24T11:28:04.925079\",\"2024-02-24T11:32:58.060059\",\"2024-02-24T11:28:17.453787\",\"2024-02-24T11:31:18.897558\",\"2024-02-24T11:32:43.456648\",\"2024-02-24T11:29:09.916666\",\"2024-02-24T11:29:32.913383\",\"2024-02-24T11:29:59.896138\",\"2024-02-24T11:31:51.211661\",\"2024-02-24T11:30:33.748010\",\"2024-02-24T11:31:10.444817\",\"2024-02-24T11:31:18.191255\",\"2024-02-24T11:31:56.276124\",\"2024-02-24T11:37:55.005904\",\"2024-02-24T11:31:48.018402\",\"2024-02-24T11:32:36.644398\",\"2024-02-24T11:33:57.593091\",\"2024-02-24T11:33:00.959439\",\"2024-02-24T11:34:09.974940\",\"2024-02-24T11:36:29.255508\",\"2024-02-24T11:34:47.882712\",\"2024-02-24T11:34:34.809294\",\"2024-02-24T11:36:08.536599\",\"2024-02-24T11:38:50.093211\",\"2024-02-24T11:35:05.056957\",\"2024-02-24T11:35:32.297646\",\"2024-02-24T11:36:44.253618\",\"2024-02-24T11:40:25.766572\",\"2024-02-24T11:39:07.084560\",\"2024-02-24T11:37:41.074557\",\"2024-02-24T11:38:05.363758\",\"2024-02-24T11:39:43.966536\",\"2024-02-24T11:38:35.396435\",\"2024-02-24T11:39:14.589306\",\"2024-02-24T11:42:40.712673\",\"2024-02-24T11:40:12.754952\",\"2024-02-24T11:44:15.364368\",\"2024-02-24T11:40:45.043789\",\"2024-02-24T11:42:58.980654\",\"2024-02-24T11:43:53.737629\",\"2024-02-24T11:45:32.721364\",\"2024-02-24T11:45:02.896089\",\"2024-02-24T11:46:44.025345\",\"2024-02-24T11:45:57.636205\",\"2024-02-24T11:46:37.257908\",\"2024-02-24T11:47:33.462105\",\"2024-02-24T11:49:02.510960\",\"2024-02-24T11:47:30.960152\",\"2024-02-24T11:47:34.877319\",\"2024-02-24T11:51:39.484570\",\"2024-02-24T11:47:38.914675\",\"2024-02-24T11:48:02.336244\",\"2024-02-24T11:48:28.424895\",\"2024-02-24T11:50:22.027878\",\"2024-02-24T11:49:42.214870\",\"2024-02-24T11:49:26.329771\",\"2024-02-24T11:50:09.183433\",\"2024-02-24T11:52:31.523095\",\"2024-02-24T11:53:09.149741\",\"2024-02-24T11:50:20.506882\",\"2024-02-24T11:51:40.817246\",\"2024-02-24T11:50:55.935967\",\"2024-02-24T11:51:08.964501\",\"2024-02-24T11:55:07.137115\",\"2024-02-24T11:52:07.511681\",\"2024-02-24T11:52:21.837791\",\"2024-02-24T11:53:07.393454\",\"2024-02-24T11:53:10.932755\",\"2024-02-24T11:53:28.359563\",\"2024-02-24T11:53:56.343308\",\"2024-02-24T11:54:23.374291\",\"2024-02-24T11:55:30.604195\",\"2024-02-24T11:57:09.239229\",\"2024-02-24T11:55:46.813318\",\"2024-02-24T11:58:30.800589\",\"2024-02-24T11:56:17.974135\",\"2024-02-24T11:56:38.613917\",\"2024-02-24T11:57:47.918476\",\"2024-02-24T11:58:08.647852\",\"2024-02-24T12:01:05.837416\",\"2024-02-24T11:59:12.747915\",\"2024-02-24T12:00:22.377454\",\"2024-02-24T12:00:43.198703\",\"2024-02-24T12:02:01.883534\",\"2024-02-24T12:00:58.799190\",\"2024-02-24T12:01:04.391488\",\"2024-02-24T12:02:21.027357\",\"2024-02-24T12:01:44.479326\",\"2024-02-24T12:02:22.295697\",\"2024-02-24T12:02:56.584289\",\"2024-02-24T12:02:57.174366\",\"2024-02-24T12:03:38.314086\",\"2024-02-24T12:03:34.947403\",\"2024-02-24T12:05:40.763107\",\"2024-02-24T12:06:13.575389\",\"2024-02-24T12:05:16.825517\",\"2024-02-24T12:06:05.913342\",\"2024-02-24T12:05:31.994662\",\"2024-02-24T12:06:07.073042\",\"2024-02-24T12:05:44.528023\",\"2024-02-24T12:05:57.595105\",\"2024-02-24T12:08:35.902822\",\"2024-02-24T12:06:20.445999\",\"2024-02-24T12:09:57.268866\",\"2024-02-24T12:07:28.832138\",\"2024-02-24T12:07:51.121906\",\"2024-02-24T12:08:44.866659\",\"2024-02-24T12:09:32.031683\",\"2024-02-24T12:11:33.978043\",\"2024-02-24T12:11:45.264050\",\"2024-02-24T12:09:58.988126\",\"2024-02-24T12:10:21.108477\",\"2024-02-24T12:13:20.182894\",\"2024-02-24T12:10:34.158983\",\"2024-02-24T12:11:17.592632\",\"2024-02-24T12:12:07.953685\",\"2024-02-24T12:11:30.404868\",\"2024-02-24T12:12:20.787953\",\"2024-02-24T12:13:03.251067\",\"2024-02-24T12:14:00.315966\",\"2024-02-24T12:15:57.742809\",\"2024-02-24T12:15:51.375205\",\"2024-02-24T12:16:48.077984\",\"2024-02-24T12:16:05.414948\",\"2024-02-24T12:16:10.063767\",\"2024-02-24T12:18:37.013656\",\"2024-02-24T12:16:50.562227\",\"2024-02-24T12:17:43.538839\",\"2024-02-24T12:17:46.565772\",\"2024-02-24T12:17:32.384499\",\"2024-02-24T12:17:57.411402\",\"2024-02-24T12:18:24.873387\",\"2024-02-24T12:20:29.535787\",\"2024-02-24T12:18:58.946931\",\"2024-02-24T12:18:43.040586\",\"2024-02-24T12:18:44.138968\",\"2024-02-24T12:19:02.759617\",\"2024-02-24T12:19:50.300282\",\"2024-02-24T12:20:56.480996\",\"2024-02-24T12:22:32.634068\",\"2024-02-24T12:20:57.258371\",\"2024-02-24T12:23:06.043669\",\"2024-02-24T12:21:28.599762\",\"2024-02-24T12:25:45.665522\",\"2024-02-24T12:26:11.579399\",\"2024-02-24T12:25:45.315353\",\"2024-02-24T12:23:36.704946\",\"2024-02-24T12:32:31.056102\",\"2024-02-24T12:25:48.346544\",\"2024-02-24T12:23:58.493167\",\"2024-02-24T12:24:14.311280\",\"2024-02-24T12:25:17.072555\",\"2024-02-24T12:29:55.712878\",\"2024-02-24T12:25:43.128700\",\"2024-02-24T12:25:55.350001\",\"2024-02-24T12:25:56.884989\",\"2024-02-24T12:29:43.622247\",\"2024-02-24T12:29:40.271086\",\"2024-02-24T12:28:37.970725\",\"2024-02-24T12:29:29.557809\",\"2024-02-24T12:27:39.102299\",\"2024-02-24T12:33:27.332350\",\"2024-02-24T12:29:40.249312\",\"2024-02-24T12:31:06.577858\",\"2024-02-24T12:30:48.694552\",\"2024-02-24T12:32:51.872692\",\"2024-02-24T12:32:48.387488\",\"2024-02-24T12:36:35.793169\",\"2024-02-24T12:38:08.298525\",\"2024-02-24T12:32:42.231479\",\"2024-02-24T12:35:49.684321\",\"2024-02-24T12:35:25.061783\",\"2024-02-24T12:33:50.741646\",\"2024-02-24T12:34:03.395167\",\"2024-02-24T12:35:34.220971\",\"2024-02-24T12:37:52.631134\",\"2024-02-24T12:36:07.889637\",\"2024-02-24T12:36:18.675502\",\"2024-02-24T12:38:09.032242\",\"2024-02-24T12:40:47.995003\",\"2024-02-24T12:38:20.145047\",\"2024-02-24T12:38:12.932465\",\"2024-02-24T12:39:19.370758\",\"2024-02-24T12:39:16.445906\",\"2024-02-24T12:41:43.241577\",\"2024-02-24T12:39:52.036866\",\"2024-02-24T12:39:27.265782\",\"2024-02-24T12:40:05.783317\",\"2024-02-24T12:40:55.656456\",\"2024-02-24T12:41:22.174490\",\"2024-02-24T12:43:10.636351\",\"2024-02-24T12:42:05.100421\",\"2024-02-24T12:43:31.910750\",\"2024-02-24T12:45:42.774369\",\"2024-02-24T12:43:17.702244\",\"2024-02-24T12:42:28.773380\",\"2024-02-24T12:42:36.570791\",\"2024-02-24T12:42:33.868911\",\"2024-02-24T12:42:41.525645\",\"2024-02-24T12:44:23.548539\",\"2024-02-24T12:45:59.277416\",\"2024-02-24T12:46:28.980271\",\"2024-02-24T12:47:25.740066\",\"2024-02-24T12:46:40.008259\",\"2024-02-24T12:47:32.473205\",\"2024-02-24T12:48:56.777477\",\"2024-02-24T12:47:57.653766\",\"2024-02-24T12:50:52.101136\",\"2024-02-24T12:50:04.989251\",\"2024-02-24T12:50:08.058305\",\"2024-02-24T12:52:33.491879\",\"2024-02-24T12:50:25.883968\",\"2024-02-24T12:52:25.302630\",\"2024-02-24T12:50:52.618056\",\"2024-02-24T12:52:21.235457\",\"2024-02-24T12:53:11.398774\",\"2024-02-24T12:54:30.862510\",\"2024-02-24T12:53:05.010973\",\"2024-02-24T12:53:17.937740\",\"2024-02-24T12:55:49.094915\",\"2024-02-24T12:54:23.729828\",\"2024-02-24T12:54:41.916545\",\"2024-02-24T12:55:38.868702\",\"2024-02-24T12:55:51.320819\",\"2024-02-24T12:58:19.520322\",\"2024-02-24T13:00:11.144358\",\"2024-02-24T12:58:12.753291\",\"2024-02-24T12:59:15.484697\",\"2024-02-24T13:01:26.596214\",\"2024-02-24T13:01:55.093394\",\"2024-02-24T12:59:05.957747\",\"2024-02-24T12:59:21.710383\",\"2024-02-24T13:00:01.700795\",\"2024-02-24T12:59:22.690494\",\"2024-02-24T12:59:33.278147\",\"2024-02-24T13:00:06.226552\",\"2024-02-24T12:59:58.974870\",\"2024-02-24T13:02:15.042390\",\"2024-02-24T13:00:33.977501\",\"2024-02-24T13:00:49.408480\",\"2024-02-24T13:04:45.978078\",\"2024-02-24T13:01:29.800826\",\"2024-02-24T13:01:47.067095\",\"2024-02-24T13:06:53.900098\",\"2024-02-24T13:02:21.936115\",\"2024-02-24T13:03:37.102610\",\"2024-02-24T13:02:51.653499\",\"2024-02-24T13:03:00.026498\",\"2024-02-24T13:04:26.527480\",\"2024-02-24T13:04:15.353461\",\"2024-02-24T13:06:53.818897\",\"2024-02-24T13:04:49.285841\",\"2024-02-24T13:04:48.301954\",\"2024-02-24T13:05:27.521141\",\"2024-02-24T13:09:12.412431\",\"2024-02-24T13:06:39.862620\",\"2024-02-24T13:06:49.316513\",\"2024-02-24T13:11:30.366732\",\"2024-02-24T13:08:36.368664\",\"2024-02-24T13:08:27.024871\",\"2024-02-24T13:08:53.189290\",\"2024-02-24T13:08:58.172579\",\"2024-02-24T13:10:46.499105\",\"2024-02-24T13:09:12.422378\",\"2024-02-24T13:09:59.071219\",\"2024-02-24T13:10:38.817460\",\"2024-02-24T13:11:01.474019\",\"2024-02-24T13:10:27.159761\",\"2024-02-24T13:12:18.499156\",\"2024-02-24T13:13:36.410056\",\"2024-02-24T13:11:37.203860\",\"2024-02-24T13:11:40.236634\",\"2024-02-24T13:14:02.181434\",\"2024-02-24T13:12:24.387178\",\"2024-02-24T13:13:29.760013\",\"2024-02-24T13:14:02.998577\",\"2024-02-24T13:16:13.375088\",\"2024-02-24T13:14:38.093310\",\"2024-02-24T13:18:02.501497\",\"2024-02-24T13:16:03.740903\",\"2024-02-24T13:15:48.993100\",\"2024-02-24T13:16:19.337307\",\"2024-02-24T13:18:04.740381\",\"2024-02-24T13:18:54.060667\",\"2024-02-24T13:17:55.655503\",\"2024-02-24T13:18:13.548188\",\"2024-02-24T13:21:04.790248\",\"2024-02-24T13:20:56.345803\",\"2024-02-24T13:19:53.291147\",\"2024-02-24T13:20:45.159949\",\"2024-02-24T13:20:24.732246\",\"2024-02-24T13:20:23.387527\",\"2024-02-24T13:20:32.934477\",\"2024-02-24T13:20:56.345803\",\"2024-02-24T13:23:22.196834\",\"2024-02-24T13:21:35.296965\",\"2024-02-24T13:23:50.636293\",\"2024-02-24T13:22:26.143626\",\"2024-02-24T13:22:26.411146\",\"2024-02-24T13:25:18.295175\",\"2024-02-24T13:24:28.263405\",\"2024-02-24T13:26:35.232608\",\"2024-02-24T13:26:34.329243\",\"2024-02-24T13:24:58.774576\",\"2024-02-24T13:25:01.367889\",\"2024-02-24T13:29:07.547152\",\"2024-02-24T13:26:38.667066\",\"2024-02-24T13:26:44.373683\",\"2024-02-24T13:26:44.058754\",\"2024-02-24T13:26:55.603857\",\"2024-02-24T13:28:22.887964\",\"2024-02-24T13:30:29.527749\",\"2024-02-24T13:28:33.802385\",\"2024-02-24T13:28:41.659691\",\"2024-02-24T13:28:43.358120\",\"2024-02-24T13:29:20.515580\",\"2024-02-24T13:29:19.214339\",\"2024-02-24T13:30:39.080782\",\"2024-02-24T13:31:49.406402\",\"2024-02-24T13:32:39.523978\",\"2024-02-24T13:33:01.688070\",\"2024-02-24T13:32:58.013798\",\"2024-02-24T13:34:15.998779\",\"2024-02-24T13:33:48.855165\",\"2024-02-24T13:33:20.608888\",\"2024-02-24T13:33:25.347770\",\"2024-02-24T13:33:59.839667\",\"2024-02-24T13:34:12.134953\",\"2024-02-24T13:34:25.149172\",\"2024-02-24T13:35:37.839197\",\"2024-02-24T13:36:09.023918\",\"2024-02-24T13:36:01.352441\",\"2024-02-24T13:37:57.338987\",\"2024-02-24T13:36:08.020287\",\"2024-02-24T13:38:31.674774\",\"2024-02-24T13:42:06.977323\",\"2024-02-24T13:36:47.808858\",\"2024-02-24T13:36:49.583926\",\"2024-02-24T13:38:02.131670\",\"2024-02-24T13:41:07.990136\",\"2024-02-24T13:37:20.037259\",\"2024-02-24T13:39:23.039266\",\"2024-02-24T13:38:00.624248\",\"2024-02-24T13:37:46.932974\",\"2024-02-24T13:38:01.678143\",\"2024-02-24T13:39:03.991456\",\"2024-02-24T13:41:17.949727\",\"2024-02-24T13:42:30.570202\",\"2024-02-24T13:42:41.918549\",\"2024-02-24T13:42:14.516714\",\"2024-02-24T13:42:17.033890\",\"2024-02-24T13:47:35.498351\",\"2024-02-24T13:43:18.550163\",\"2024-02-24T13:43:28.143202\",\"2024-02-24T13:46:55.362283\",\"2024-02-24T13:42:59.527799\",\"2024-02-24T13:50:31.590030\",\"2024-02-24T13:47:22.316730\",\"2024-02-24T13:43:52.497475\",\"2024-02-24T13:45:13.083259\",\"2024-02-24T13:43:59.630364\",\"2024-02-24T13:46:02.044630\",\"2024-02-24T13:46:58.526841\",\"2024-02-24T13:45:58.979558\",\"2024-02-24T13:48:12.417596\",\"2024-02-24T13:50:06.758654\",\"2024-02-24T13:51:50.328881\",\"2024-02-24T13:46:24.462057\",\"2024-02-24T13:48:10.795692\",\"2024-02-24T13:49:47.923309\",\"2024-02-24T13:46:54.352833\",\"2024-02-24T13:52:32.423907\",\"2024-02-24T13:49:35.447959\",\"2024-02-24T13:49:38.275024\",\"2024-02-24T13:51:22.867851\",\"2024-02-24T13:51:08.374974\",\"2024-02-24T13:53:16.500381\",\"2024-02-24T13:52:36.069926\",\"2024-02-24T13:55:03.781337\",\"2024-02-24T13:51:31.128896\",\"2024-02-24T13:53:36.057068\",\"2024-02-24T13:50:45.562041\",\"2024-02-24T13:56:34.085782\",\"2024-02-24T13:54:12.439086\",\"2024-02-24T13:52:57.727739\",\"2024-02-24T13:57:48.739276\",\"2024-02-24T13:53:28.455468\",\"2024-02-24T13:57:25.263060\",\"2024-02-24T13:53:59.970218\",\"2024-02-24T13:54:48.112360\",\"2024-02-24T13:55:23.919466\",\"2024-02-24T13:56:18.451366\",\"2024-02-24T13:56:04.837499\",\"2024-02-24T13:56:56.980983\",\"2024-02-24T13:58:55.531821\",\"2024-02-24T14:02:36.628402\",\"2024-02-24T13:57:31.506703\",\"2024-02-24T13:57:27.294528\",\"2024-02-24T14:00:13.173135\",\"2024-02-24T13:59:53.378533\",\"2024-02-24T14:00:09.402938\",\"2024-02-24T13:59:08.823707\",\"2024-02-24T14:02:38.388341\",\"2024-02-24T14:00:39.702165\",\"2024-02-24T14:02:19.031003\",\"2024-02-24T14:02:33.402341\",\"2024-02-24T14:02:20.891976\",\"2024-02-24T14:02:00.858618\",\"2024-02-24T14:00:24.693351\",\"2024-02-24T14:02:34.314399\",\"2024-02-24T14:04:45.109418\",\"2024-02-24T14:04:33.162589\",\"2024-02-24T14:04:16.037711\",\"2024-02-24T14:02:51.369009\",\"2024-02-24T14:03:52.817216\",\"2024-02-24T14:08:38.440772\",\"2024-02-24T14:06:46.059152\",\"2024-02-24T14:06:03.076775\",\"2024-02-24T14:03:05.745722\",\"2024-02-24T14:04:58.580859\",\"2024-02-24T14:04:13.179830\",\"2024-02-24T14:05:54.805960\",\"2024-02-24T14:08:33.876818\",\"2024-02-24T14:05:18.533982\",\"2024-02-24T14:04:47.783816\",\"2024-02-24T14:06:26.311537\",\"2024-02-24T14:06:46.031697\",\"2024-02-24T14:06:49.726409\",\"2024-02-24T14:09:25.880010\",\"2024-02-24T14:07:15.346731\",\"2024-02-24T14:08:18.309142\",\"2024-02-24T14:07:29.736216\",\"2024-02-24T14:11:39.704417\",\"2024-02-24T14:08:52.762811\",\"2024-02-24T14:08:28.508420\",\"2024-02-24T14:12:04.675891\",\"2024-02-24T14:11:22.832049\",\"2024-02-24T14:10:18.483310\",\"2024-02-24T14:10:37.429728\",\"2024-02-24T14:14:26.750020\",\"2024-02-24T14:16:39.415371\",\"2024-02-24T14:10:26.269919\",\"2024-02-24T14:10:36.053105\",\"2024-02-24T14:11:01.231092\",\"2024-02-24T14:12:17.031931\",\"2024-02-24T14:11:43.862931\",\"2024-02-24T14:12:20.765299\",\"2024-02-24T14:13:09.331818\",\"2024-02-24T14:13:20.083878\",\"2024-02-24T14:14:24.642606\",\"2024-02-24T14:13:34.486393\",\"2024-02-24T14:14:07.485667\",\"2024-02-24T14:14:12.656966\",\"2024-02-24T14:15:13.350802\",\"2024-02-24T14:15:13.631229\",\"2024-02-24T14:16:31.317108\",\"2024-02-24T14:18:29.646243\",\"2024-02-24T14:18:00.266201\",\"2024-02-24T14:17:17.866354\",\"2024-02-24T14:17:18.326757\",\"2024-02-24T14:17:36.661201\",\"2024-02-24T14:17:50.839460\",\"2024-02-24T14:17:46.518156\",\"2024-02-24T14:22:21.607052\",\"2024-02-24T14:18:39.618360\",\"2024-02-24T14:19:55.150727\",\"2024-02-24T14:19:22.723120\",\"2024-02-24T14:20:34.723592\",\"2024-02-24T14:22:44.699981\",\"2024-02-24T14:19:50.777140\",\"2024-02-24T14:20:16.348196\",\"2024-02-24T14:21:06.630402\",\"2024-02-24T14:23:29.239973\",\"2024-02-24T14:25:17.506581\",\"2024-02-24T14:25:22.875913\",\"2024-02-24T14:23:07.388605\",\"2024-02-24T14:22:32.654552\",\"2024-02-24T14:23:53.597322\",\"2024-02-24T14:23:22.076343\",\"2024-02-24T14:24:12.084810\",\"2024-02-24T14:23:39.985327\",\"2024-02-24T14:24:38.950096\",\"2024-02-24T14:24:12.084810\",\"2024-02-24T14:25:09.557226\",\"2024-02-24T14:28:13.879472\",\"2024-02-24T14:28:12.873550\",\"2024-02-24T14:29:13.409297\",\"2024-02-24T14:27:44.399212\",\"2024-02-24T14:27:06.262881\",\"2024-02-24T14:27:21.896878\",\"2024-02-24T14:29:54.618572\",\"2024-02-24T14:28:52.475600\",\"2024-02-24T14:32:15.026758\",\"2024-02-24T14:27:40.649647\",\"2024-02-24T14:28:31.096679\",\"2024-02-24T14:29:31.813482\",\"2024-02-24T14:29:40.360060\",\"2024-02-24T14:31:55.958773\",\"2024-02-24T14:31:18.901663\",\"2024-02-24T14:30:35.850306\",\"2024-02-24T14:35:19.867195\",\"2024-02-24T14:34:54.853903\",\"2024-02-24T14:32:06.830360\",\"2024-02-24T14:32:36.237411\",\"2024-02-24T14:32:18.061827\",\"2024-02-24T14:33:09.081867\",\"2024-02-24T14:33:11.293325\",\"2024-02-24T14:34:42.602109\",\"2024-02-24T14:33:48.165093\",\"2024-02-24T14:37:17.999477\",\"2024-02-24T14:33:41.177179\",\"2024-02-24T14:36:50.056439\",\"2024-02-24T14:34:51.774112\",\"2024-02-24T14:38:57.497442\",\"2024-02-24T14:35:41.447640\",\"2024-02-24T14:35:45.357950\",\"2024-02-24T14:38:21.794717\",\"2024-02-24T14:41:12.758545\",\"2024-02-24T14:37:43.279154\",\"2024-02-24T14:42:52.898809\",\"2024-02-24T14:37:48.580950\",\"2024-02-24T14:38:06.267872\",\"2024-02-24T14:38:21.534503\",\"2024-02-24T14:38:28.122175\",\"2024-02-24T14:39:19.354853\",\"2024-02-24T14:42:47.182639\",\"2024-02-24T14:43:52.035429\",\"2024-02-24T14:39:31.845181\",\"2024-02-24T14:40:58.121531\",\"2024-02-24T14:41:05.107370\",\"2024-02-24T14:42:59.624114\",\"2024-02-24T14:42:42.066160\",\"2024-02-24T14:43:40.323173\",\"2024-02-24T14:45:25.020935\",\"2024-02-24T14:44:32.533365\",\"2024-02-24T14:47:24.784878\",\"2024-02-24T14:44:43.630577\",\"2024-02-24T14:47:15.305492\",\"2024-02-24T14:45:13.526840\",\"2024-02-24T14:45:43.406415\",\"2024-02-24T14:46:09.235977\",\"2024-02-24T14:48:22.070755\",\"2024-02-24T14:48:52.142305\",\"2024-02-24T14:47:22.528788\",\"2024-02-24T14:50:50.814490\",\"2024-02-24T14:48:00.949308\",\"2024-02-24T14:51:01.299873\",\"2024-02-24T14:47:38.608982\",\"2024-02-24T14:52:45.169118\",\"2024-02-24T14:49:00.286674\",\"2024-02-24T14:49:41.702563\",\"2024-02-24T14:51:41.020894\",\"2024-02-24T14:50:58.609383\",\"2024-02-24T14:51:46.250443\",\"2024-02-24T14:52:25.445355\",\"2024-02-24T14:53:56.400023\",\"2024-02-24T14:54:27.252444\",\"2024-02-24T14:52:29.485652\",\"2024-02-24T14:56:06.448864\",\"2024-02-24T14:55:48.235710\",\"2024-02-24T14:54:30.548778\",\"2024-02-24T14:56:24.162512\",\"2024-02-24T14:57:08.381220\",\"2024-02-24T14:55:01.093409\",\"2024-02-24T14:59:49.460100\",\"2024-02-24T14:55:02.215319\",\"2024-02-24T14:55:58.311541\",\"2024-02-24T14:57:29.923120\",\"2024-02-24T14:57:03.121099\",\"2024-02-24T14:56:57.953559\",\"2024-02-24T14:58:32.194539\",\"2024-02-24T14:59:24.977155\",\"2024-02-24T14:57:48.154318\",\"2024-02-24T15:00:22.593681\",\"2024-02-24T15:03:11.678210\",\"2024-02-24T14:59:52.714615\",\"2024-02-24T15:01:46.675162\",\"2024-02-24T15:01:34.876512\",\"2024-02-24T15:02:27.834636\",\"2024-02-24T15:02:43.238124\",\"2024-02-24T15:03:07.169108\",\"2024-02-24T15:02:02.908146\",\"2024-02-24T15:03:30.431792\",\"2024-02-24T15:02:58.349354\",\"2024-02-24T15:03:04.879411\",\"2024-02-24T15:04:55.177310\",\"2024-02-24T15:03:17.606178\",\"2024-02-24T15:02:01.163393\",\"2024-02-24T15:02:46.685495\",\"2024-02-24T15:04:02.724364\",\"2024-02-24T15:04:54.057663\",\"2024-02-24T15:05:18.909942\",\"2024-02-24T15:06:42.405709\",\"2024-02-24T15:05:32.462496\",\"2024-02-24T15:05:33.159194\",\"2024-02-24T15:07:11.797057\",\"2024-02-24T15:06:44.035304\",\"2024-02-24T15:08:31.839480\",\"2024-02-24T15:07:06.690784\",\"2024-02-24T15:07:08.483998\",\"2024-02-24T15:08:42.752629\",\"2024-02-24T15:09:01.645277\",\"2024-02-24T15:09:20.683032\",\"2024-02-24T15:09:34.202835\",\"2024-02-24T15:09:34.689114\",\"2024-02-24T15:09:48.367887\",\"2024-02-24T15:09:54.154101\",\"2024-02-24T15:11:44.347767\",\"2024-02-24T15:12:24.768896\",\"2024-02-24T15:11:41.552337\",\"2024-02-24T15:11:32.666222\",\"2024-02-24T15:12:16.160898\",\"2024-02-24T15:15:04.105783\",\"2024-02-24T15:12:01.648589\",\"2024-02-24T15:13:08.983340\",\"2024-02-24T15:15:16.462110\",\"2024-02-24T15:14:23.854554\",\"2024-02-24T15:14:17.914170\",\"2024-02-24T15:14:10.633496\",\"2024-02-24T15:18:01.416101\",\"2024-02-24T15:16:02.780447\",\"2024-02-24T15:17:03.174825\",\"2024-02-24T15:16:57.144374\",\"2024-02-24T15:19:28.106981\",\"2024-02-24T15:17:38.733716\",\"2024-02-24T15:18:12.760428\",\"2024-02-24T15:20:43.878812\",\"2024-02-24T15:18:49.267611\",\"2024-02-24T15:21:48.269847\",\"2024-02-24T15:20:53.570570\",\"2024-02-24T15:21:09.186872\",\"2024-02-24T15:21:16.541973\",\"2024-02-24T15:21:17.215169\",\"2024-02-24T15:21:34.592248\",\"2024-02-24T15:21:34.757088\",\"2024-02-24T15:21:51.544999\",\"2024-02-24T15:23:45.873459\",\"2024-02-24T15:23:16.604510\",\"2024-02-24T15:24:21.926014\",\"2024-02-24T15:25:08.557287\",\"2024-02-24T15:24:14.556777\",\"2024-02-24T15:25:55.877181\",\"2024-02-24T15:27:16.385603\",\"2024-02-24T15:25:00.196702\",\"2024-02-24T15:24:57.756165\",\"2024-02-24T15:25:04.925176\",\"2024-02-24T15:25:08.823199\",\"2024-02-24T15:25:15.435421\",\"2024-02-24T15:25:57.613998\",\"2024-02-24T15:26:20.565344\",\"2024-02-24T15:26:42.652604\",\"2024-02-24T15:26:29.134049\",\"2024-02-24T15:26:54.397938\",\"2024-02-24T15:26:35.296239\",\"2024-02-24T15:28:57.252950\",\"2024-02-24T15:27:16.486617\",\"2024-02-24T15:27:24.479635\",\"2024-02-24T15:27:58.202668\",\"2024-02-24T15:28:26.787440\",\"2024-02-24T15:29:35.072273\",\"2024-02-24T15:29:40.604561\",\"2024-02-24T15:30:38.090635\",\"2024-02-24T15:30:39.606756\"],\"hovertemplate\":\"Start=%{base}\\u003cbr\\u003eFinish=%{x}\\u003cbr\\u003eUnit=%{y}\\u003cbr\\u003eTaskID=%{marker.color}\\u003cextra\\u003e\\u003c\\u002fextra\\u003e\",\"legendgroup\":\"\",\"marker\":{\"color\":[781,313,690,94,105,625,414,481,470,942,880,147,943,323,146,664,576,349,698,29,658,163,307,915,745,226,534,564,248,844,350,654,806,714,657,277,537,924,130,68,169,111,809,12,387,71,905,415,620,835,17,236,848,867,123,122,346,96,629,647,604,972,886,696,808,824,180,305,18,301,156,650,373,337,245,934,935,800,779,911,314,944,250,738,450,408,687,395,396,175,566,878,502,13,207,165,597,580,440,474,849,993,619,887,765,282,991,5,925,401,598,732,421,517,525,501,338,500,328,124,161,810,423,529,66,508,511,412,707,767,453,341,951,700,523,221,466,53,874,260,513,153,309,726,567,872,890,162,613,288,41,699,319,506,971,503,418,278,28,938,697,129,709,519,392,181,298,89,903,438,769,435,223,840,134,670,789,750,249,411,441,788,281,331,79,719,339,569,233,648,143,296,82,464,460,377,240,877,270,469,61,989,256,300,561,902,736,52,570,498,725,217,127,931,427,557,980,69,32,754,30,434,92,941,711,317,857,790,354,344,167,99,560,663,681,995,906,274,422,643,160,177,784,188,202,600,158,693,505,571,574,652,455,940,64,588,820,873,828,465,893,718,155,108,268,458,739,958,766,262,950,695,653,326,632,199,407,509,634,644,442,930,493,31,680,77,267,572,78,649,482,289,724,518,15,759,986,939,449,402,811,573,834,417,860,200,144,348,756,51,948,472,933,293,485,381,978,910,923,545,231,904,80,689,384,95,692,139,389,778,548,999,216,310,815,192,813,480,992,489,187,660,259,477,676,369,593,98,215,107,624,117,359,869,963,235,672,149,870,321,109,218,227,364,334,865,85,607,118,33,749,504,3,229,287,205,451,0,370,959,362,257,987,636,996,251,456,705,730,729,721,126,965,225,246,253,645,394,312,547,39,533,702,733,332,688,49,135,128,295,115,976,425,565,494,37,179,382,91,404,280,283,990,351,937,638,641,261,642,1,433,822,983,656,787,242,119,742,715,589,368,232,601,966,568,400,773,385,826,845,631,783,956,463,546,182,76,927,712,151,899,467,578,549,16,817,70,803,343,520,592,59,543,35,490,758,839,426,627,791,379,86,479,704,142,720,239,483,755,65,405,102,212,801,487,814,626,621,26,247,694,237,982,635,861,184,795,847,792,72,868,863,833,21,138,416,486,949,266,8,448,977,823,735,612,885,468,358,793,928,798,994,846,908,356,683,691,104,929,988,679,67,360,34,210,431,374,318,955,56,584,582,159,734,864,762,271,633,201,514,11,83,462,659,459,879,603,471,371,203,843,195,383,898,121,731,975,914,141,837,286,220,606,717,802,667,269,185,531,882,563,827,960,772,152,42,552,36,804,148,782,897,272,58,4,895,365,532,114,499,347,969,602,174,919,684,330,10,302,496,586,926,614,829,553,213,968,740,22,768,361,909,172,399,243,133,542,512,881,110,655,54,777,551,774,530,985,168,90,252,761,554,294,391,363,558,6,662,639,386,228,342,273,132,315,708,610,244,291,651,535,862,838,581,478,666,101,526,640,297,851,20,579,444,841,550,760,770,393,44,120,171,594,590,818,536,794,204,24,299,164,375,964,522,946,953,628,445,292,424,981,137,324,812,380,357,74,973,591,727,473,716,723,495,355,954,575,922,14,497,577,112,556,333,84,637,410,461,43,854,970,916,615,23,853,46,932,747,674,752,234,409,75,737,88,198,842,97,521,701,276,947,678,821,390,858,710,538,484,961,73,875,894,917,173,366,311,457,616,883,888,55,776,585,279,140,190,447,62,116,378,263,682,183,372,189,661,488,376,967,852,40,722,780,475,753,491,353,605,306,510,706,345,265,876,45,797,630,398,741,957,912,595,892,884,743,25,27,191,757,515,832,617,856,214,50,673,87,831,609,224,889,918,771,419,997,100,9,241,304,48,420,476,352,596,285,136,219,540,230,197,60,196,406,901,686,452,516,796,599,113,746,979,921,952,559,284,254,805,264,751,866,336,329,194,541,763,528,93,819,290,871,397,430,825,157,859,611,320,211,81,428,775,728,618,388,125,308,713,303,936,855,830,744,176,539,443,432,222,764,206,154,587,913,7,945,816,671,209,622,335,665,193,429,524,2,454,208,608,492,703,19,685,178,63,544,998,562,836,258,891,275,255,446,669,555,799,527,38,238,150,322,962,106,646,900,748,785,327,583,145,413,786,103,974,437,623,896,131,170,186,340,436,807,675,668,367,403,47,677,920,507,57,850,439,325,316,984,166,907],\"coloraxis\":\"coloraxis\",\"pattern\":{\"shape\":\"\"}},\"name\":\"\",\"offsetgroup\":\"\",\"orientation\":\"h\",\"showlegend\":false,\"textposition\":\"auto\",\"x\":[173786.139,88834.72,177374.735,127054.79,128526.912,233474.421,113263.136,145854.891,53671.108,108140.051,116883.329,202988.822,53283.203,39005.624,196709.889,337448.454,82822.54,357740.913,235975.87,273434.042,199977.885,257167.563,503738.886,174442.484,54301.693,245359.837,56500.858,136644.925,64196.958,101982.914,154911.53,132970.837,188084.142,89361.45,154537.011,52897.944,164459.14,269834.61,89287.811,366443.162,201772.077,293675.909,128783.707,102025.328,123251.576,348040.863,109432.936,170798.414,190313.262,81874.602,72663.323,193433.644,179886.065,230664.156,154675.081,193932.885,45116.163,149841.164,72839.46,110684.827,87195.404,182722.79,124303.873,222497.229,196746.465,285218.373,317750.689,155836.78,97493.325,141573.672,121186.173,290165.359,111081.614,107713.57,201434.442,217505.57,137362.475,55616.789,100347.481,371026.193,315830.476,202415.382,171726.517,200095.854,45288.846,143405.354,277268.142,147044.702,97203.422,36827.58,55097.788,109486.269,158533.828,229225.921,282310.245,92230.14,116613.43,197811.315,189256.317,98055.682,323157.519,163722.2,197466.224,136561.92,141386.736,53828.603,177964.79,231972.989,343159.651,322065.755,319249.161,224785.142,156799.826,132462.757,189732.486,281340.525,132820.255,195126.915,253839.016,175772.919,293536.624,109762.579,274691.82,281049.385,179982.368,152124.351,384610.759,258750.254,91108.434,273194.442,208056.564,290555.307,205193.71,169177.092,134735.014,277176.244,268909.303,574393.254,399137.242,151626.151,195297.34,273966.812,47153.571,203042.513,198652.224,160955.064,424621.484,53389.967,304621.605,69159.642,374951.174,150483.031,107327.741,241571.699,285153.672,101683.63,244256.845,118997.493,203995.264,266241.787,95150.288,250937.47,207904.765,581336.773,312413.795,284480.244,218595.118,243777.89,314580.12,295816.547,127636.668,400665.261,131033.232,272120.394,358339.94,354974.973,223487.339,310274.294,258301.145,210115.619,244327.856,215859.394,211212.009,271615.436,156954.349,156773.052,164714.456,260344.959,158236.564,97838.856,91402.01,213955.889,229211.328,245715.807,181630.647,407465.337,113354.515,104994.496,211529.817,191240.424,150011.282,92340.16,286219.837,64990.497,238888.641,317413.382,305103.436,361149.709,254163.424,310859.099,89886.489,212140.661,276248.142,43094.332,296114.36,125904.462,227940.856,100594.606,158378.429,176789.438,64803.308,202453.768,156701.787,117530.336,36471.152,125466.907,83393.518,260012.476,133408.369,94810.513,128962.477,109529.916,100084.988,37456.637,274165.816,133923.888,82307.463,244213.066,97351.643,247413.381,229036.265,68861.456,115395.289,83648.68,239940.452,111789.503,145834.132,98138.062,221369.637,185666.661,149862.45,90436.578,225790.083,250935.081,66922.921,257933.808,378165.605,223448.577,277004.302,115690.684,154590.496,184087.496,442710.548,413249.19,159139.575,402295.484,228258.732,342927.232,240301.522,55024.197,226241.667,158414.433,536193.705,240541.071,362800.041,260224.672,191938.687,218828.021,149843.975,225100.986,167784.662,167467.499,317918.606,230962.089,395007.682,155844.955,78683.667,291420.495,173391.339,150084.535,214612.807,257694.093,177193.722,418386.661,438754.465,279506.161,401431.819,275936.032,210223.526,237760.314,244651.993,346367.327,551563.09,55478.212,200268.156,141770.256,274941.336,137230.289,276980.14,74986.226,98436.603,126115.212,179077.83,129489.972,174130.026,195157.987,303423.118,103738.574,245955.099,248558.03,114372.814,372026.322,410040.763,252943.812,362353.44,141340.18,217079.644,94759.444,252415.441,182322.888,187841.423,203775.307,436046.504,385756.049,164352.822,239667.37,161006.777,420131.878,296945.845,191730.044,310357.95,366636.563,120528.151,143362.741,111315.523,257324.938,119795.001,179530.123,196618.039,287977.494,150760.668,153595.735,131238.314,375161.861,141650.55,230297.818,157829.052,134859.92,114308.474,215429.937,230619.462,248097.466,274945.198,388785.682,229597.796,231896.094,93514.749,236897.458,303229.795,197170.137,201595.442,243312.672,144970.403,198097.737,242093.709,153740.71,210589.138,289306.514,127918.678,138485.615,150788.69,85078.336,246022.465,209012.135,158223.281,127337.551,207652.545,320688.317,259501.547,219086.786,167121.863,205178.584,129105.626,91633.813,277716.134,278768.735,211506.272,229786.949,222398.173,279742.936,203663.474,108831.627,208166.561,277917.682,125802.519,242906.181,141630.827,122069.39,197577.048,193138.225,171946.74,155036.827,131149.083,99270.504,132615.998,56029.567,307737.973,72254.59,99506.08,97828.654,218879.573,159514.896,150555.915,173213.494,382033.489,410485.637,175039.402,124732.833,79666.457,152125.639,175139.715,223693.477,49087.825,339350.708,96806.524,252343.609,102392.539,67821.698,178075.221,101550.822,202914.028,279121.547,99749.302,192943.143,105560.949,314099.941,246111.155,81138.42,162050.972,157559.915,321283.823,187678.562,211493.477,452354.749,123019.73,283314.705,121284.887,159270.847,305105.791,221457.803,98123.891,107347.635,269030.013,128384.704,126761.443,352239.164,332502.766,179098.67,149634.429,123098.281,299546.236,94215.501,39516.496,206000.347,226404.664,291865.548,192681.285,143234.884,159621.853,192187.989,250047.356,363555.421,238306.894,352852.863,337976.14,231924.542,668343.853,325938.032,200898.17,211619.472,305565.852,106234.959,412884.792,188250.445,188116.402,449918.912,355503.974,225772.131,280966.175,86328.546,84478.244,182047.094,223920.477,304243.646,252201.834,214943.052,68745.709,242352.545,319113.691,325704.26,256749.88,374811.938,339279.616,304005.608,114256.963,70338.516,142641.348,112763.357,146694.258,46412.559,170233.097,239532.792,288055.398,230436.462,150787.474,344351.803,47693.787,153691.829,123480.555,240562.455,194003.108,347913.894,53794.47,209569.073,339503.486,118662.552,144212.741,86462.65,67245.895,206361.07,197842.44,292829.425,216714.402,174964.29,296993.779,186409.523,255671.523,117370.631,273876.761,193566.072,278972.248,91752.516,155357.36,228657.812,38360.237,58686.136,365998.479,138459.811,93487.211,216615.995,250379.976,187075.892,201237.282,80524.856,179557.693,199381.864,298806.704,137812.641,72267.118,264826.685,48453.864,116522.679,121631.641,55035.277,278776.507,221375.96,130618.018,266434.353,127301.784,182218.746,276466.634,496881.345,299266.054,155867.642,208354.962,379971.625,406120.558,324680.259,443812.344,210658.672,205668.149,263997.625,199208.599,128856.066,283008.356,325611.886,244372.271,344194.602,280252.727,177967.627,132879.222,101165.415,164234.598,35729.841,182600.252,103682.278,266091.441,325090.662,43260.107,242558.947,204605.922,414972.233,120742.326,160685.579,354841.167,182288.751,286281.179,382095.647,169736.437,160419.568,296575.626,147732.024,199744.479,137406.586,89797.823,71651.093,349169.294,120929.286,95012.859,56019.863,70156.728,116098.341,212891.928,164596.315,98486.739,72356.564,311232.574,234624.559,152314.544,315077.159,105599.107,101510.283,234140.918,115135.319,156141.897,82824.884,244385.992,136192.818,129996.229,168984.594,405645.253,57769.187,291619.373,209006.697,189774.383,146592.377,317815.009,156151.127,51951.736,113025.139,253276.505,192606.02,49130.137,151825.967,88087.485,82783.008,173835.577,298966.218,189175.692,249638.336,112603.961,238895.428,328521.028,155230.408,122888.966,279786.879,374326.594,408390.682,455487.575,197218.305,230927.999,93090.14,254558.707,130193.475,264792.081,200126.081,97980.761,353761.802,254830.53,114533.096,367304.757,191396.371,60102.565,346861.336,354183.651,126482.083,318506.771,144831.693,130372.966,169396.468,219295.466,190450.255,145665.253,193452.456,306666.839,349174.526,228133.759,473759.527,241661.875,92927.015,199452.715,73202.075,255544.492,248762.679,96369.16,164957.939,205195.554,397116.067,162893.427,364302.559,283092.735,230751.413,287889.126,512403.15,293767.943,211536.485,128868.623,594614.516,230951.572,82457.029,176397.55,297285.395,128481.016,188195.462,101529.179,140229.206,160935.866,131489.038,256141.989,114774.248,161800.699,117006.708,252629.356,155841.829,186591.881,346596.143,144266.46,120949.734,292717.421,107039.064,100298.977,121988.744,218591.159,107817.666,319755.274,67434.108,234181.952,63238.084,282623.768,185827.599,199906.79,54415.158,111997.605,212451.613,209105.706,158795.881,268516.2,349176.525,163133.284,167045.603,267321.067,246098.269,274739.48,397434.152,246159.296,151902.09,242896.223,365284.61,352398.078,88725.651,153255.301,333807.529,159918.521,118747.788,119807.542,52573.088,370080.986,169006.585,183358.174,161154.524,77966.306,204772.15,46549.246,231960.809,328973.772,157284.373,363749.586,106061.919,259785.378,443039.07,175899.529,47148.134,192237.878,103907.282,198873.73,158175.932,435485.741,195761.961,147454.631,283633.577,176372.891,271742.659,448461.701,47273.256,298878.278,76873.753,189812.068,351828.155,185449.116,208564.837,201539.453,59529.825,186028.113,181617.461,204720.951,154097.179,155516.554,121340.201,152775.815,159827.145,162932.522,127884.505,166248.345,77190.487,322040.704,203700.446,120387.105,181927.522,242643.539,101334.733,163629.784,167364.597,92701.017,150321.629,127454.33,235114.061,234759.068,169159.768,357126.2,91232.606,235401.367,490587.789,124305.056,370738.648,252262.39,194842.377,271886.069,96046.151,85577.309,57820.35,253943.985,105752.517,364959.666,210493.359,248477.992,121502.583,248419.47,213574.944,181340.255,63307.404,110284.557,208415.943,206029.612,85605.4,225994.381,431918.515,362844.028,71783.283,156538.628,233026.813,59541.967,216437.954,220071.586,175100.15,81677.692,263212.102,361928.645,167783.089,247214.816,211939.395,194842.966,80137.77,147762.489,99196.42,312912.954,223011.236,163958.829,179374.342,379075.612,319453.416,122027.69,202218.11,56096.222,336564.971,256752.042,169593.516,147023.596,110399.142,366655.137,254753.828,271463.982,240118.847,192164.796,71674.192,102729.666,62597.156,23930.984,215236.601,132642.988,84745.518,64375.01,193162.16,224707.566,106882.355,42191.026,152224.447,178511.739,94853.176,56698.647,120346.92,76357.317,77073.007,80042.423,156647.728,232929.416,45380.954,159678.442,181595.138,159907.06,94191.868,283711.335,186648.996,138631.407,148237.216,212114.343,159336.887,162302.217,43494.676,287013.927,177310.318,104845.495,207640.476,327416.702,304252.427,389871.769,72105.456,226853.746,114833.379,69585.603,78121.129,257766.478,112408.371,119327.48,218047.202,41864.901,200287.44,360827.368,153520.481,281072.025,303350.175,294541.801,32552.742,83536.261,130003.722,103592.192,275326.936,127828.316,148095.827,223644.663,138686.67,243333.564,329180.606,90371.063,106461.619,162767.247,378139.183,126222.096,160011.849,128127.287,256739.205,204119.147,146157.483,183358.302,175842.023,129042.754,105801.158,52821.075,163515.216,215340.647,106337.441],\"xaxis\":\"x\",\"y\":[\"cloud_0\",\"edge_0\",\"edge_1\",\"myDevice\",\"edge_0\",\"volunteer_1\",\"cloud_0\",\"volunteer_2\",\"volunteer_7\",\"myDevice\",\"volunteer_9\",\"edge_0\",\"edge_1\",\"cloud_0\",\"cloud_0\",\"edge_1\",\"myDevice\",\"edge_0\",\"volunteer_1\",\"cloud_0\",\"myDevice\",\"volunteer_9\",\"volunteer_2\",\"volunteer_7\",\"volunteer_8\",\"volunteer_1\",\"volunteer_8\",\"myDevice\",\"edge_1\",\"volunteer_8\",\"edge_1\",\"volunteer_7\",\"volunteer_5\",\"volunteer_6\",\"cloud_0\",\"myDevice\",\"edge_0\",\"myDevice\",\"volunteer_9\",\"edge_1\",\"volunteer_7\",\"volunteer_1\",\"volunteer_8\",\"cloud_0\",\"edge_0\",\"volunteer_9\",\"cloud_0\",\"edge_0\",\"volunteer_2\",\"myDevice\",\"cloud_0\",\"volunteer_1\",\"cloud_0\",\"edge_0\",\"edge_1\",\"cloud_0\",\"myDevice\",\"volunteer_1\",\"volunteer_2\",\"edge_1\",\"myDevice\",\"volunteer_9\",\"edge_0\",\"edge_1\",\"cloud_0\",\"edge_0\",\"myDevice\",\"volunteer_1\",\"volunteer_7\",\"volunteer_9\",\"edge_1\",\"cloud_0\",\"volunteer_1\",\"volunteer_2\",\"edge_1\",\"volunteer_7\",\"volunteer_8\",\"volunteer_9\",\"edge_0\",\"edge_0\",\"myDevice\",\"volunteer_1\",\"volunteer_2\",\"cloud_0\",\"edge_1\",\"edge_1\",\"cloud_0\",\"volunteer_9\",\"volunteer_7\",\"volunteer_2\",\"volunteer_1\",\"volunteer_2\",\"edge_1\",\"volunteer_7\",\"edge_0\",\"myDevice\",\"volunteer_1\",\"volunteer_9\",\"edge_1\",\"myDevice\",\"volunteer_9\",\"volunteer_8\",\"volunteer_3\",\"myDevice\",\"cloud_0\",\"volunteer_6\",\"cloud_0\",\"volunteer_5\",\"edge_1\",\"edge_0\",\"volunteer_0\",\"myDevice\",\"myDevice\",\"volunteer_6\",\"volunteer_4\",\"volunteer_2\",\"volunteer_6\",\"volunteer_5\",\"volunteer_3\",\"volunteer_4\",\"cloud_0\",\"volunteer_8\",\"volunteer_1\",\"edge_0\",\"volunteer_7\",\"edge_1\",\"myDevice\",\"volunteer_5\",\"volunteer_0\",\"edge_1\",\"volunteer_4\",\"volunteer_2\",\"volunteer_7\",\"cloud_0\",\"volunteer_0\",\"edge_0\",\"volunteer_3\",\"volunteer_8\",\"volunteer_4\",\"volunteer_0\",\"volunteer_5\",\"cloud_0\",\"volunteer_7\",\"edge_1\",\"volunteer_2\",\"volunteer_7\",\"myDevice\",\"volunteer_3\",\"edge_0\",\"volunteer_1\",\"volunteer_0\",\"volunteer_5\",\"volunteer_3\",\"volunteer_7\",\"cloud_0\",\"volunteer_3\",\"edge_1\",\"volunteer_6\",\"volunteer_2\",\"volunteer_9\",\"volunteer_6\",\"volunteer_5\",\"volunteer_1\",\"volunteer_4\",\"volunteer_6\",\"edge_0\",\"volunteer_9\",\"volunteer_3\",\"edge_1\",\"cloud_0\",\"volunteer_8\",\"volunteer_2\",\"volunteer_7\",\"volunteer_1\",\"myDevice\",\"volunteer_5\",\"volunteer_8\",\"edge_0\",\"volunteer_9\",\"volunteer_6\",\"volunteer_0\",\"volunteer_8\",\"volunteer_1\",\"edge_1\",\"volunteer_2\",\"cloud_0\",\"volunteer_6\",\"myDevice\",\"edge_0\",\"volunteer_5\",\"volunteer_4\",\"volunteer_0\",\"volunteer_8\",\"volunteer_5\",\"cloud_0\",\"volunteer_1\",\"volunteer_4\",\"volunteer_2\",\"edge_1\",\"volunteer_2\",\"volunteer_4\",\"volunteer_2\",\"cloud_0\",\"myDevice\",\"myDevice\",\"volunteer_8\",\"volunteer_0\",\"edge_0\",\"edge_1\",\"volunteer_5\",\"volunteer_4\",\"edge_0\",\"volunteer_2\",\"volunteer_1\",\"volunteer_1\",\"myDevice\",\"volunteer_0\",\"volunteer_8\",\"cloud_0\",\"edge_1\",\"volunteer_5\",\"myDevice\",\"volunteer_5\",\"volunteer_8\",\"volunteer_2\",\"myDevice\",\"cloud_0\",\"volunteer_0\",\"volunteer_1\",\"volunteer_8\",\"edge_1\",\"cloud_0\",\"volunteer_5\",\"myDevice\",\"cloud_0\",\"edge_0\",\"volunteer_8\",\"edge_1\",\"volunteer_5\",\"volunteer_1\",\"myDevice\",\"volunteer_7\",\"volunteer_8\",\"volunteer_5\",\"edge_0\",\"volunteer_7\",\"volunteer_0\",\"volunteer_5\",\"cloud_0\",\"volunteer_8\",\"edge_1\",\"volunteer_7\",\"volunteer_1\",\"edge_0\",\"myDevice\",\"myDevice\",\"edge_1\",\"volunteer_5\",\"volunteer_7\",\"volunteer_0\",\"volunteer_8\",\"cloud_0\",\"volunteer_1\",\"volunteer_3\",\"volunteer_0\",\"volunteer_2\",\"edge_0\",\"volunteer_8\",\"volunteer_4\",\"volunteer_5\",\"cloud_0\",\"myDevice\",\"volunteer_7\",\"volunteer_5\",\"volunteer_0\",\"edge_1\",\"myDevice\",\"edge_0\",\"volunteer_4\",\"volunteer_2\",\"cloud_0\",\"volunteer_3\",\"volunteer_1\",\"volunteer_6\",\"volunteer_5\",\"volunteer_8\",\"volunteer_6\",\"myDevice\",\"volunteer_4\",\"edge_1\",\"edge_0\",\"cloud_0\",\"volunteer_3\",\"volunteer_2\",\"volunteer_6\",\"volunteer_8\",\"volunteer_0\",\"volunteer_4\",\"edge_1\",\"edge_0\",\"cloud_0\",\"volunteer_7\",\"volunteer_1\",\"volunteer_3\",\"volunteer_3\",\"myDevice\",\"volunteer_5\",\"volunteer_8\",\"edge_1\",\"volunteer_4\",\"myDevice\",\"volunteer_3\",\"volunteer_4\",\"volunteer_6\",\"volunteer_8\",\"edge_0\",\"cloud_0\",\"volunteer_2\",\"myDevice\",\"volunteer_7\",\"volunteer_3\",\"volunteer_5\",\"volunteer_2\",\"volunteer_6\",\"edge_1\",\"volunteer_8\",\"edge_0\",\"volunteer_4\",\"myDevice\",\"volunteer_4\",\"volunteer_7\",\"cloud_0\",\"volunteer_1\",\"volunteer_8\",\"edge_0\",\"volunteer_6\",\"volunteer_3\",\"volunteer_5\",\"cloud_0\",\"volunteer_4\",\"edge_1\",\"edge_0\",\"volunteer_7\",\"volunteer_2\",\"myDevice\",\"myDevice\",\"volunteer_3\",\"volunteer_7\",\"volunteer_6\",\"volunteer_2\",\"cloud_0\",\"volunteer_0\",\"volunteer_8\",\"volunteer_1\",\"volunteer_3\",\"volunteer_7\",\"edge_1\",\"volunteer_8\",\"volunteer_6\",\"myDevice\",\"edge_0\",\"volunteer_5\",\"volunteer_3\",\"volunteer_2\",\"cloud_0\",\"edge_1\",\"volunteer_8\",\"volunteer_7\",\"myDevice\",\"volunteer_4\",\"volunteer_8\",\"edge_0\",\"volunteer_1\",\"cloud_0\",\"volunteer_5\",\"edge_1\",\"volunteer_1\",\"edge_1\",\"myDevice\",\"edge_0\",\"volunteer_2\",\"volunteer_7\",\"cloud_0\",\"edge_0\",\"myDevice\",\"volunteer_1\",\"cloud_0\",\"volunteer_8\",\"volunteer_7\",\"volunteer_2\",\"edge_1\",\"volunteer_1\",\"volunteer_6\",\"myDevice\",\"edge_0\",\"edge_1\",\"volunteer_5\",\"myDevice\",\"volunteer_4\",\"volunteer_3\",\"cloud_0\",\"volunteer_2\",\"volunteer_7\",\"volunteer_1\",\"volunteer_9\",\"volunteer_8\",\"volunteer_2\",\"volunteer_6\",\"myDevice\",\"edge_0\",\"volunteer_9\",\"cloud_0\",\"volunteer_2\",\"volunteer_7\",\"edge_1\",\"volunteer_1\",\"cloud_0\",\"myDevice\",\"edge_0\",\"edge_1\",\"edge_0\",\"myDevice\",\"volunteer_1\",\"edge_1\",\"volunteer_9\",\"volunteer_2\",\"volunteer_7\",\"volunteer_6\",\"myDevice\",\"volunteer_1\",\"edge_0\",\"cloud_0\",\"edge_1\",\"edge_1\",\"myDevice\",\"volunteer_1\",\"volunteer_8\",\"volunteer_7\",\"edge_0\",\"volunteer_6\",\"cloud_0\",\"myDevice\",\"volunteer_7\",\"volunteer_9\",\"volunteer_2\",\"edge_0\",\"edge_1\",\"volunteer_7\",\"volunteer_1\",\"cloud_0\",\"volunteer_8\",\"volunteer_2\",\"myDevice\",\"volunteer_7\",\"volunteer_9\",\"volunteer_1\",\"volunteer_6\",\"cloud_0\",\"edge_1\",\"edge_0\",\"myDevice\",\"volunteer_2\",\"cloud_0\",\"volunteer_9\",\"myDevice\",\"volunteer_1\",\"volunteer_8\",\"volunteer_2\",\"volunteer_6\",\"edge_0\",\"volunteer_9\",\"volunteer_5\",\"volunteer_3\",\"volunteer_7\",\"myDevice\",\"edge_1\",\"edge_0\",\"volunteer_2\",\"cloud_0\",\"volunteer_5\",\"cloud_0\",\"volunteer_3\",\"edge_0\",\"myDevice\",\"volunteer_2\",\"edge_1\",\"volunteer_9\",\"volunteer_2\",\"volunteer_8\",\"cloud_0\",\"volunteer_5\",\"volunteer_6\",\"volunteer_4\",\"edge_0\",\"edge_1\",\"volunteer_8\",\"myDevice\",\"volunteer_0\",\"cloud_0\",\"volunteer_2\",\"volunteer_2\",\"volunteer_5\",\"edge_0\",\"edge_1\",\"edge_0\",\"cloud_0\",\"volunteer_3\",\"volunteer_7\",\"myDevice\",\"volunteer_5\",\"volunteer_3\",\"volunteer_9\",\"edge_1\",\"volunteer_8\",\"volunteer_0\",\"volunteer_2\",\"edge_0\",\"volunteer_3\",\"volunteer_0\",\"volunteer_2\",\"volunteer_5\",\"cloud_0\",\"volunteer_7\",\"volunteer_1\",\"volunteer_2\",\"myDevice\",\"volunteer_8\",\"edge_0\",\"volunteer_9\",\"edge_1\",\"cloud_0\",\"volunteer_1\",\"volunteer_8\",\"volunteer_2\",\"volunteer_5\",\"volunteer_6\",\"volunteer_9\",\"edge_0\",\"volunteer_2\",\"edge_0\",\"myDevice\",\"edge_1\",\"cloud_0\",\"volunteer_2\",\"edge_0\",\"myDevice\",\"volunteer_1\",\"cloud_0\",\"volunteer_9\",\"edge_1\",\"volunteer_2\",\"volunteer_7\",\"myDevice\",\"cloud_0\",\"volunteer_8\",\"volunteer_6\",\"edge_0\",\"volunteer_1\",\"volunteer_7\",\"edge_1\",\"myDevice\",\"cloud_0\",\"volunteer_8\",\"volunteer_2\",\"edge_1\",\"cloud_0\",\"edge_0\",\"volunteer_9\",\"volunteer_7\",\"myDevice\",\"volunteer_8\",\"volunteer_2\",\"volunteer_5\",\"volunteer_6\",\"edge_1\",\"volunteer_7\",\"volunteer_4\",\"cloud_0\",\"volunteer_2\",\"volunteer_9\",\"edge_0\",\"volunteer_5\",\"volunteer_2\",\"volunteer_6\",\"volunteer_4\",\"myDevice\",\"volunteer_7\",\"edge_1\",\"volunteer_9\",\"volunteer_8\",\"volunteer_6\",\"cloud_0\",\"volunteer_4\",\"volunteer_3\",\"edge_0\",\"volunteer_2\",\"volunteer_8\",\"volunteer_6\",\"volunteer_3\",\"myDevice\",\"volunteer_0\",\"volunteer_4\",\"volunteer_5\",\"volunteer_7\",\"volunteer_1\",\"edge_1\",\"cloud_0\",\"volunteer_7\",\"volunteer_4\",\"edge_1\",\"volunteer_9\",\"volunteer_1\",\"myDevice\",\"edge_0\",\"volunteer_2\",\"cloud_0\",\"myDevice\",\"volunteer_9\",\"volunteer_8\",\"edge_1\",\"edge_0\",\"volunteer_7\",\"volunteer_5\",\"cloud_0\",\"myDevice\",\"volunteer_6\",\"edge_1\",\"volunteer_1\",\"volunteer_7\",\"volunteer_2\",\"volunteer_3\",\"cloud_0\",\"volunteer_2\",\"edge_0\",\"myDevice\",\"volunteer_1\",\"cloud_0\",\"myDevice\",\"edge_0\",\"edge_1\",\"volunteer_9\",\"volunteer_7\",\"edge_0\",\"volunteer_2\",\"volunteer_9\",\"volunteer_7\",\"volunteer_8\",\"myDevice\",\"cloud_0\",\"volunteer_2\",\"volunteer_7\",\"volunteer_3\",\"volunteer_9\",\"volunteer_5\",\"myDevice\",\"edge_1\",\"cloud_0\",\"edge_0\",\"volunteer_2\",\"edge_1\",\"myDevice\",\"volunteer_8\",\"volunteer_3\",\"volunteer_2\",\"volunteer_9\",\"volunteer_3\",\"edge_0\",\"edge_1\",\"volunteer_9\",\"cloud_0\",\"volunteer_7\",\"edge_0\",\"cloud_0\",\"volunteer_1\",\"volunteer_2\",\"myDevice\",\"edge_1\",\"volunteer_5\",\"volunteer_1\",\"volunteer_7\",\"volunteer_4\",\"volunteer_3\",\"volunteer_2\",\"volunteer_9\",\"edge_0\",\"myDevice\",\"volunteer_3\",\"volunteer_4\",\"cloud_0\",\"volunteer_2\",\"volunteer_9\",\"edge_0\",\"volunteer_0\",\"volunteer_2\",\"edge_1\",\"volunteer_3\",\"volunteer_2\",\"volunteer_0\",\"myDevice\",\"volunteer_1\",\"volunteer_3\",\"myDevice\",\"edge_0\",\"cloud_0\",\"volunteer_0\",\"volunteer_4\",\"volunteer_1\",\"volunteer_8\",\"edge_0\",\"volunteer_9\",\"volunteer_3\",\"myDevice\",\"volunteer_9\",\"edge_1\",\"myDevice\",\"cloud_0\",\"volunteer_0\",\"volunteer_1\",\"volunteer_5\",\"edge_0\",\"myDevice\",\"volunteer_3\",\"cloud_0\",\"volunteer_5\",\"edge_1\",\"volunteer_4\",\"volunteer_8\",\"volunteer_9\",\"volunteer_2\",\"volunteer_0\",\"volunteer_8\",\"myDevice\",\"cloud_0\",\"volunteer_4\",\"volunteer_0\",\"volunteer_1\",\"volunteer_8\",\"volunteer_2\",\"volunteer_0\",\"edge_0\",\"volunteer_4\",\"edge_1\",\"volunteer_1\",\"volunteer_2\",\"volunteer_5\",\"volunteer_7\",\"volunteer_8\",\"cloud_0\",\"edge_0\",\"edge_1\",\"volunteer_3\",\"myDevice\",\"volunteer_9\",\"cloud_0\",\"edge_1\",\"volunteer_6\",\"volunteer_8\",\"volunteer_6\",\"myDevice\",\"cloud_0\",\"volunteer_9\",\"volunteer_3\",\"volunteer_7\",\"volunteer_1\",\"volunteer_5\",\"edge_0\",\"volunteer_6\",\"volunteer_7\",\"volunteer_3\",\"cloud_0\",\"volunteer_8\",\"volunteer_0\",\"edge_0\",\"edge_1\",\"volunteer_1\",\"myDevice\",\"cloud_0\",\"edge_0\",\"volunteer_5\",\"volunteer_3\",\"volunteer_2\",\"volunteer_9\",\"volunteer_6\",\"volunteer_3\",\"myDevice\",\"volunteer_8\",\"volunteer_1\",\"volunteer_2\",\"volunteer_7\",\"volunteer_8\",\"myDevice\",\"volunteer_6\",\"myDevice\",\"cloud_0\",\"edge_1\",\"myDevice\",\"volunteer_2\",\"volunteer_7\",\"volunteer_9\",\"volunteer_5\",\"cloud_0\",\"volunteer_6\",\"myDevice\",\"volunteer_7\",\"volunteer_1\",\"edge_0\",\"volunteer_6\",\"volunteer_3\",\"volunteer_7\",\"edge_1\",\"cloud_0\",\"edge_0\",\"myDevice\",\"volunteer_9\",\"volunteer_1\",\"volunteer_2\",\"volunteer_3\",\"volunteer_7\",\"volunteer_2\",\"volunteer_0\",\"volunteer_5\",\"cloud_0\",\"edge_1\",\"cloud_0\",\"volunteer_2\",\"volunteer_6\",\"volunteer_3\",\"edge_0\",\"volunteer_1\",\"cloud_0\",\"volunteer_0\",\"volunteer_5\",\"volunteer_7\",\"volunteer_6\",\"edge_0\",\"edge_1\",\"myDevice\",\"myDevice\",\"cloud_0\",\"volunteer_2\",\"myDevice\",\"volunteer_7\",\"volunteer_6\",\"volunteer_5\",\"edge_1\",\"volunteer_2\",\"edge_0\",\"volunteer_4\",\"edge_1\",\"volunteer_6\",\"cloud_0\",\"volunteer_7\",\"volunteer_5\",\"myDevice\",\"edge_0\",\"volunteer_2\",\"cloud_0\",\"volunteer_6\",\"volunteer_3\",\"volunteer_4\",\"volunteer_5\",\"volunteer_4\",\"edge_1\",\"volunteer_7\",\"volunteer_3\",\"volunteer_2\",\"volunteer_4\",\"volunteer_2\",\"volunteer_5\",\"volunteer_3\",\"edge_0\",\"myDevice\",\"cloud_0\",\"volunteer_3\",\"edge_0\",\"volunteer_4\",\"volunteer_5\",\"volunteer_3\",\"volunteer_7\",\"edge_1\",\"volunteer_7\",\"cloud_0\",\"myDevice\",\"edge_0\",\"volunteer_3\",\"edge_1\",\"volunteer_3\",\"volunteer_0\",\"myDevice\",\"volunteer_7\",\"volunteer_5\",\"volunteer_4\",\"edge_0\",\"cloud_0\",\"volunteer_0\",\"cloud_0\",\"myDevice\",\"volunteer_7\",\"edge_0\",\"edge_1\",\"volunteer_5\",\"cloud_0\",\"volunteer_3\",\"volunteer_3\",\"volunteer_7\",\"volunteer_5\",\"volunteer_9\",\"myDevice\",\"volunteer_9\",\"volunteer_0\",\"myDevice\",\"cloud_0\",\"volunteer_5\",\"volunteer_7\",\"volunteer_3\",\"edge_1\",\"edge_0\",\"edge_0\",\"volunteer_0\",\"edge_1\",\"volunteer_7\",\"volunteer_5\",\"edge_1\",\"volunteer_3\",\"volunteer_1\",\"volunteer_1\",\"volunteer_7\",\"myDevice\",\"volunteer_1\",\"edge_0\",\"volunteer_9\",\"volunteer_3\",\"cloud_0\",\"myDevice\",\"cloud_0\",\"volunteer_1\",\"volunteer_9\",\"edge_0\",\"edge_1\",\"myDevice\",\"volunteer_1\",\"volunteer_2\",\"volunteer_9\",\"volunteer_7\",\"edge_0\",\"cloud_0\",\"edge_1\",\"myDevice\",\"myDevice\",\"cloud_0\",\"volunteer_8\",\"volunteer_9\",\"edge_0\",\"edge_1\",\"volunteer_1\",\"volunteer_2\",\"cloud_0\",\"volunteer_2\",\"myDevice\",\"volunteer_7\",\"edge_1\",\"volunteer_9\",\"myDevice\",\"edge_0\",\"volunteer_2\",\"cloud_0\",\"myDevice\",\"volunteer_1\",\"volunteer_9\",\"volunteer_2\",\"volunteer_7\",\"volunteer_8\",\"volunteer_6\",\"edge_1\",\"volunteer_8\",\"edge_0\",\"cloud_0\",\"volunteer_1\",\"edge_1\",\"cloud_0\",\"volunteer_8\",\"volunteer_5\",\"volunteer_6\",\"volunteer_4\",\"volunteer_3\",\"volunteer_9\",\"volunteer_2\",\"volunteer_1\",\"volunteer_7\",\"myDevice\",\"volunteer_6\",\"edge_0\",\"volunteer_4\",\"volunteer_0\",\"volunteer_3\",\"volunteer_2\",\"cloud_0\",\"edge_1\",\"cloud_0\",\"volunteer_1\"],\"yaxis\":\"y\",\"type\":\"bar\"}],                        {\"template\":{\"data\":{\"histogram2dcontour\":[{\"type\":\"histogram2dcontour\",\"colorbar\":{\"outlinewidth\":0,\"ticks\":\"\"},\"colorscale\":[[0.0,\"#0d0887\"],[0.1111111111111111,\"#46039f\"],[0.2222222222222222,\"#7201a8\"],[0.3333333333333333,\"#9c179e\"],[0.4444444444444444,\"#bd3786\"],[0.5555555555555556,\"#d8576b\"],[0.6666666666666666,\"#ed7953\"],[0.7777777777777778,\"#fb9f3a\"],[0.8888888888888888,\"#fdca26\"],[1.0,\"#f0f921\"]]}],\"choropleth\":[{\"type\":\"choropleth\",\"colorbar\":{\"outlinewidth\":0,\"ticks\":\"\"}}],\"histogram2d\":[{\"type\":\"histogram2d\",\"colorbar\":{\"outlinewidth\":0,\"ticks\":\"\"},\"colorscale\":[[0.0,\"#0d0887\"],[0.1111111111111111,\"#46039f\"],[0.2222222222222222,\"#7201a8\"],[0.3333333333333333,\"#9c179e\"],[0.4444444444444444,\"#bd3786\"],[0.5555555555555556,\"#d8576b\"],[0.6666666666666666,\"#ed7953\"],[0.7777777777777778,\"#fb9f3a\"],[0.8888888888888888,\"#fdca26\"],[1.0,\"#f0f921\"]]}],\"heatmap\":[{\"type\":\"heatmap\",\"colorbar\":{\"outlinewidth\":0,\"ticks\":\"\"},\"colorscale\":[[0.0,\"#0d0887\"],[0.1111111111111111,\"#46039f\"],[0.2222222222222222,\"#7201a8\"],[0.3333333333333333,\"#9c179e\"],[0.4444444444444444,\"#bd3786\"],[0.5555555555555556,\"#d8576b\"],[0.6666666666666666,\"#ed7953\"],[0.7777777777777778,\"#fb9f3a\"],[0.8888888888888888,\"#fdca26\"],[1.0,\"#f0f921\"]]}],\"heatmapgl\":[{\"type\":\"heatmapgl\",\"colorbar\":{\"outlinewidth\":0,\"ticks\":\"\"},\"colorscale\":[[0.0,\"#0d0887\"],[0.1111111111111111,\"#46039f\"],[0.2222222222222222,\"#7201a8\"],[0.3333333333333333,\"#9c179e\"],[0.4444444444444444,\"#bd3786\"],[0.5555555555555556,\"#d8576b\"],[0.6666666666666666,\"#ed7953\"],[0.7777777777777778,\"#fb9f3a\"],[0.8888888888888888,\"#fdca26\"],[1.0,\"#f0f921\"]]}],\"contourcarpet\":[{\"type\":\"contourcarpet\",\"colorbar\":{\"outlinewidth\":0,\"ticks\":\"\"}}],\"contour\":[{\"type\":\"contour\",\"colorbar\":{\"outlinewidth\":0,\"ticks\":\"\"},\"colorscale\":[[0.0,\"#0d0887\"],[0.1111111111111111,\"#46039f\"],[0.2222222222222222,\"#7201a8\"],[0.3333333333333333,\"#9c179e\"],[0.4444444444444444,\"#bd3786\"],[0.5555555555555556,\"#d8576b\"],[0.6666666666666666,\"#ed7953\"],[0.7777777777777778,\"#fb9f3a\"],[0.8888888888888888,\"#fdca26\"],[1.0,\"#f0f921\"]]}],\"surface\":[{\"type\":\"surface\",\"colorbar\":{\"outlinewidth\":0,\"ticks\":\"\"},\"colorscale\":[[0.0,\"#0d0887\"],[0.1111111111111111,\"#46039f\"],[0.2222222222222222,\"#7201a8\"],[0.3333333333333333,\"#9c179e\"],[0.4444444444444444,\"#bd3786\"],[0.5555555555555556,\"#d8576b\"],[0.6666666666666666,\"#ed7953\"],[0.7777777777777778,\"#fb9f3a\"],[0.8888888888888888,\"#fdca26\"],[1.0,\"#f0f921\"]]}],\"mesh3d\":[{\"type\":\"mesh3d\",\"colorbar\":{\"outlinewidth\":0,\"ticks\":\"\"}}],\"scatter\":[{\"fillpattern\":{\"fillmode\":\"overlay\",\"size\":10,\"solidity\":0.2},\"type\":\"scatter\"}],\"parcoords\":[{\"type\":\"parcoords\",\"line\":{\"colorbar\":{\"outlinewidth\":0,\"ticks\":\"\"}}}],\"scatterpolargl\":[{\"type\":\"scatterpolargl\",\"marker\":{\"colorbar\":{\"outlinewidth\":0,\"ticks\":\"\"}}}],\"bar\":[{\"error_x\":{\"color\":\"#2a3f5f\"},\"error_y\":{\"color\":\"#2a3f5f\"},\"marker\":{\"line\":{\"color\":\"#E5ECF6\",\"width\":0.5},\"pattern\":{\"fillmode\":\"overlay\",\"size\":10,\"solidity\":0.2}},\"type\":\"bar\"}],\"scattergeo\":[{\"type\":\"scattergeo\",\"marker\":{\"colorbar\":{\"outlinewidth\":0,\"ticks\":\"\"}}}],\"scatterpolar\":[{\"type\":\"scatterpolar\",\"marker\":{\"colorbar\":{\"outlinewidth\":0,\"ticks\":\"\"}}}],\"histogram\":[{\"marker\":{\"pattern\":{\"fillmode\":\"overlay\",\"size\":10,\"solidity\":0.2}},\"type\":\"histogram\"}],\"scattergl\":[{\"type\":\"scattergl\",\"marker\":{\"colorbar\":{\"outlinewidth\":0,\"ticks\":\"\"}}}],\"scatter3d\":[{\"type\":\"scatter3d\",\"line\":{\"colorbar\":{\"outlinewidth\":0,\"ticks\":\"\"}},\"marker\":{\"colorbar\":{\"outlinewidth\":0,\"ticks\":\"\"}}}],\"scattermapbox\":[{\"type\":\"scattermapbox\",\"marker\":{\"colorbar\":{\"outlinewidth\":0,\"ticks\":\"\"}}}],\"scatterternary\":[{\"type\":\"scatterternary\",\"marker\":{\"colorbar\":{\"outlinewidth\":0,\"ticks\":\"\"}}}],\"scattercarpet\":[{\"type\":\"scattercarpet\",\"marker\":{\"colorbar\":{\"outlinewidth\":0,\"ticks\":\"\"}}}],\"carpet\":[{\"aaxis\":{\"endlinecolor\":\"#2a3f5f\",\"gridcolor\":\"white\",\"linecolor\":\"white\",\"minorgridcolor\":\"white\",\"startlinecolor\":\"#2a3f5f\"},\"baxis\":{\"endlinecolor\":\"#2a3f5f\",\"gridcolor\":\"white\",\"linecolor\":\"white\",\"minorgridcolor\":\"white\",\"startlinecolor\":\"#2a3f5f\"},\"type\":\"carpet\"}],\"table\":[{\"cells\":{\"fill\":{\"color\":\"#EBF0F8\"},\"line\":{\"color\":\"white\"}},\"header\":{\"fill\":{\"color\":\"#C8D4E3\"},\"line\":{\"color\":\"white\"}},\"type\":\"table\"}],\"barpolar\":[{\"marker\":{\"line\":{\"color\":\"#E5ECF6\",\"width\":0.5},\"pattern\":{\"fillmode\":\"overlay\",\"size\":10,\"solidity\":0.2}},\"type\":\"barpolar\"}],\"pie\":[{\"automargin\":true,\"type\":\"pie\"}]},\"layout\":{\"autotypenumbers\":\"strict\",\"colorway\":[\"#636efa\",\"#EF553B\",\"#00cc96\",\"#ab63fa\",\"#FFA15A\",\"#19d3f3\",\"#FF6692\",\"#B6E880\",\"#FF97FF\",\"#FECB52\"],\"font\":{\"color\":\"#2a3f5f\"},\"hovermode\":\"closest\",\"hoverlabel\":{\"align\":\"left\"},\"paper_bgcolor\":\"white\",\"plot_bgcolor\":\"#E5ECF6\",\"polar\":{\"bgcolor\":\"#E5ECF6\",\"angularaxis\":{\"gridcolor\":\"white\",\"linecolor\":\"white\",\"ticks\":\"\"},\"radialaxis\":{\"gridcolor\":\"white\",\"linecolor\":\"white\",\"ticks\":\"\"}},\"ternary\":{\"bgcolor\":\"#E5ECF6\",\"aaxis\":{\"gridcolor\":\"white\",\"linecolor\":\"white\",\"ticks\":\"\"},\"baxis\":{\"gridcolor\":\"white\",\"linecolor\":\"white\",\"ticks\":\"\"},\"caxis\":{\"gridcolor\":\"white\",\"linecolor\":\"white\",\"ticks\":\"\"}},\"coloraxis\":{\"colorbar\":{\"outlinewidth\":0,\"ticks\":\"\"}},\"colorscale\":{\"sequential\":[[0.0,\"#0d0887\"],[0.1111111111111111,\"#46039f\"],[0.2222222222222222,\"#7201a8\"],[0.3333333333333333,\"#9c179e\"],[0.4444444444444444,\"#bd3786\"],[0.5555555555555556,\"#d8576b\"],[0.6666666666666666,\"#ed7953\"],[0.7777777777777778,\"#fb9f3a\"],[0.8888888888888888,\"#fdca26\"],[1.0,\"#f0f921\"]],\"sequentialminus\":[[0.0,\"#0d0887\"],[0.1111111111111111,\"#46039f\"],[0.2222222222222222,\"#7201a8\"],[0.3333333333333333,\"#9c179e\"],[0.4444444444444444,\"#bd3786\"],[0.5555555555555556,\"#d8576b\"],[0.6666666666666666,\"#ed7953\"],[0.7777777777777778,\"#fb9f3a\"],[0.8888888888888888,\"#fdca26\"],[1.0,\"#f0f921\"]],\"diverging\":[[0,\"#8e0152\"],[0.1,\"#c51b7d\"],[0.2,\"#de77ae\"],[0.3,\"#f1b6da\"],[0.4,\"#fde0ef\"],[0.5,\"#f7f7f7\"],[0.6,\"#e6f5d0\"],[0.7,\"#b8e186\"],[0.8,\"#7fbc41\"],[0.9,\"#4d9221\"],[1,\"#276419\"]]},\"xaxis\":{\"gridcolor\":\"white\",\"linecolor\":\"white\",\"ticks\":\"\",\"title\":{\"standoff\":15},\"zerolinecolor\":\"white\",\"automargin\":true,\"zerolinewidth\":2},\"yaxis\":{\"gridcolor\":\"white\",\"linecolor\":\"white\",\"ticks\":\"\",\"title\":{\"standoff\":15},\"zerolinecolor\":\"white\",\"automargin\":true,\"zerolinewidth\":2},\"scene\":{\"xaxis\":{\"backgroundcolor\":\"#E5ECF6\",\"gridcolor\":\"white\",\"linecolor\":\"white\",\"showbackground\":true,\"ticks\":\"\",\"zerolinecolor\":\"white\",\"gridwidth\":2},\"yaxis\":{\"backgroundcolor\":\"#E5ECF6\",\"gridcolor\":\"white\",\"linecolor\":\"white\",\"showbackground\":true,\"ticks\":\"\",\"zerolinecolor\":\"white\",\"gridwidth\":2},\"zaxis\":{\"backgroundcolor\":\"#E5ECF6\",\"gridcolor\":\"white\",\"linecolor\":\"white\",\"showbackground\":true,\"ticks\":\"\",\"zerolinecolor\":\"white\",\"gridwidth\":2}},\"shapedefaults\":{\"line\":{\"color\":\"#2a3f5f\"}},\"annotationdefaults\":{\"arrowcolor\":\"#2a3f5f\",\"arrowhead\":0,\"arrowwidth\":1},\"geo\":{\"bgcolor\":\"white\",\"landcolor\":\"#E5ECF6\",\"subunitcolor\":\"white\",\"showland\":true,\"showlakes\":true,\"lakecolor\":\"white\"},\"title\":{\"x\":0.05},\"mapbox\":{\"style\":\"light\"}}},\"xaxis\":{\"anchor\":\"y\",\"domain\":[0.0,1.0],\"type\":\"date\"},\"yaxis\":{\"anchor\":\"x\",\"domain\":[0.0,1.0],\"title\":{\"text\":\"Unit\"},\"autorange\":\"reversed\"},\"coloraxis\":{\"colorbar\":{\"title\":{\"text\":\"TaskID\"}},\"colorscale\":[[0.0,\"#0d0887\"],[0.1111111111111111,\"#46039f\"],[0.2222222222222222,\"#7201a8\"],[0.3333333333333333,\"#9c179e\"],[0.4444444444444444,\"#bd3786\"],[0.5555555555555556,\"#d8576b\"],[0.6666666666666666,\"#ed7953\"],[0.7777777777777778,\"#fb9f3a\"],[0.8888888888888888,\"#fdca26\"],[1.0,\"#f0f921\"]]},\"legend\":{\"tracegroupgap\":0},\"margin\":{\"t\":60},\"barmode\":\"overlay\"},                        {\"responsive\": true}                    ).then(function(){\n",
              "                            \n",
              "var gd = document.getElementById('3705ee7f-cbb0-4981-b6af-e9d155fb5e9e');\n",
              "var x = new MutationObserver(function (mutations, observer) {{\n",
              "        var display = window.getComputedStyle(gd).display;\n",
              "        if (!display || display === 'none') {{\n",
              "            console.log([gd, 'removed!']);\n",
              "            Plotly.purge(gd);\n",
              "            observer.disconnect();\n",
              "        }}\n",
              "}});\n",
              "\n",
              "// Listen for the removal of the full notebook cells\n",
              "var notebookContainer = gd.closest('#notebook-container');\n",
              "if (notebookContainer) {{\n",
              "    x.observe(notebookContainer, {childList: true});\n",
              "}}\n",
              "\n",
              "// Listen for the clearing of the current output cell\n",
              "var outputEl = gd.closest('.output');\n",
              "if (outputEl) {{\n",
              "    x.observe(outputEl, {childList: true});\n",
              "}}\n",
              "\n",
              "                        })                };                            </script>        </div>\n",
              "</body>\n",
              "</html>"
            ]
          },
          "metadata": {}
        },
        {
          "output_type": "stream",
          "name": "stdout",
          "text": [
            "\n",
            "Network structure:\n",
            "cloud_0\n",
            "edge_0\n",
            "edge_1\n",
            "myDevice\n",
            "volunteer_0\n",
            "\tAvailability =  1\n",
            "\tTrust =  0.8499999999999999\n",
            "volunteer_1\n",
            "\tAvailability =  1\n",
            "\tTrust =  0.4608718487394958\n",
            "volunteer_2\n",
            "\tAvailability =  1\n",
            "\tTrust =  0.6215334805466276\n",
            "volunteer_3\n",
            "\tAvailability =  1\n",
            "\tTrust =  0.9333333333333333\n",
            "volunteer_4\n",
            "\tAvailability =  1\n",
            "\tTrust =  0.5779688418577307\n",
            "volunteer_5\n",
            "\tAvailability =  1\n",
            "\tTrust =  0.9375\n",
            "volunteer_6\n",
            "\tAvailability =  1\n",
            "\tTrust =  0.4131944444444444\n",
            "volunteer_7\n",
            "\tAvailability =  1\n",
            "\tTrust =  0.7757575757575758\n",
            "volunteer_8\n",
            "\tAvailability =  1\n",
            "\tTrust =  0.7529411764705881\n",
            "volunteer_9\n",
            "\tAvailability =  1\n",
            "\tTrust =  0.7472527472527474\n",
            "\n",
            "Number of not assigned tasks =  0\n",
            "Simulation1 total tasks delay = 283743 s\n"
          ]
        }
      ]
    }
  ],
  "metadata": {
    "colab": {
      "provenance": []
    },
    "kernelspec": {
      "display_name": "Python 3",
      "name": "python3"
    },
    "language_info": {
      "name": "python"
    }
  },
  "nbformat": 4,
  "nbformat_minor": 0
}